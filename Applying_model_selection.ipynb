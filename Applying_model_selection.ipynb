{
 "cells": [
  {
   "cell_type": "code",
   "execution_count": 1,
   "metadata": {},
   "outputs": [
    {
     "data": {
      "text/html": [
       "\n",
       "    <div class=\"bk-root\">\n",
       "        <a href=\"https://bokeh.pydata.org\" target=\"_blank\" class=\"bk-logo bk-logo-small bk-logo-notebook\"></a>\n",
       "        <span id=\"a2f43852-c20c-46b7-8130-aacbd12a3800\">Loading BokehJS ...</span>\n",
       "    </div>"
      ]
     },
     "metadata": {},
     "output_type": "display_data"
    },
    {
     "data": {
      "application/javascript": [
       "\n",
       "(function(root) {\n",
       "  function now() {\n",
       "    return new Date();\n",
       "  }\n",
       "\n",
       "  var force = true;\n",
       "\n",
       "  if (typeof (root._bokeh_onload_callbacks) === \"undefined\" || force === true) {\n",
       "    root._bokeh_onload_callbacks = [];\n",
       "    root._bokeh_is_loading = undefined;\n",
       "  }\n",
       "\n",
       "  var JS_MIME_TYPE = 'application/javascript';\n",
       "  var HTML_MIME_TYPE = 'text/html';\n",
       "  var EXEC_MIME_TYPE = 'application/vnd.bokehjs_exec.v0+json';\n",
       "  var CLASS_NAME = 'output_bokeh rendered_html';\n",
       "\n",
       "  /**\n",
       "   * Render data to the DOM node\n",
       "   */\n",
       "  function render(props, node) {\n",
       "    var script = document.createElement(\"script\");\n",
       "    node.appendChild(script);\n",
       "  }\n",
       "\n",
       "  /**\n",
       "   * Handle when an output is cleared or removed\n",
       "   */\n",
       "  function handleClearOutput(event, handle) {\n",
       "    var cell = handle.cell;\n",
       "\n",
       "    var id = cell.output_area._bokeh_element_id;\n",
       "    var server_id = cell.output_area._bokeh_server_id;\n",
       "    // Clean up Bokeh references\n",
       "    if (id !== undefined) {\n",
       "      Bokeh.index[id].model.document.clear();\n",
       "      delete Bokeh.index[id];\n",
       "    }\n",
       "\n",
       "    if (server_id !== undefined) {\n",
       "      // Clean up Bokeh references\n",
       "      var cmd = \"from bokeh.io.state import curstate; print(curstate().uuid_to_server['\" + server_id + \"'].get_sessions()[0].document.roots[0]._id)\";\n",
       "      cell.notebook.kernel.execute(cmd, {\n",
       "        iopub: {\n",
       "          output: function(msg) {\n",
       "            var element_id = msg.content.text.trim();\n",
       "            Bokeh.index[element_id].model.document.clear();\n",
       "            delete Bokeh.index[element_id];\n",
       "          }\n",
       "        }\n",
       "      });\n",
       "      // Destroy server and session\n",
       "      var cmd = \"import bokeh.io.notebook as ion; ion.destroy_server('\" + server_id + \"')\";\n",
       "      cell.notebook.kernel.execute(cmd);\n",
       "    }\n",
       "  }\n",
       "\n",
       "  /**\n",
       "   * Handle when a new output is added\n",
       "   */\n",
       "  function handleAddOutput(event, handle) {\n",
       "    var output_area = handle.output_area;\n",
       "    var output = handle.output;\n",
       "\n",
       "    // limit handleAddOutput to display_data with EXEC_MIME_TYPE content only\n",
       "    if ((output.output_type != \"display_data\") || (!output.data.hasOwnProperty(EXEC_MIME_TYPE))) {\n",
       "      return\n",
       "    }\n",
       "\n",
       "    var toinsert = output_area.element.find(\".\" + CLASS_NAME.split(' ')[0]);\n",
       "\n",
       "    if (output.metadata[EXEC_MIME_TYPE][\"id\"] !== undefined) {\n",
       "      toinsert[toinsert.length - 1].firstChild.textContent = output.data[JS_MIME_TYPE];\n",
       "      // store reference to embed id on output_area\n",
       "      output_area._bokeh_element_id = output.metadata[EXEC_MIME_TYPE][\"id\"];\n",
       "    }\n",
       "    if (output.metadata[EXEC_MIME_TYPE][\"server_id\"] !== undefined) {\n",
       "      var bk_div = document.createElement(\"div\");\n",
       "      bk_div.innerHTML = output.data[HTML_MIME_TYPE];\n",
       "      var script_attrs = bk_div.children[0].attributes;\n",
       "      for (var i = 0; i < script_attrs.length; i++) {\n",
       "        toinsert[toinsert.length - 1].firstChild.setAttribute(script_attrs[i].name, script_attrs[i].value);\n",
       "      }\n",
       "      // store reference to server id on output_area\n",
       "      output_area._bokeh_server_id = output.metadata[EXEC_MIME_TYPE][\"server_id\"];\n",
       "    }\n",
       "  }\n",
       "\n",
       "  function register_renderer(events, OutputArea) {\n",
       "\n",
       "    function append_mime(data, metadata, element) {\n",
       "      // create a DOM node to render to\n",
       "      var toinsert = this.create_output_subarea(\n",
       "        metadata,\n",
       "        CLASS_NAME,\n",
       "        EXEC_MIME_TYPE\n",
       "      );\n",
       "      this.keyboard_manager.register_events(toinsert);\n",
       "      // Render to node\n",
       "      var props = {data: data, metadata: metadata[EXEC_MIME_TYPE]};\n",
       "      render(props, toinsert[toinsert.length - 1]);\n",
       "      element.append(toinsert);\n",
       "      return toinsert\n",
       "    }\n",
       "\n",
       "    /* Handle when an output is cleared or removed */\n",
       "    events.on('clear_output.CodeCell', handleClearOutput);\n",
       "    events.on('delete.Cell', handleClearOutput);\n",
       "\n",
       "    /* Handle when a new output is added */\n",
       "    events.on('output_added.OutputArea', handleAddOutput);\n",
       "\n",
       "    /**\n",
       "     * Register the mime type and append_mime function with output_area\n",
       "     */\n",
       "    OutputArea.prototype.register_mime_type(EXEC_MIME_TYPE, append_mime, {\n",
       "      /* Is output safe? */\n",
       "      safe: true,\n",
       "      /* Index of renderer in `output_area.display_order` */\n",
       "      index: 0\n",
       "    });\n",
       "  }\n",
       "\n",
       "  // register the mime type if in Jupyter Notebook environment and previously unregistered\n",
       "  if (root.Jupyter !== undefined) {\n",
       "    var events = require('base/js/events');\n",
       "    var OutputArea = require('notebook/js/outputarea').OutputArea;\n",
       "\n",
       "    if (OutputArea.prototype.mime_types().indexOf(EXEC_MIME_TYPE) == -1) {\n",
       "      register_renderer(events, OutputArea);\n",
       "    }\n",
       "  }\n",
       "\n",
       "  \n",
       "  if (typeof (root._bokeh_timeout) === \"undefined\" || force === true) {\n",
       "    root._bokeh_timeout = Date.now() + 5000;\n",
       "    root._bokeh_failed_load = false;\n",
       "  }\n",
       "\n",
       "  var NB_LOAD_WARNING = {'data': {'text/html':\n",
       "     \"<div style='background-color: #fdd'>\\n\"+\n",
       "     \"<p>\\n\"+\n",
       "     \"BokehJS does not appear to have successfully loaded. If loading BokehJS from CDN, this \\n\"+\n",
       "     \"may be due to a slow or bad network connection. Possible fixes:\\n\"+\n",
       "     \"</p>\\n\"+\n",
       "     \"<ul>\\n\"+\n",
       "     \"<li>re-rerun `output_notebook()` to attempt to load from CDN again, or</li>\\n\"+\n",
       "     \"<li>use INLINE resources instead, as so:</li>\\n\"+\n",
       "     \"</ul>\\n\"+\n",
       "     \"<code>\\n\"+\n",
       "     \"from bokeh.resources import INLINE\\n\"+\n",
       "     \"output_notebook(resources=INLINE)\\n\"+\n",
       "     \"</code>\\n\"+\n",
       "     \"</div>\"}};\n",
       "\n",
       "  function display_loaded() {\n",
       "    var el = document.getElementById(\"a2f43852-c20c-46b7-8130-aacbd12a3800\");\n",
       "    if (el != null) {\n",
       "      el.textContent = \"BokehJS is loading...\";\n",
       "    }\n",
       "    if (root.Bokeh !== undefined) {\n",
       "      if (el != null) {\n",
       "        el.textContent = \"BokehJS \" + root.Bokeh.version + \" successfully loaded.\";\n",
       "      }\n",
       "    } else if (Date.now() < root._bokeh_timeout) {\n",
       "      setTimeout(display_loaded, 100)\n",
       "    }\n",
       "  }\n",
       "\n",
       "\n",
       "  function run_callbacks() {\n",
       "    try {\n",
       "      root._bokeh_onload_callbacks.forEach(function(callback) { callback() });\n",
       "    }\n",
       "    finally {\n",
       "      delete root._bokeh_onload_callbacks\n",
       "    }\n",
       "    console.info(\"Bokeh: all callbacks have finished\");\n",
       "  }\n",
       "\n",
       "  function load_libs(js_urls, callback) {\n",
       "    root._bokeh_onload_callbacks.push(callback);\n",
       "    if (root._bokeh_is_loading > 0) {\n",
       "      console.log(\"Bokeh: BokehJS is being loaded, scheduling callback at\", now());\n",
       "      return null;\n",
       "    }\n",
       "    if (js_urls == null || js_urls.length === 0) {\n",
       "      run_callbacks();\n",
       "      return null;\n",
       "    }\n",
       "    console.log(\"Bokeh: BokehJS not loaded, scheduling load and callback at\", now());\n",
       "    root._bokeh_is_loading = js_urls.length;\n",
       "    for (var i = 0; i < js_urls.length; i++) {\n",
       "      var url = js_urls[i];\n",
       "      var s = document.createElement('script');\n",
       "      s.src = url;\n",
       "      s.async = false;\n",
       "      s.onreadystatechange = s.onload = function() {\n",
       "        root._bokeh_is_loading--;\n",
       "        if (root._bokeh_is_loading === 0) {\n",
       "          console.log(\"Bokeh: all BokehJS libraries loaded\");\n",
       "          run_callbacks()\n",
       "        }\n",
       "      };\n",
       "      s.onerror = function() {\n",
       "        console.warn(\"failed to load library \" + url);\n",
       "      };\n",
       "      console.log(\"Bokeh: injecting script tag for BokehJS library: \", url);\n",
       "      document.getElementsByTagName(\"head\")[0].appendChild(s);\n",
       "    }\n",
       "  };var element = document.getElementById(\"a2f43852-c20c-46b7-8130-aacbd12a3800\");\n",
       "  if (element == null) {\n",
       "    console.log(\"Bokeh: ERROR: autoload.js configured with elementid 'a2f43852-c20c-46b7-8130-aacbd12a3800' but no matching script tag was found. \")\n",
       "    return false;\n",
       "  }\n",
       "\n",
       "  var js_urls = [\"https://cdn.pydata.org/bokeh/release/bokeh-0.12.16.min.js\", \"https://cdn.pydata.org/bokeh/release/bokeh-widgets-0.12.16.min.js\", \"https://cdn.pydata.org/bokeh/release/bokeh-tables-0.12.16.min.js\", \"https://cdn.pydata.org/bokeh/release/bokeh-gl-0.12.16.min.js\"];\n",
       "\n",
       "  var inline_js = [\n",
       "    function(Bokeh) {\n",
       "      Bokeh.set_log_level(\"info\");\n",
       "    },\n",
       "    \n",
       "    function(Bokeh) {\n",
       "      \n",
       "    },\n",
       "    function(Bokeh) {\n",
       "      console.log(\"Bokeh: injecting CSS: https://cdn.pydata.org/bokeh/release/bokeh-0.12.16.min.css\");\n",
       "      Bokeh.embed.inject_css(\"https://cdn.pydata.org/bokeh/release/bokeh-0.12.16.min.css\");\n",
       "      console.log(\"Bokeh: injecting CSS: https://cdn.pydata.org/bokeh/release/bokeh-widgets-0.12.16.min.css\");\n",
       "      Bokeh.embed.inject_css(\"https://cdn.pydata.org/bokeh/release/bokeh-widgets-0.12.16.min.css\");\n",
       "      console.log(\"Bokeh: injecting CSS: https://cdn.pydata.org/bokeh/release/bokeh-tables-0.12.16.min.css\");\n",
       "      Bokeh.embed.inject_css(\"https://cdn.pydata.org/bokeh/release/bokeh-tables-0.12.16.min.css\");\n",
       "    }\n",
       "  ];\n",
       "\n",
       "  function run_inline_js() {\n",
       "    \n",
       "    if ((root.Bokeh !== undefined) || (force === true)) {\n",
       "      for (var i = 0; i < inline_js.length; i++) {\n",
       "        inline_js[i].call(root, root.Bokeh);\n",
       "      }if (force === true) {\n",
       "        display_loaded();\n",
       "      }} else if (Date.now() < root._bokeh_timeout) {\n",
       "      setTimeout(run_inline_js, 100);\n",
       "    } else if (!root._bokeh_failed_load) {\n",
       "      console.log(\"Bokeh: BokehJS failed to load within specified timeout.\");\n",
       "      root._bokeh_failed_load = true;\n",
       "    } else if (force !== true) {\n",
       "      var cell = $(document.getElementById(\"a2f43852-c20c-46b7-8130-aacbd12a3800\")).parents('.cell').data().cell;\n",
       "      cell.output_area.append_execute_result(NB_LOAD_WARNING)\n",
       "    }\n",
       "\n",
       "  }\n",
       "\n",
       "  if (root._bokeh_is_loading === 0) {\n",
       "    console.log(\"Bokeh: BokehJS loaded, going straight to plotting\");\n",
       "    run_inline_js();\n",
       "  } else {\n",
       "    load_libs(js_urls, function() {\n",
       "      console.log(\"Bokeh: BokehJS plotting callback run at\", now());\n",
       "      run_inline_js();\n",
       "    });\n",
       "  }\n",
       "}(window));"
      ],
      "application/vnd.bokehjs_load.v0+json": "\n(function(root) {\n  function now() {\n    return new Date();\n  }\n\n  var force = true;\n\n  if (typeof (root._bokeh_onload_callbacks) === \"undefined\" || force === true) {\n    root._bokeh_onload_callbacks = [];\n    root._bokeh_is_loading = undefined;\n  }\n\n  \n\n  \n  if (typeof (root._bokeh_timeout) === \"undefined\" || force === true) {\n    root._bokeh_timeout = Date.now() + 5000;\n    root._bokeh_failed_load = false;\n  }\n\n  var NB_LOAD_WARNING = {'data': {'text/html':\n     \"<div style='background-color: #fdd'>\\n\"+\n     \"<p>\\n\"+\n     \"BokehJS does not appear to have successfully loaded. If loading BokehJS from CDN, this \\n\"+\n     \"may be due to a slow or bad network connection. Possible fixes:\\n\"+\n     \"</p>\\n\"+\n     \"<ul>\\n\"+\n     \"<li>re-rerun `output_notebook()` to attempt to load from CDN again, or</li>\\n\"+\n     \"<li>use INLINE resources instead, as so:</li>\\n\"+\n     \"</ul>\\n\"+\n     \"<code>\\n\"+\n     \"from bokeh.resources import INLINE\\n\"+\n     \"output_notebook(resources=INLINE)\\n\"+\n     \"</code>\\n\"+\n     \"</div>\"}};\n\n  function display_loaded() {\n    var el = document.getElementById(\"a2f43852-c20c-46b7-8130-aacbd12a3800\");\n    if (el != null) {\n      el.textContent = \"BokehJS is loading...\";\n    }\n    if (root.Bokeh !== undefined) {\n      if (el != null) {\n        el.textContent = \"BokehJS \" + root.Bokeh.version + \" successfully loaded.\";\n      }\n    } else if (Date.now() < root._bokeh_timeout) {\n      setTimeout(display_loaded, 100)\n    }\n  }\n\n\n  function run_callbacks() {\n    try {\n      root._bokeh_onload_callbacks.forEach(function(callback) { callback() });\n    }\n    finally {\n      delete root._bokeh_onload_callbacks\n    }\n    console.info(\"Bokeh: all callbacks have finished\");\n  }\n\n  function load_libs(js_urls, callback) {\n    root._bokeh_onload_callbacks.push(callback);\n    if (root._bokeh_is_loading > 0) {\n      console.log(\"Bokeh: BokehJS is being loaded, scheduling callback at\", now());\n      return null;\n    }\n    if (js_urls == null || js_urls.length === 0) {\n      run_callbacks();\n      return null;\n    }\n    console.log(\"Bokeh: BokehJS not loaded, scheduling load and callback at\", now());\n    root._bokeh_is_loading = js_urls.length;\n    for (var i = 0; i < js_urls.length; i++) {\n      var url = js_urls[i];\n      var s = document.createElement('script');\n      s.src = url;\n      s.async = false;\n      s.onreadystatechange = s.onload = function() {\n        root._bokeh_is_loading--;\n        if (root._bokeh_is_loading === 0) {\n          console.log(\"Bokeh: all BokehJS libraries loaded\");\n          run_callbacks()\n        }\n      };\n      s.onerror = function() {\n        console.warn(\"failed to load library \" + url);\n      };\n      console.log(\"Bokeh: injecting script tag for BokehJS library: \", url);\n      document.getElementsByTagName(\"head\")[0].appendChild(s);\n    }\n  };var element = document.getElementById(\"a2f43852-c20c-46b7-8130-aacbd12a3800\");\n  if (element == null) {\n    console.log(\"Bokeh: ERROR: autoload.js configured with elementid 'a2f43852-c20c-46b7-8130-aacbd12a3800' but no matching script tag was found. \")\n    return false;\n  }\n\n  var js_urls = [\"https://cdn.pydata.org/bokeh/release/bokeh-0.12.16.min.js\", \"https://cdn.pydata.org/bokeh/release/bokeh-widgets-0.12.16.min.js\", \"https://cdn.pydata.org/bokeh/release/bokeh-tables-0.12.16.min.js\", \"https://cdn.pydata.org/bokeh/release/bokeh-gl-0.12.16.min.js\"];\n\n  var inline_js = [\n    function(Bokeh) {\n      Bokeh.set_log_level(\"info\");\n    },\n    \n    function(Bokeh) {\n      \n    },\n    function(Bokeh) {\n      console.log(\"Bokeh: injecting CSS: https://cdn.pydata.org/bokeh/release/bokeh-0.12.16.min.css\");\n      Bokeh.embed.inject_css(\"https://cdn.pydata.org/bokeh/release/bokeh-0.12.16.min.css\");\n      console.log(\"Bokeh: injecting CSS: https://cdn.pydata.org/bokeh/release/bokeh-widgets-0.12.16.min.css\");\n      Bokeh.embed.inject_css(\"https://cdn.pydata.org/bokeh/release/bokeh-widgets-0.12.16.min.css\");\n      console.log(\"Bokeh: injecting CSS: https://cdn.pydata.org/bokeh/release/bokeh-tables-0.12.16.min.css\");\n      Bokeh.embed.inject_css(\"https://cdn.pydata.org/bokeh/release/bokeh-tables-0.12.16.min.css\");\n    }\n  ];\n\n  function run_inline_js() {\n    \n    if ((root.Bokeh !== undefined) || (force === true)) {\n      for (var i = 0; i < inline_js.length; i++) {\n        inline_js[i].call(root, root.Bokeh);\n      }if (force === true) {\n        display_loaded();\n      }} else if (Date.now() < root._bokeh_timeout) {\n      setTimeout(run_inline_js, 100);\n    } else if (!root._bokeh_failed_load) {\n      console.log(\"Bokeh: BokehJS failed to load within specified timeout.\");\n      root._bokeh_failed_load = true;\n    } else if (force !== true) {\n      var cell = $(document.getElementById(\"a2f43852-c20c-46b7-8130-aacbd12a3800\")).parents('.cell').data().cell;\n      cell.output_area.append_execute_result(NB_LOAD_WARNING)\n    }\n\n  }\n\n  if (root._bokeh_is_loading === 0) {\n    console.log(\"Bokeh: BokehJS loaded, going straight to plotting\");\n    run_inline_js();\n  } else {\n    load_libs(js_urls, function() {\n      console.log(\"Bokeh: BokehJS plotting callback run at\", now());\n      run_inline_js();\n    });\n  }\n}(window));"
     },
     "metadata": {},
     "output_type": "display_data"
    }
   ],
   "source": [
    "from IPython.core.interactiveshell import InteractiveShell\n",
    "InteractiveShell.ast_node_interactivity = \"all\"\n",
    "\n",
    "import pandas as pd\n",
    "import warnings\n",
    "warnings.filterwarnings('ignore')\n",
    "\n",
    "from bokeh.plotting import output_notebook, show\n",
    "output_notebook()"
   ]
  },
  {
   "cell_type": "code",
   "execution_count": 2,
   "metadata": {},
   "outputs": [],
   "source": [
    "base = pd.read_csv(\"HR_comma_sep.csv\") #source = https://www.kaggle.com/liujiaqi/hr-comma-sepcsv/version/1"
   ]
  },
  {
   "cell_type": "code",
   "execution_count": 3,
   "metadata": {},
   "outputs": [
    {
     "data": {
      "text/plain": [
       "(14999, 10)"
      ]
     },
     "execution_count": 3,
     "metadata": {},
     "output_type": "execute_result"
    }
   ],
   "source": [
    "base.shape"
   ]
  },
  {
   "cell_type": "markdown",
   "metadata": {},
   "source": [
    "###### We'll use the same file to simulate the following datasets\n",
    "Train: the data we use to train and validate the models<br>\n",
    "holdout_data: the final test set to judge the real world model <br>\n",
    "new_data: new data the model will be applied on in production."
   ]
  },
  {
   "cell_type": "code",
   "execution_count": 4,
   "metadata": {},
   "outputs": [],
   "source": [
    "train = base.sample(10000)\n",
    "holdout_data = base[~base.index.isin(train.index)]\n",
    "new_data = holdout_data.sample(2000).drop(\"left\", axis=1) # removing the target as this won't have it in real use cases\n",
    "holdout_data = holdout_data[~holdout_data.index.isin(new_data.index)]"
   ]
  },
  {
   "cell_type": "code",
   "execution_count": 5,
   "metadata": {},
   "outputs": [
    {
     "data": {
      "text/plain": [
       "(10000, 10)"
      ]
     },
     "execution_count": 5,
     "metadata": {},
     "output_type": "execute_result"
    },
    {
     "data": {
      "text/plain": [
       "(2999, 10)"
      ]
     },
     "execution_count": 5,
     "metadata": {},
     "output_type": "execute_result"
    },
    {
     "data": {
      "text/plain": [
       "(2000, 9)"
      ]
     },
     "execution_count": 5,
     "metadata": {},
     "output_type": "execute_result"
    }
   ],
   "source": [
    "train.shape\n",
    "holdout_data.shape\n",
    "new_data.shape"
   ]
  },
  {
   "cell_type": "code",
   "execution_count": 6,
   "metadata": {},
   "outputs": [],
   "source": [
    "import Model_selection, importlib"
   ]
  },
  {
   "cell_type": "markdown",
   "metadata": {},
   "source": [
    "###### The following are the parameters used during the class instantiation\n",
    "modelBase: the training data<br>\n",
    "\n",
    "target: the target class to predict - must be an integer<br>\n",
    "\n",
    "scoring: any one of scikit learn's scorers - http://scikit-learn.org/stable/modules/model_evaluation.html<br>\n",
    "\n",
    "n_jobs: number of CPU cores to use<br>\n",
    "\n",
    "learning_curve: if true, scikit learn's learning curve will be used to determine the ideal training set size for cross validation<br>\n",
    "\n",
    "automated: if false, we will have to call functions apply_models and evaluate_models to get the performance characteristics<br>\n",
    "\n",
    "models: the models we want to test. we can use any or all of gbm, svm, random forest, logistic regression and naive_bayes<br>\n",
    "\n",
    "categorical_columns: a list of columns that will be used as categorical. If the columns are integer but need to be used as a category, python may change the type at times, so the data will be padded with an underscore "
   ]
  },
  {
   "cell_type": "code",
   "execution_count": 7,
   "metadata": {
    "scrolled": false
   },
   "outputs": [
    {
     "name": "stdout",
     "output_type": "stream",
     "text": [
      "Fitting 5 folds for each of 100 candidates, totalling 500 fits\n"
     ]
    },
    {
     "name": "stderr",
     "output_type": "stream",
     "text": [
      "[Parallel(n_jobs=-1)]: Done  42 tasks      | elapsed:  1.1min\n",
      "[Parallel(n_jobs=-1)]: Done 192 tasks      | elapsed:  2.8min\n",
      "[Parallel(n_jobs=-1)]: Done 442 tasks      | elapsed:  7.0min\n",
      "[Parallel(n_jobs=-1)]: Done 500 out of 500 | elapsed:  7.4min finished\n"
     ]
    },
    {
     "name": "stdout",
     "output_type": "stream",
     "text": [
      "gbm best CV score: -0.09654800561851402\n",
      "gbm fitting complete\n",
      "\n",
      "Fitting 5 folds for each of 100 candidates, totalling 500 fits\n"
     ]
    },
    {
     "name": "stderr",
     "output_type": "stream",
     "text": [
      "[Parallel(n_jobs=-1)]: Done  42 tasks      | elapsed:   27.4s\n",
      "[Parallel(n_jobs=-1)]: Done 192 tasks      | elapsed:  1.7min\n",
      "[Parallel(n_jobs=-1)]: Done 442 tasks      | elapsed:  3.3min\n",
      "[Parallel(n_jobs=-1)]: Done 500 out of 500 | elapsed:  3.8min finished\n"
     ]
    },
    {
     "name": "stdout",
     "output_type": "stream",
     "text": [
      "random_forest best CV score: -0.18162603617050307\n",
      "random_forest fitting complete\n",
      "\n",
      "Fitting 5 folds for each of 4 candidates, totalling 20 fits\n"
     ]
    },
    {
     "name": "stderr",
     "output_type": "stream",
     "text": [
      "[Parallel(n_jobs=-1)]: Done  20 out of  20 | elapsed:  2.1min finished\n"
     ]
    },
    {
     "name": "stdout",
     "output_type": "stream",
     "text": [
      "Fitting 5 folds for each of 36 candidates, totalling 180 fits\n"
     ]
    },
    {
     "name": "stderr",
     "output_type": "stream",
     "text": [
      "[Parallel(n_jobs=-1)]: Done  42 tasks      | elapsed:  4.4min\n",
      "[Parallel(n_jobs=-1)]: Done 180 out of 180 | elapsed: 21.6min finished\n"
     ]
    },
    {
     "name": "stdout",
     "output_type": "stream",
     "text": [
      "svm best CV score: -0.11417308320612672\n",
      "svm fitting complete\n",
      "\n",
      "Fitting 5 folds for each of 5 candidates, totalling 25 fits\n"
     ]
    },
    {
     "name": "stderr",
     "output_type": "stream",
     "text": [
      "[Parallel(n_jobs=-1)]: Done  25 out of  25 | elapsed:   27.0s finished\n"
     ]
    },
    {
     "name": "stdout",
     "output_type": "stream",
     "text": [
      "logistic_regression best CV score: -0.4366707680398868\n",
      "logistic_regression fitting complete\n",
      "\n",
      "gbm Training accuracy:98.85%\n",
      "gbm Test accuracy:97.7%\n",
      "gbm Training f1_score:97.6%\n",
      "gbm Test f1_score:95.35%\n",
      "\n",
      "random_forest Training accuracy:93.96%\n",
      "random_forest Test accuracy:93.6%\n",
      "random_forest Training f1_score:87.73%\n",
      "random_forest Test f1_score:87.52%\n",
      "\n",
      "svm Training accuracy:99.84%\n",
      "svm Test accuracy:97.35%\n",
      "svm Training f1_score:99.66%\n",
      "svm Test f1_score:94.67%\n",
      "\n",
      "logistic_regression Training accuracy:79.36%\n",
      "logistic_regression Test accuracy:78.9%\n",
      "logistic_regression Training f1_score:46.66%\n",
      "logistic_regression Test f1_score:47.9%\n",
      "\n"
     ]
    }
   ],
   "source": [
    "ms = Model_selection.model_train(modelBase=train, target=\"left\", scoring=\"neg_log_loss\", n_jobs=-1, learning_curve=True, automated=True, models=[\"gbm\", \"random_forest\", \"svm\", \"logistic_regression\"], categorical_columns=[\"Work_accident\", \"promotion_last_5years\"])"
   ]
  },
  {
   "cell_type": "markdown",
   "metadata": {},
   "source": [
    "###### Selecting and retraining the model\n",
    "One or more than one models can be selected and they will be trained on the full train/validation split used above to test on the final holdout set<br>\n",
    "\n",
    "Multiple holdout sets can be added to the function test_on_holdout_data and the performance plots and tables will bet updated accordingly<br>\n",
    "\n",
    "The plots will be a part of the dictionary ms.plots<br>\n",
    "The tables used to calculate the KS and Gini Coeficients will be a part of the dictionary ms.Gini_table"
   ]
  },
  {
   "cell_type": "code",
   "execution_count": 8,
   "metadata": {},
   "outputs": [],
   "source": [
    "ms.select_retrain_model([\"random_forest\"])"
   ]
  },
  {
   "cell_type": "code",
   "execution_count": 9,
   "metadata": {},
   "outputs": [
    {
     "data": {
      "text/html": [
       "\n",
       "<div class=\"bk-root\">\n",
       "    <div class=\"bk-plotdiv\" id=\"cf683d00-a870-4aa4-9a75-6f3c20bf52d7\"></div>\n",
       "</div>"
      ]
     },
     "metadata": {},
     "output_type": "display_data"
    },
    {
     "data": {
      "application/javascript": [
       "(function(root) {\n",
       "  function embed_document(root) {\n",
       "    \n",
       "  var docs_json = {\"970374b4-978a-4189-b5a7-3f368db68dda\":{\"roots\":{\"references\":[{\"attributes\":{\"data_source\":{\"id\":\"6c28b98d-3be4-4d55-9cef-87551393983f\",\"type\":\"ColumnDataSource\"},\"glyph\":{\"id\":\"7bce6ebc-b3e6-48f7-a872-c1861cde06d1\",\"type\":\"Line\"},\"hover_glyph\":null,\"muted_glyph\":null,\"nonselection_glyph\":{\"id\":\"28dddb4d-e1ea-4b80-8007-7076886e4b44\",\"type\":\"Line\"},\"selection_glyph\":null,\"view\":{\"id\":\"d7c18be0-f85c-4243-9226-70411ae55dbb\",\"type\":\"CDSView\"}},\"id\":\"070f3a19-80ab-4e9e-b553-00575d9ea47a\",\"type\":\"GlyphRenderer\"},{\"attributes\":{},\"id\":\"25010bc9-3b57-416d-8f9b-65a509e426c1\",\"type\":\"WheelZoomTool\"},{\"attributes\":{},\"id\":\"d786cd26-93ca-481d-9d6d-323c21f49abc\",\"type\":\"Selection\"},{\"attributes\":{},\"id\":\"8f82c160-76b1-401c-8203-19e8a9234b00\",\"type\":\"LinearScale\"},{\"attributes\":{},\"id\":\"5a3626e9-7596-4dc5-a05c-2a116a1421e6\",\"type\":\"ResetTool\"},{\"attributes\":{},\"id\":\"5dc57e7d-dad3-4af1-b6e7-95501fa4354c\",\"type\":\"HelpTool\"},{\"attributes\":{\"label\":{\"value\":\"Event distribution - training\"},\"renderers\":[{\"id\":\"bc7ccd0d-2e39-4964-b18d-e2027612730c\",\"type\":\"GlyphRenderer\"}]},\"id\":\"ca16ab66-3f81-484a-894d-bd85dedbd2e0\",\"type\":\"LegendItem\"},{\"attributes\":{\"source\":{\"id\":\"24a23800-0360-4023-a008-bc9807a9e10d\",\"type\":\"ColumnDataSource\"}},\"id\":\"4f7a8959-a2b7-40f8-99ea-5c9dba754f39\",\"type\":\"CDSView\"},{\"attributes\":{},\"id\":\"67bddcdf-e031-4ca6-9548-b3ce6c4806d9\",\"type\":\"UnionRenderers\"},{\"attributes\":{\"background_fill_color\":{\"value\":\"white\"},\"border_line_alpha\":{\"value\":0.0},\"plot\":{\"id\":\"09c3f537-690b-4e5b-959a-ecb0ffc94230\",\"subtype\":\"Figure\",\"type\":\"Plot\"},\"render_mode\":\"css\",\"text\":\"training KS: 83.97%\",\"x\":70,\"x_units\":\"screen\",\"y\":-20,\"y_units\":\"screen\"},\"id\":\"c1daf2e2-3353-4b1c-9002-c1b6c493fed8\",\"type\":\"Label\"},{\"attributes\":{},\"id\":\"0d333b1d-21bf-4bd8-b776-cec614b8c2ac\",\"type\":\"BasicTickFormatter\"},{\"attributes\":{},\"id\":\"a7c5b1b6-285e-4561-84a3-81cedd8cc6a2\",\"type\":\"SaveTool\"},{\"attributes\":{\"callback\":null,\"data\":{\"x\":{\"__ndarray__\":\"AAAAAAAAAABzGnlF7UtYP22CvD9Vj5I/N5OmJ4SXuD8XidbaTJrOPxI5O/QaHdY/4pZLALVp3j9g6+S5RT/kP2Dr5LlFP+Q/AAAAAAAA8D8=\",\"dtype\":\"float64\",\"shape\":[10]},\"y\":{\"__ndarray__\":\"AAAAAAAAAAAAl0csViLXP5UO9kACreU/gKg7evLx7T/4VlAmffDuP5Dv83CEa+8/LRv5Gyer7z+XjfyNk9XvP5eN/I2T1e8/AAAAAAAA8D8=\",\"dtype\":\"float64\",\"shape\":[10]}},\"selected\":{\"id\":\"d786cd26-93ca-481d-9d6d-323c21f49abc\",\"type\":\"Selection\"},\"selection_policy\":{\"id\":\"6f0a9c9c-0152-4138-b8fe-a8fceb2531a4\",\"type\":\"UnionRenderers\"}},\"id\":\"24a23800-0360-4023-a008-bc9807a9e10d\",\"type\":\"ColumnDataSource\"},{\"attributes\":{\"plot\":null,\"text\":\"Gini curve for RANDOM_FOREST\"},\"id\":\"452b2dee-dd40-4051-8524-7e837fa84349\",\"type\":\"Title\"},{\"attributes\":{\"callback\":null},\"id\":\"979780e3-1f44-41ef-9279-4388209c753e\",\"type\":\"Range1d\"},{\"attributes\":{\"plot\":{\"id\":\"09c3f537-690b-4e5b-959a-ecb0ffc94230\",\"subtype\":\"Figure\",\"type\":\"Plot\"},\"ticker\":{\"id\":\"86385a94-b3c7-4b05-919e-18f25880bbff\",\"type\":\"BasicTicker\"}},\"id\":\"5be52d50-e707-4494-8522-7d49cc152a31\",\"type\":\"Grid\"},{\"attributes\":{},\"id\":\"6f0a9c9c-0152-4138-b8fe-a8fceb2531a4\",\"type\":\"UnionRenderers\"},{\"attributes\":{\"data_source\":{\"id\":\"40cfcb7f-dadd-4288-93c7-a0e66e8b98d2\",\"type\":\"ColumnDataSource\"},\"glyph\":{\"id\":\"34d95e4c-e313-4cf5-bf12-129b2ee3356e\",\"type\":\"Line\"},\"hover_glyph\":null,\"muted_glyph\":null,\"nonselection_glyph\":{\"id\":\"16361969-7233-46ee-8a54-6b2a4283b4c5\",\"type\":\"Line\"},\"selection_glyph\":null,\"view\":{\"id\":\"486b1a2a-20ed-47e5-97bd-4d683637d9a9\",\"type\":\"CDSView\"}},\"id\":\"0ec235c7-e59f-4def-8438-cc4739a157e7\",\"type\":\"GlyphRenderer\"},{\"attributes\":{\"background_fill_color\":{\"value\":\"white\"},\"border_line_alpha\":{\"value\":0.0},\"plot\":{\"id\":\"09c3f537-690b-4e5b-959a-ecb0ffc94230\",\"subtype\":\"Figure\",\"type\":\"Plot\"},\"render_mode\":\"css\",\"text\":\"test Gini: 92.77%\",\"x\":250,\"x_units\":\"screen\",\"y\":-40,\"y_units\":\"screen\"},\"id\":\"780b3b54-d95b-4be2-9029-0f60b8ff79ad\",\"type\":\"Label\"},{\"attributes\":{\"dimension\":1,\"plot\":{\"id\":\"09c3f537-690b-4e5b-959a-ecb0ffc94230\",\"subtype\":\"Figure\",\"type\":\"Plot\"},\"ticker\":{\"id\":\"6930ee12-c0bf-4f9f-af7a-a58e03986437\",\"type\":\"BasicTicker\"}},\"id\":\"f2bbdf6b-a3b2-49c9-b92c-8635ac25ee8f\",\"type\":\"Grid\"},{\"attributes\":{\"background_fill_color\":{\"value\":\"white\"},\"border_line_alpha\":{\"value\":0.0},\"plot\":{\"id\":\"09c3f537-690b-4e5b-959a-ecb0ffc94230\",\"subtype\":\"Figure\",\"type\":\"Plot\"},\"render_mode\":\"css\",\"text\":\"test KS: 84.13%\",\"x\":70,\"x_units\":\"screen\",\"y\":-40,\"y_units\":\"screen\"},\"id\":\"3c3f034c-d373-4a76-b4d1-d05daedbd735\",\"type\":\"Label\"},{\"attributes\":{},\"id\":\"031cd899-4b6a-441d-8294-9272fe38166d\",\"type\":\"PanTool\"},{\"attributes\":{\"line_alpha\":0.5,\"line_color\":\"#053C6D\",\"line_width\":2,\"x\":{\"field\":\"x\"},\"y\":{\"field\":\"y\"}},\"id\":\"ae12137d-05ab-44f5-b268-eb040bf69fef\",\"type\":\"Line\"},{\"attributes\":{\"active_drag\":\"auto\",\"active_inspect\":\"auto\",\"active_scroll\":\"auto\",\"active_tap\":\"auto\",\"tools\":[{\"id\":\"031cd899-4b6a-441d-8294-9272fe38166d\",\"type\":\"PanTool\"},{\"id\":\"25010bc9-3b57-416d-8f9b-65a509e426c1\",\"type\":\"WheelZoomTool\"},{\"id\":\"93010d89-a0a6-47d8-b774-e6d1062c2a92\",\"type\":\"BoxZoomTool\"},{\"id\":\"a7c5b1b6-285e-4561-84a3-81cedd8cc6a2\",\"type\":\"SaveTool\"},{\"id\":\"5a3626e9-7596-4dc5-a05c-2a116a1421e6\",\"type\":\"ResetTool\"},{\"id\":\"5dc57e7d-dad3-4af1-b6e7-95501fa4354c\",\"type\":\"HelpTool\"}]},\"id\":\"d820ab29-66f8-4092-916d-b5def73a1d95\",\"type\":\"Toolbar\"},{\"attributes\":{\"axis_label\":\"Cumulative Event\",\"formatter\":{\"id\":\"6820eac4-4541-40fd-9a4c-754f39514aea\",\"type\":\"BasicTickFormatter\"},\"plot\":{\"id\":\"09c3f537-690b-4e5b-959a-ecb0ffc94230\",\"subtype\":\"Figure\",\"type\":\"Plot\"},\"ticker\":{\"id\":\"6930ee12-c0bf-4f9f-af7a-a58e03986437\",\"type\":\"BasicTicker\"}},\"id\":\"629ccd27-cb38-47ed-8532-eb83a3964511\",\"type\":\"LinearAxis\"},{\"attributes\":{\"source\":{\"id\":\"6c28b98d-3be4-4d55-9cef-87551393983f\",\"type\":\"ColumnDataSource\"}},\"id\":\"d7c18be0-f85c-4243-9226-70411ae55dbb\",\"type\":\"CDSView\"},{\"attributes\":{\"line_alpha\":0.1,\"line_color\":\"#1f77b4\",\"line_width\":2,\"x\":{\"field\":\"x\"},\"y\":{\"field\":\"y\"}},\"id\":\"16361969-7233-46ee-8a54-6b2a4283b4c5\",\"type\":\"Line\"},{\"attributes\":{\"bottom_units\":\"screen\",\"fill_alpha\":{\"value\":0.5},\"fill_color\":{\"value\":\"lightgrey\"},\"left_units\":\"screen\",\"level\":\"overlay\",\"line_alpha\":{\"value\":1.0},\"line_color\":{\"value\":\"black\"},\"line_dash\":[4,4],\"line_width\":{\"value\":2},\"plot\":null,\"render_mode\":\"css\",\"right_units\":\"screen\",\"top_units\":\"screen\"},\"id\":\"b5874c3b-f7b1-46ae-b058-e7b2d9a7477a\",\"type\":\"BoxAnnotation\"},{\"attributes\":{\"line_alpha\":0.1,\"line_color\":\"#1f77b4\",\"line_width\":2,\"x\":{\"field\":\"x\"},\"y\":{\"field\":\"y\"}},\"id\":\"28dddb4d-e1ea-4b80-8007-7076886e4b44\",\"type\":\"Line\"},{\"attributes\":{\"background_fill_color\":{\"value\":\"white\"},\"border_line_alpha\":{\"value\":0.0},\"plot\":{\"id\":\"09c3f537-690b-4e5b-959a-ecb0ffc94230\",\"subtype\":\"Figure\",\"type\":\"Plot\"},\"render_mode\":\"css\",\"text\":\"test1 KS: 81.96%\",\"x\":70,\"x_units\":\"screen\",\"y\":-60,\"y_units\":\"screen\"},\"id\":\"90c971d6-c7f7-412e-abdd-9201eba2aac9\",\"type\":\"Label\"},{\"attributes\":{\"background_fill_color\":{\"value\":\"white\"},\"border_line_alpha\":{\"value\":0.0},\"plot\":{\"id\":\"09c3f537-690b-4e5b-959a-ecb0ffc94230\",\"subtype\":\"Figure\",\"type\":\"Plot\"},\"render_mode\":\"css\",\"text\":\"training Gini: 92.4%\",\"x\":250,\"x_units\":\"screen\",\"y\":-20,\"y_units\":\"screen\"},\"id\":\"5410cd89-10e9-40ae-8304-02aab6c2f5df\",\"type\":\"Label\"},{\"attributes\":{},\"id\":\"6820eac4-4541-40fd-9a4c-754f39514aea\",\"type\":\"BasicTickFormatter\"},{\"attributes\":{},\"id\":\"8c6d1f09-0a6c-4f31-8e2b-2af02cee536b\",\"type\":\"LinearScale\"},{\"attributes\":{},\"id\":\"1ed0eeb4-0a73-4c58-b975-8568ce31129b\",\"type\":\"Selection\"},{\"attributes\":{},\"id\":\"10af0628-3de9-4100-936a-a6227cf2c743\",\"type\":\"UnionRenderers\"},{\"attributes\":{\"below\":[{\"id\":\"4ec137b0-ab66-436e-a61d-4fa74080a8ba\",\"type\":\"LinearAxis\"}],\"left\":[{\"id\":\"629ccd27-cb38-47ed-8532-eb83a3964511\",\"type\":\"LinearAxis\"}],\"plot_height\":400,\"renderers\":[{\"id\":\"4ec137b0-ab66-436e-a61d-4fa74080a8ba\",\"type\":\"LinearAxis\"},{\"id\":\"5be52d50-e707-4494-8522-7d49cc152a31\",\"type\":\"Grid\"},{\"id\":\"629ccd27-cb38-47ed-8532-eb83a3964511\",\"type\":\"LinearAxis\"},{\"id\":\"f2bbdf6b-a3b2-49c9-b92c-8635ac25ee8f\",\"type\":\"Grid\"},{\"id\":\"b5874c3b-f7b1-46ae-b058-e7b2d9a7477a\",\"type\":\"BoxAnnotation\"},{\"id\":\"553d0606-875b-4b73-ae8d-ee1182a20b4f\",\"type\":\"Legend\"},{\"id\":\"bc7ccd0d-2e39-4964-b18d-e2027612730c\",\"type\":\"GlyphRenderer\"},{\"id\":\"070f3a19-80ab-4e9e-b553-00575d9ea47a\",\"type\":\"GlyphRenderer\"},{\"id\":\"0ec235c7-e59f-4def-8438-cc4739a157e7\",\"type\":\"GlyphRenderer\"},{\"id\":\"c1daf2e2-3353-4b1c-9002-c1b6c493fed8\",\"type\":\"Label\"},{\"id\":\"5410cd89-10e9-40ae-8304-02aab6c2f5df\",\"type\":\"Label\"},{\"id\":\"3c3f034c-d373-4a76-b4d1-d05daedbd735\",\"type\":\"Label\"},{\"id\":\"780b3b54-d95b-4be2-9029-0f60b8ff79ad\",\"type\":\"Label\"},{\"id\":\"8855bff8-b0dd-4806-949d-0929c11eba37\",\"type\":\"GlyphRenderer\"},{\"id\":\"90c971d6-c7f7-412e-abdd-9201eba2aac9\",\"type\":\"Label\"},{\"id\":\"a493009e-5ced-440d-b5e7-060ecbdf2037\",\"type\":\"Label\"}],\"title\":{\"id\":\"452b2dee-dd40-4051-8524-7e837fa84349\",\"type\":\"Title\"},\"toolbar\":{\"id\":\"d820ab29-66f8-4092-916d-b5def73a1d95\",\"type\":\"Toolbar\"},\"x_range\":{\"id\":\"87f5a0ad-124f-4235-b068-b71c2bf0599c\",\"type\":\"Range1d\"},\"x_scale\":{\"id\":\"8f82c160-76b1-401c-8203-19e8a9234b00\",\"type\":\"LinearScale\"},\"y_range\":{\"id\":\"979780e3-1f44-41ef-9279-4388209c753e\",\"type\":\"Range1d\"},\"y_scale\":{\"id\":\"8c6d1f09-0a6c-4f31-8e2b-2af02cee536b\",\"type\":\"LinearScale\"}},\"id\":\"09c3f537-690b-4e5b-959a-ecb0ffc94230\",\"subtype\":\"Figure\",\"type\":\"Plot\"},{\"attributes\":{\"data_source\":{\"id\":\"24a23800-0360-4023-a008-bc9807a9e10d\",\"type\":\"ColumnDataSource\"},\"glyph\":{\"id\":\"ae12137d-05ab-44f5-b268-eb040bf69fef\",\"type\":\"Line\"},\"hover_glyph\":null,\"muted_glyph\":null,\"nonselection_glyph\":{\"id\":\"3edb88a8-89a7-4a1e-9f77-86b452ce57cb\",\"type\":\"Line\"},\"selection_glyph\":null,\"view\":{\"id\":\"4f7a8959-a2b7-40f8-99ea-5c9dba754f39\",\"type\":\"CDSView\"}},\"id\":\"bc7ccd0d-2e39-4964-b18d-e2027612730c\",\"type\":\"GlyphRenderer\"},{\"attributes\":{\"background_fill_color\":{\"value\":\"white\"},\"border_line_alpha\":{\"value\":0.0},\"plot\":{\"id\":\"09c3f537-690b-4e5b-959a-ecb0ffc94230\",\"subtype\":\"Figure\",\"type\":\"Plot\"},\"render_mode\":\"css\",\"text\":\"test1 Gini: 90.46%\",\"x\":250,\"x_units\":\"screen\",\"y\":-60,\"y_units\":\"screen\"},\"id\":\"a493009e-5ced-440d-b5e7-060ecbdf2037\",\"type\":\"Label\"},{\"attributes\":{\"line_alpha\":0.1,\"line_color\":\"#1f77b4\",\"line_width\":2,\"x\":{\"field\":\"x\"},\"y\":{\"field\":\"y\"}},\"id\":\"3edb88a8-89a7-4a1e-9f77-86b452ce57cb\",\"type\":\"Line\"},{\"attributes\":{\"line_color\":\"#E46713\",\"line_width\":2,\"x\":{\"field\":\"x\"},\"y\":{\"field\":\"y\"}},\"id\":\"34d95e4c-e313-4cf5-bf12-129b2ee3356e\",\"type\":\"Line\"},{\"attributes\":{},\"id\":\"4d737247-8774-41f7-b010-0a4418eccbf0\",\"type\":\"Selection\"},{\"attributes\":{},\"id\":\"5b47bb27-228c-40fe-b7d2-ff37683395ae\",\"type\":\"Selection\"},{\"attributes\":{\"line_alpha\":0.1,\"line_color\":\"#1f77b4\",\"line_width\":2,\"x\":{\"field\":\"x\"},\"y\":{\"field\":\"y\"}},\"id\":\"59f53d48-b93b-47f2-a722-388f0616c681\",\"type\":\"Line\"},{\"attributes\":{\"label\":{\"value\":\"Event distribution - test1\"},\"renderers\":[{\"id\":\"8855bff8-b0dd-4806-949d-0929c11eba37\",\"type\":\"GlyphRenderer\"}]},\"id\":\"e12cc360-b952-4c92-a1ad-269bc2c27fb9\",\"type\":\"LegendItem\"},{\"attributes\":{\"callback\":null},\"id\":\"87f5a0ad-124f-4235-b068-b71c2bf0599c\",\"type\":\"Range1d\"},{\"attributes\":{},\"id\":\"6930ee12-c0bf-4f9f-af7a-a58e03986437\",\"type\":\"BasicTicker\"},{\"attributes\":{\"data_source\":{\"id\":\"27c1d149-5404-41c6-b7d9-87e5d5b3067a\",\"type\":\"ColumnDataSource\"},\"glyph\":{\"id\":\"fba5b8a1-1278-41e3-a92d-d09a4101debc\",\"type\":\"Line\"},\"hover_glyph\":null,\"muted_glyph\":null,\"nonselection_glyph\":{\"id\":\"59f53d48-b93b-47f2-a722-388f0616c681\",\"type\":\"Line\"},\"selection_glyph\":null,\"view\":{\"id\":\"a3368365-1a99-4535-baea-1692fb697c99\",\"type\":\"CDSView\"}},\"id\":\"8855bff8-b0dd-4806-949d-0929c11eba37\",\"type\":\"GlyphRenderer\"},{\"attributes\":{\"overlay\":{\"id\":\"b5874c3b-f7b1-46ae-b058-e7b2d9a7477a\",\"type\":\"BoxAnnotation\"}},\"id\":\"93010d89-a0a6-47d8-b774-e6d1062c2a92\",\"type\":\"BoxZoomTool\"},{\"attributes\":{\"source\":{\"id\":\"40cfcb7f-dadd-4288-93c7-a0e66e8b98d2\",\"type\":\"ColumnDataSource\"}},\"id\":\"486b1a2a-20ed-47e5-97bd-4d683637d9a9\",\"type\":\"CDSView\"},{\"attributes\":{\"source\":{\"id\":\"27c1d149-5404-41c6-b7d9-87e5d5b3067a\",\"type\":\"ColumnDataSource\"}},\"id\":\"a3368365-1a99-4535-baea-1692fb697c99\",\"type\":\"CDSView\"},{\"attributes\":{\"line_alpha\":0.5,\"line_color\":\"#97291E\",\"line_width\":2,\"x\":{\"field\":\"x\"},\"y\":{\"field\":\"y\"}},\"id\":\"7bce6ebc-b3e6-48f7-a872-c1861cde06d1\",\"type\":\"Line\"},{\"attributes\":{},\"id\":\"a0257173-a5f5-483b-829f-5c90aeba8bc9\",\"type\":\"UnionRenderers\"},{\"attributes\":{\"line_alpha\":0.5,\"line_width\":2,\"x\":{\"field\":\"x\"},\"y\":{\"field\":\"y\"}},\"id\":\"fba5b8a1-1278-41e3-a92d-d09a4101debc\",\"type\":\"Line\"},{\"attributes\":{\"label\":{\"value\":\"Event distribution - test\"},\"renderers\":[{\"id\":\"070f3a19-80ab-4e9e-b553-00575d9ea47a\",\"type\":\"GlyphRenderer\"}]},\"id\":\"9e2f283c-60a7-4f48-90a6-c97a661df90e\",\"type\":\"LegendItem\"},{\"attributes\":{\"callback\":null,\"data\":{\"x\":{\"__ndarray__\":\"AAAAAAAAAAC7bhsJruGAPzM1IdWBb5Q/JqkNhVIZvD8sd8+0pDW9P6z3Sl24hNU/D3XiCacg2j8PdeIJpyDaPw914gmnINo/AAAAAAAA8D8=\",\"dtype\":\"float64\",\"shape\":[10]},\"y\":{\"__ndarray__\":\"AAAAAAAAAADGSZRVZOjfP5xEWUWG/uU/fg+xMJq97T/UoFKwA+HtP8HhylfrE+8/NE6irCJD7z80TqKsIkPvPzROoqwiQ+8/AAAAAAAA8D8=\",\"dtype\":\"float64\",\"shape\":[10]}},\"selected\":{\"id\":\"4d737247-8774-41f7-b010-0a4418eccbf0\",\"type\":\"Selection\"},\"selection_policy\":{\"id\":\"67bddcdf-e031-4ca6-9548-b3ce6c4806d9\",\"type\":\"UnionRenderers\"}},\"id\":\"27c1d149-5404-41c6-b7d9-87e5d5b3067a\",\"type\":\"ColumnDataSource\"},{\"attributes\":{\"callback\":null,\"data\":{\"x\":{\"__ndarray__\":\"AAAAAAAAAABzGnlF7UtYP22CvD9Vj5I/N5OmJ4SXuD8XidbaTJrOPxI5O/QaHdY/4pZLALVp3j9g6+S5RT/kP2Dr5LlFP+Q/AAAAAAAA8D8=\",\"dtype\":\"float64\",\"shape\":[10]},\"y\":{\"__ndarray__\":\"AAAAAAAAAABzGnlF7UtYP22CvD9Vj5I/N5OmJ4SXuD8XidbaTJrOPxI5O/QaHdY/4pZLALVp3j9g6+S5RT/kP2Dr5LlFP+Q/AAAAAAAA8D8=\",\"dtype\":\"float64\",\"shape\":[10]}},\"selected\":{\"id\":\"1ed0eeb4-0a73-4c58-b975-8568ce31129b\",\"type\":\"Selection\"},\"selection_policy\":{\"id\":\"10af0628-3de9-4100-936a-a6227cf2c743\",\"type\":\"UnionRenderers\"}},\"id\":\"40cfcb7f-dadd-4288-93c7-a0e66e8b98d2\",\"type\":\"ColumnDataSource\"},{\"attributes\":{\"callback\":null,\"data\":{\"x\":{\"__ndarray__\":\"AAAAAAAAAABXHslu9dBFP8HWFhO4XJA/Nq/iCU3Cuj80CWuadcnPP9BChEQ5KNY/iwlcLgiY3j8nQ3XYy/bkPydDddjL9uQ/AAAAAAAA8D8=\",\"dtype\":\"float64\",\"shape\":[10]},\"y\":{\"__ndarray__\":\"AAAAAAAAAAADJbzR1PnVP14NSy/iROU/3mjq/NpD7j9joIQ3mjrvPymYzEHAre8/IeDWZzO+7z8ZKOGNps7vPxko4Y2mzu8/AAAAAAAA8D8=\",\"dtype\":\"float64\",\"shape\":[10]}},\"selected\":{\"id\":\"5b47bb27-228c-40fe-b7d2-ff37683395ae\",\"type\":\"Selection\"},\"selection_policy\":{\"id\":\"a0257173-a5f5-483b-829f-5c90aeba8bc9\",\"type\":\"UnionRenderers\"}},\"id\":\"6c28b98d-3be4-4d55-9cef-87551393983f\",\"type\":\"ColumnDataSource\"},{\"attributes\":{\"axis_label\":\"Cumulative Non_event\",\"formatter\":{\"id\":\"0d333b1d-21bf-4bd8-b776-cec614b8c2ac\",\"type\":\"BasicTickFormatter\"},\"plot\":{\"id\":\"09c3f537-690b-4e5b-959a-ecb0ffc94230\",\"subtype\":\"Figure\",\"type\":\"Plot\"},\"ticker\":{\"id\":\"86385a94-b3c7-4b05-919e-18f25880bbff\",\"type\":\"BasicTicker\"}},\"id\":\"4ec137b0-ab66-436e-a61d-4fa74080a8ba\",\"type\":\"LinearAxis\"},{\"attributes\":{\"items\":[{\"id\":\"ca16ab66-3f81-484a-894d-bd85dedbd2e0\",\"type\":\"LegendItem\"},{\"id\":\"9e2f283c-60a7-4f48-90a6-c97a661df90e\",\"type\":\"LegendItem\"},{\"id\":\"e12cc360-b952-4c92-a1ad-269bc2c27fb9\",\"type\":\"LegendItem\"}],\"location\":\"bottom_right\",\"plot\":{\"id\":\"09c3f537-690b-4e5b-959a-ecb0ffc94230\",\"subtype\":\"Figure\",\"type\":\"Plot\"}},\"id\":\"553d0606-875b-4b73-ae8d-ee1182a20b4f\",\"type\":\"Legend\"},{\"attributes\":{},\"id\":\"86385a94-b3c7-4b05-919e-18f25880bbff\",\"type\":\"BasicTicker\"}],\"root_ids\":[\"09c3f537-690b-4e5b-959a-ecb0ffc94230\"]},\"title\":\"Bokeh Application\",\"version\":\"0.12.16\"}};\n",
       "  var render_items = [{\"docid\":\"970374b4-978a-4189-b5a7-3f368db68dda\",\"elementid\":\"cf683d00-a870-4aa4-9a75-6f3c20bf52d7\",\"modelid\":\"09c3f537-690b-4e5b-959a-ecb0ffc94230\"}];\n",
       "  root.Bokeh.embed.embed_items_notebook(docs_json, render_items);\n",
       "\n",
       "  }\n",
       "  if (root.Bokeh !== undefined) {\n",
       "    embed_document(root);\n",
       "  } else {\n",
       "    var attempts = 0;\n",
       "    var timer = setInterval(function(root) {\n",
       "      if (root.Bokeh !== undefined) {\n",
       "        embed_document(root);\n",
       "        clearInterval(timer);\n",
       "      }\n",
       "      attempts++;\n",
       "      if (attempts > 100) {\n",
       "        console.log(\"Bokeh: ERROR: Unable to run BokehJS code because BokehJS library is missing\")\n",
       "        clearInterval(timer);\n",
       "      }\n",
       "    }, 10, root)\n",
       "  }\n",
       "})(window);"
      ],
      "application/vnd.bokehjs_exec.v0+json": ""
     },
     "metadata": {
      "application/vnd.bokehjs_exec.v0+json": {
       "id": "09c3f537-690b-4e5b-959a-ecb0ffc94230"
      }
     },
     "output_type": "display_data"
    },
    {
     "name": "stdout",
     "output_type": "stream",
     "text": [
      "Re-fitting on the full data...\n"
     ]
    }
   ],
   "source": [
    "ms.test_on_holdout_data(X=holdout_data.loc[:, holdout_data.columns!=ms.target], y = holdout_data.loc[:, ms.target])"
   ]
  },
  {
   "cell_type": "code",
   "execution_count": null,
   "metadata": {},
   "outputs": [],
   "source": []
  },
  {
   "cell_type": "markdown",
   "metadata": {},
   "source": [
    "###### Saving the final model objects \n",
    "The following will be saved as pickle objects. They can be loaded and used on new data using the model_apply method<br>\n",
    "\n",
    "DictVectorizer.pkl: the dictvectorizer object<br>\n",
    "feature_levels.pkl: the levels of all object variables<br>\n",
    "Categorical_columns.pkl: all columns specified as categorical <br>\n",
    "model.pkl: the final model to be applied to the test set (name will vary based on the model)"
   ]
  },
  {
   "cell_type": "code",
   "execution_count": 12,
   "metadata": {},
   "outputs": [],
   "source": [
    "ms.save_model_objects()"
   ]
  },
  {
   "cell_type": "markdown",
   "metadata": {},
   "source": [
    "###### Classifying new data\n",
    "Make sure that the objects are in the relevant folder or that the paths are provided correcty. The model can predict the class probabilies as well as the labels"
   ]
  },
  {
   "cell_type": "code",
   "execution_count": 13,
   "metadata": {},
   "outputs": [],
   "source": [
    "predictions_probabilities = Model_selection.model_apply(new_data, model=\"random_forest.pkl\", predict_proba=True)\n",
    "predictions = Model_selection.model_apply(new_data, model=\"random_forest.pkl\", predict_proba=False)"
   ]
  },
  {
   "cell_type": "code",
   "execution_count": 14,
   "metadata": {},
   "outputs": [
    {
     "data": {
      "text/plain": [
       "array([[0.92343562, 0.07656438],\n",
       "       [0.99076668, 0.00923332],\n",
       "       [0.9606574 , 0.0393426 ],\n",
       "       ...,\n",
       "       [0.27138184, 0.72861816],\n",
       "       [0.92343562, 0.07656438],\n",
       "       [0.99076668, 0.00923332]])"
      ]
     },
     "execution_count": 14,
     "metadata": {},
     "output_type": "execute_result"
    },
    {
     "data": {
      "text/plain": [
       "array([0, 0, 0, ..., 1, 0, 0], dtype=int64)"
      ]
     },
     "execution_count": 14,
     "metadata": {},
     "output_type": "execute_result"
    }
   ],
   "source": [
    "predictions_probabilities\n",
    "predictions"
   ]
  },
  {
   "cell_type": "code",
   "execution_count": null,
   "metadata": {},
   "outputs": [],
   "source": []
  },
  {
   "cell_type": "markdown",
   "metadata": {},
   "source": [
    "###### Performance characteristics saved inside the class"
   ]
  },
  {
   "cell_type": "code",
   "execution_count": 15,
   "metadata": {
    "scrolled": true
   },
   "outputs": [
    {
     "data": {
      "text/html": [
       "<div>\n",
       "<style scoped>\n",
       "    .dataframe tbody tr th:only-of-type {\n",
       "        vertical-align: middle;\n",
       "    }\n",
       "\n",
       "    .dataframe tbody tr th {\n",
       "        vertical-align: top;\n",
       "    }\n",
       "\n",
       "    .dataframe thead th {\n",
       "        text-align: right;\n",
       "    }\n",
       "</style>\n",
       "<table border=\"1\" class=\"dataframe\">\n",
       "  <thead>\n",
       "    <tr style=\"text-align: right;\">\n",
       "      <th></th>\n",
       "      <th>Event</th>\n",
       "      <th>Total</th>\n",
       "      <th>Probability_of_Event</th>\n",
       "      <th>Non_event</th>\n",
       "      <th>Cumulative_Non_event</th>\n",
       "      <th>Cumulative_Event</th>\n",
       "      <th>Population_%</th>\n",
       "      <th>Cumulative_Non_event_%</th>\n",
       "      <th>Cumulative_Event_%</th>\n",
       "      <th>Difference</th>\n",
       "      <th>Event_rate</th>\n",
       "      <th>Gini</th>\n",
       "    </tr>\n",
       "  </thead>\n",
       "  <tbody>\n",
       "    <tr>\n",
       "      <th>8</th>\n",
       "      <td>171</td>\n",
       "      <td>172</td>\n",
       "      <td>(0.891, 1.0]</td>\n",
       "      <td>1</td>\n",
       "      <td>1</td>\n",
       "      <td>171</td>\n",
       "      <td>0.0860</td>\n",
       "      <td>0.000666</td>\n",
       "      <td>0.343373</td>\n",
       "      <td>0.342708</td>\n",
       "      <td>0.994186</td>\n",
       "      <td>0.000114</td>\n",
       "    </tr>\n",
       "    <tr>\n",
       "      <th>7</th>\n",
       "      <td>160</td>\n",
       "      <td>183</td>\n",
       "      <td>(0.728, 0.891]</td>\n",
       "      <td>23</td>\n",
       "      <td>24</td>\n",
       "      <td>331</td>\n",
       "      <td>0.0915</td>\n",
       "      <td>0.015979</td>\n",
       "      <td>0.664659</td>\n",
       "      <td>0.648680</td>\n",
       "      <td>0.874317</td>\n",
       "      <td>0.007718</td>\n",
       "    </tr>\n",
       "    <tr>\n",
       "      <th>6</th>\n",
       "      <td>140</td>\n",
       "      <td>273</td>\n",
       "      <td>(0.133, 0.728]</td>\n",
       "      <td>133</td>\n",
       "      <td>157</td>\n",
       "      <td>471</td>\n",
       "      <td>0.1365</td>\n",
       "      <td>0.104527</td>\n",
       "      <td>0.945783</td>\n",
       "      <td>0.841256</td>\n",
       "      <td>0.512821</td>\n",
       "      <td>0.071301</td>\n",
       "    </tr>\n",
       "    <tr>\n",
       "      <th>5</th>\n",
       "      <td>15</td>\n",
       "      <td>231</td>\n",
       "      <td>(0.0816, 0.133]</td>\n",
       "      <td>216</td>\n",
       "      <td>373</td>\n",
       "      <td>486</td>\n",
       "      <td>0.1155</td>\n",
       "      <td>0.248336</td>\n",
       "      <td>0.975904</td>\n",
       "      <td>0.727568</td>\n",
       "      <td>0.064935</td>\n",
       "      <td>0.138177</td>\n",
       "    </tr>\n",
       "    <tr>\n",
       "      <th>4</th>\n",
       "      <td>7</td>\n",
       "      <td>154</td>\n",
       "      <td>(0.032, 0.0816]</td>\n",
       "      <td>147</td>\n",
       "      <td>520</td>\n",
       "      <td>493</td>\n",
       "      <td>0.0770</td>\n",
       "      <td>0.346205</td>\n",
       "      <td>0.989960</td>\n",
       "      <td>0.643755</td>\n",
       "      <td>0.045455</td>\n",
       "      <td>0.096199</td>\n",
       "    </tr>\n",
       "    <tr>\n",
       "      <th>3</th>\n",
       "      <td>1</td>\n",
       "      <td>199</td>\n",
       "      <td>(0.0092, 0.032]</td>\n",
       "      <td>198</td>\n",
       "      <td>718</td>\n",
       "      <td>494</td>\n",
       "      <td>0.0995</td>\n",
       "      <td>0.478029</td>\n",
       "      <td>0.991968</td>\n",
       "      <td>0.513939</td>\n",
       "      <td>0.005025</td>\n",
       "      <td>0.130633</td>\n",
       "    </tr>\n",
       "    <tr>\n",
       "      <th>2</th>\n",
       "      <td>1</td>\n",
       "      <td>267</td>\n",
       "      <td>(0.00899, 0.0092]</td>\n",
       "      <td>266</td>\n",
       "      <td>984</td>\n",
       "      <td>495</td>\n",
       "      <td>0.1335</td>\n",
       "      <td>0.655126</td>\n",
       "      <td>0.993976</td>\n",
       "      <td>0.338849</td>\n",
       "      <td>0.003745</td>\n",
       "      <td>0.175853</td>\n",
       "    </tr>\n",
       "    <tr>\n",
       "      <th>1</th>\n",
       "      <td>0</td>\n",
       "      <td>0</td>\n",
       "      <td>(0.00895, 0.00899]</td>\n",
       "      <td>0</td>\n",
       "      <td>984</td>\n",
       "      <td>495</td>\n",
       "      <td>0.0000</td>\n",
       "      <td>0.655126</td>\n",
       "      <td>0.993976</td>\n",
       "      <td>0.338849</td>\n",
       "      <td>NaN</td>\n",
       "      <td>0.000000</td>\n",
       "    </tr>\n",
       "    <tr>\n",
       "      <th>0</th>\n",
       "      <td>3</td>\n",
       "      <td>521</td>\n",
       "      <td>(-0.001, 0.00895]</td>\n",
       "      <td>518</td>\n",
       "      <td>1502</td>\n",
       "      <td>498</td>\n",
       "      <td>0.2605</td>\n",
       "      <td>1.000000</td>\n",
       "      <td>1.000000</td>\n",
       "      <td>0.000000</td>\n",
       "      <td>0.005758</td>\n",
       "      <td>0.343835</td>\n",
       "    </tr>\n",
       "    <tr>\n",
       "      <th>9</th>\n",
       "      <td>498</td>\n",
       "      <td>2000</td>\n",
       "      <td>All</td>\n",
       "      <td>1502</td>\n",
       "      <td>1502</td>\n",
       "      <td>498</td>\n",
       "      <td>1.0000</td>\n",
       "      <td>1.000000</td>\n",
       "      <td>1.000000</td>\n",
       "      <td>0.000000</td>\n",
       "      <td>0.249000</td>\n",
       "      <td>NaN</td>\n",
       "    </tr>\n",
       "  </tbody>\n",
       "</table>\n",
       "</div>"
      ],
      "text/plain": [
       "   Event  Total Probability_of_Event  Non_event  Cumulative_Non_event  \\\n",
       "8    171    172         (0.891, 1.0]          1                     1   \n",
       "7    160    183       (0.728, 0.891]         23                    24   \n",
       "6    140    273       (0.133, 0.728]        133                   157   \n",
       "5     15    231      (0.0816, 0.133]        216                   373   \n",
       "4      7    154      (0.032, 0.0816]        147                   520   \n",
       "3      1    199      (0.0092, 0.032]        198                   718   \n",
       "2      1    267    (0.00899, 0.0092]        266                   984   \n",
       "1      0      0   (0.00895, 0.00899]          0                   984   \n",
       "0      3    521    (-0.001, 0.00895]        518                  1502   \n",
       "9    498   2000                  All       1502                  1502   \n",
       "\n",
       "   Cumulative_Event  Population_%  Cumulative_Non_event_%  Cumulative_Event_%  \\\n",
       "8               171        0.0860                0.000666            0.343373   \n",
       "7               331        0.0915                0.015979            0.664659   \n",
       "6               471        0.1365                0.104527            0.945783   \n",
       "5               486        0.1155                0.248336            0.975904   \n",
       "4               493        0.0770                0.346205            0.989960   \n",
       "3               494        0.0995                0.478029            0.991968   \n",
       "2               495        0.1335                0.655126            0.993976   \n",
       "1               495        0.0000                0.655126            0.993976   \n",
       "0               498        0.2605                1.000000            1.000000   \n",
       "9               498        1.0000                1.000000            1.000000   \n",
       "\n",
       "   Difference  Event_rate      Gini  \n",
       "8    0.342708    0.994186  0.000114  \n",
       "7    0.648680    0.874317  0.007718  \n",
       "6    0.841256    0.512821  0.071301  \n",
       "5    0.727568    0.064935  0.138177  \n",
       "4    0.643755    0.045455  0.096199  \n",
       "3    0.513939    0.005025  0.130633  \n",
       "2    0.338849    0.003745  0.175853  \n",
       "1    0.338849         NaN  0.000000  \n",
       "0    0.000000    0.005758  0.343835  \n",
       "9    0.000000    0.249000       NaN  "
      ]
     },
     "execution_count": 15,
     "metadata": {},
     "output_type": "execute_result"
    }
   ],
   "source": [
    "ms.Gini_table[\"random_forest_test\"] # the validation base"
   ]
  },
  {
   "cell_type": "code",
   "execution_count": 16,
   "metadata": {},
   "outputs": [
    {
     "data": {
      "text/html": [
       "<div>\n",
       "<style scoped>\n",
       "    .dataframe tbody tr th:only-of-type {\n",
       "        vertical-align: middle;\n",
       "    }\n",
       "\n",
       "    .dataframe tbody tr th {\n",
       "        vertical-align: top;\n",
       "    }\n",
       "\n",
       "    .dataframe thead th {\n",
       "        text-align: right;\n",
       "    }\n",
       "</style>\n",
       "<table border=\"1\" class=\"dataframe\">\n",
       "  <thead>\n",
       "    <tr style=\"text-align: right;\">\n",
       "      <th></th>\n",
       "      <th>Event</th>\n",
       "      <th>Total</th>\n",
       "      <th>Probability_of_Event</th>\n",
       "      <th>Non_event</th>\n",
       "      <th>Cumulative_Non_event</th>\n",
       "      <th>Cumulative_Event</th>\n",
       "      <th>Population_%</th>\n",
       "      <th>Cumulative_Non_event_%</th>\n",
       "      <th>Cumulative_Event_%</th>\n",
       "      <th>Difference</th>\n",
       "      <th>Event_rate</th>\n",
       "      <th>Gini</th>\n",
       "    </tr>\n",
       "  </thead>\n",
       "  <tbody>\n",
       "    <tr>\n",
       "      <th>8</th>\n",
       "      <td>346</td>\n",
       "      <td>365</td>\n",
       "      <td>(0.891, 1.0]</td>\n",
       "      <td>19</td>\n",
       "      <td>19</td>\n",
       "      <td>346</td>\n",
       "      <td>0.121707</td>\n",
       "      <td>0.008243</td>\n",
       "      <td>0.498559</td>\n",
       "      <td>0.490316</td>\n",
       "      <td>0.947945</td>\n",
       "      <td>0.002055</td>\n",
       "    </tr>\n",
       "    <tr>\n",
       "      <th>7</th>\n",
       "      <td>131</td>\n",
       "      <td>158</td>\n",
       "      <td>(0.728, 0.891]</td>\n",
       "      <td>27</td>\n",
       "      <td>46</td>\n",
       "      <td>477</td>\n",
       "      <td>0.052684</td>\n",
       "      <td>0.019957</td>\n",
       "      <td>0.687320</td>\n",
       "      <td>0.667363</td>\n",
       "      <td>0.829114</td>\n",
       "      <td>0.006945</td>\n",
       "    </tr>\n",
       "    <tr>\n",
       "      <th>6</th>\n",
       "      <td>168</td>\n",
       "      <td>375</td>\n",
       "      <td>(0.133, 0.728]</td>\n",
       "      <td>207</td>\n",
       "      <td>253</td>\n",
       "      <td>645</td>\n",
       "      <td>0.125042</td>\n",
       "      <td>0.109761</td>\n",
       "      <td>0.929395</td>\n",
       "      <td>0.819633</td>\n",
       "      <td>0.448000</td>\n",
       "      <td>0.072594</td>\n",
       "    </tr>\n",
       "    <tr>\n",
       "      <th>5</th>\n",
       "      <td>3</td>\n",
       "      <td>13</td>\n",
       "      <td>(0.0816, 0.133]</td>\n",
       "      <td>10</td>\n",
       "      <td>263</td>\n",
       "      <td>648</td>\n",
       "      <td>0.004335</td>\n",
       "      <td>0.114100</td>\n",
       "      <td>0.933718</td>\n",
       "      <td>0.819618</td>\n",
       "      <td>0.230769</td>\n",
       "      <td>0.004041</td>\n",
       "    </tr>\n",
       "    <tr>\n",
       "      <th>4</th>\n",
       "      <td>26</td>\n",
       "      <td>538</td>\n",
       "      <td>(0.032, 0.0816]</td>\n",
       "      <td>512</td>\n",
       "      <td>775</td>\n",
       "      <td>674</td>\n",
       "      <td>0.179393</td>\n",
       "      <td>0.336226</td>\n",
       "      <td>0.971182</td>\n",
       "      <td>0.634956</td>\n",
       "      <td>0.048327</td>\n",
       "      <td>0.211564</td>\n",
       "    </tr>\n",
       "    <tr>\n",
       "      <th>3</th>\n",
       "      <td>4</td>\n",
       "      <td>170</td>\n",
       "      <td>(0.0092, 0.032]</td>\n",
       "      <td>166</td>\n",
       "      <td>941</td>\n",
       "      <td>678</td>\n",
       "      <td>0.056686</td>\n",
       "      <td>0.408243</td>\n",
       "      <td>0.976945</td>\n",
       "      <td>0.568702</td>\n",
       "      <td>0.023529</td>\n",
       "      <td>0.070149</td>\n",
       "    </tr>\n",
       "    <tr>\n",
       "      <th>2</th>\n",
       "      <td>0</td>\n",
       "      <td>0</td>\n",
       "      <td>(0.00899, 0.0092]</td>\n",
       "      <td>0</td>\n",
       "      <td>941</td>\n",
       "      <td>678</td>\n",
       "      <td>0.000000</td>\n",
       "      <td>0.408243</td>\n",
       "      <td>0.976945</td>\n",
       "      <td>0.568702</td>\n",
       "      <td>NaN</td>\n",
       "      <td>0.000000</td>\n",
       "    </tr>\n",
       "    <tr>\n",
       "      <th>1</th>\n",
       "      <td>0</td>\n",
       "      <td>0</td>\n",
       "      <td>(0.00895, 0.00899]</td>\n",
       "      <td>0</td>\n",
       "      <td>941</td>\n",
       "      <td>678</td>\n",
       "      <td>0.000000</td>\n",
       "      <td>0.408243</td>\n",
       "      <td>0.976945</td>\n",
       "      <td>0.568702</td>\n",
       "      <td>NaN</td>\n",
       "      <td>0.000000</td>\n",
       "    </tr>\n",
       "    <tr>\n",
       "      <th>0</th>\n",
       "      <td>16</td>\n",
       "      <td>1380</td>\n",
       "      <td>(-0.001, 0.00895]</td>\n",
       "      <td>1364</td>\n",
       "      <td>2305</td>\n",
       "      <td>694</td>\n",
       "      <td>0.460153</td>\n",
       "      <td>1.000000</td>\n",
       "      <td>1.000000</td>\n",
       "      <td>0.000000</td>\n",
       "      <td>0.011594</td>\n",
       "      <td>0.584936</td>\n",
       "    </tr>\n",
       "    <tr>\n",
       "      <th>9</th>\n",
       "      <td>694</td>\n",
       "      <td>2999</td>\n",
       "      <td>All</td>\n",
       "      <td>2305</td>\n",
       "      <td>2305</td>\n",
       "      <td>694</td>\n",
       "      <td>1.000000</td>\n",
       "      <td>1.000000</td>\n",
       "      <td>1.000000</td>\n",
       "      <td>0.000000</td>\n",
       "      <td>0.231410</td>\n",
       "      <td>NaN</td>\n",
       "    </tr>\n",
       "  </tbody>\n",
       "</table>\n",
       "</div>"
      ],
      "text/plain": [
       "   Event  Total Probability_of_Event  Non_event  Cumulative_Non_event  \\\n",
       "8    346    365         (0.891, 1.0]         19                    19   \n",
       "7    131    158       (0.728, 0.891]         27                    46   \n",
       "6    168    375       (0.133, 0.728]        207                   253   \n",
       "5      3     13      (0.0816, 0.133]         10                   263   \n",
       "4     26    538      (0.032, 0.0816]        512                   775   \n",
       "3      4    170      (0.0092, 0.032]        166                   941   \n",
       "2      0      0    (0.00899, 0.0092]          0                   941   \n",
       "1      0      0   (0.00895, 0.00899]          0                   941   \n",
       "0     16   1380    (-0.001, 0.00895]       1364                  2305   \n",
       "9    694   2999                  All       2305                  2305   \n",
       "\n",
       "   Cumulative_Event  Population_%  Cumulative_Non_event_%  Cumulative_Event_%  \\\n",
       "8               346      0.121707                0.008243            0.498559   \n",
       "7               477      0.052684                0.019957            0.687320   \n",
       "6               645      0.125042                0.109761            0.929395   \n",
       "5               648      0.004335                0.114100            0.933718   \n",
       "4               674      0.179393                0.336226            0.971182   \n",
       "3               678      0.056686                0.408243            0.976945   \n",
       "2               678      0.000000                0.408243            0.976945   \n",
       "1               678      0.000000                0.408243            0.976945   \n",
       "0               694      0.460153                1.000000            1.000000   \n",
       "9               694      1.000000                1.000000            1.000000   \n",
       "\n",
       "   Difference  Event_rate      Gini  \n",
       "8    0.490316    0.947945  0.002055  \n",
       "7    0.667363    0.829114  0.006945  \n",
       "6    0.819633    0.448000  0.072594  \n",
       "5    0.819618    0.230769  0.004041  \n",
       "4    0.634956    0.048327  0.211564  \n",
       "3    0.568702    0.023529  0.070149  \n",
       "2    0.568702         NaN  0.000000  \n",
       "1    0.568702         NaN  0.000000  \n",
       "0    0.000000    0.011594  0.584936  \n",
       "9    0.000000    0.231410       NaN  "
      ]
     },
     "execution_count": 16,
     "metadata": {},
     "output_type": "execute_result"
    }
   ],
   "source": [
    "ms.Gini_table[\"random_forest_test1\"] # the first holdout test base"
   ]
  },
  {
   "cell_type": "markdown",
   "metadata": {},
   "source": [
    "##### Lorenz curves"
   ]
  },
  {
   "cell_type": "code",
   "execution_count": 17,
   "metadata": {},
   "outputs": [
    {
     "data": {
      "text/html": [
       "\n",
       "<div class=\"bk-root\">\n",
       "    <div class=\"bk-plotdiv\" id=\"7e704552-7540-46e6-bdb0-bc0137ba1f14\"></div>\n",
       "</div>"
      ]
     },
     "metadata": {},
     "output_type": "display_data"
    },
    {
     "data": {
      "application/javascript": [
       "(function(root) {\n",
       "  function embed_document(root) {\n",
       "    \n",
       "  var docs_json = {\"984b2c4c-9552-4e59-a162-51aa720c6aa7\":{\"roots\":{\"references\":[{\"attributes\":{\"data_source\":{\"id\":\"6c28b98d-3be4-4d55-9cef-87551393983f\",\"type\":\"ColumnDataSource\"},\"glyph\":{\"id\":\"7bce6ebc-b3e6-48f7-a872-c1861cde06d1\",\"type\":\"Line\"},\"hover_glyph\":null,\"muted_glyph\":null,\"nonselection_glyph\":{\"id\":\"28dddb4d-e1ea-4b80-8007-7076886e4b44\",\"type\":\"Line\"},\"selection_glyph\":null,\"view\":{\"id\":\"d7c18be0-f85c-4243-9226-70411ae55dbb\",\"type\":\"CDSView\"}},\"id\":\"070f3a19-80ab-4e9e-b553-00575d9ea47a\",\"type\":\"GlyphRenderer\"},{\"attributes\":{},\"id\":\"25010bc9-3b57-416d-8f9b-65a509e426c1\",\"type\":\"WheelZoomTool\"},{\"attributes\":{},\"id\":\"d786cd26-93ca-481d-9d6d-323c21f49abc\",\"type\":\"Selection\"},{\"attributes\":{},\"id\":\"8f82c160-76b1-401c-8203-19e8a9234b00\",\"type\":\"LinearScale\"},{\"attributes\":{},\"id\":\"5a3626e9-7596-4dc5-a05c-2a116a1421e6\",\"type\":\"ResetTool\"},{\"attributes\":{},\"id\":\"5dc57e7d-dad3-4af1-b6e7-95501fa4354c\",\"type\":\"HelpTool\"},{\"attributes\":{\"label\":{\"value\":\"Event distribution - training\"},\"renderers\":[{\"id\":\"bc7ccd0d-2e39-4964-b18d-e2027612730c\",\"type\":\"GlyphRenderer\"}]},\"id\":\"ca16ab66-3f81-484a-894d-bd85dedbd2e0\",\"type\":\"LegendItem\"},{\"attributes\":{\"source\":{\"id\":\"24a23800-0360-4023-a008-bc9807a9e10d\",\"type\":\"ColumnDataSource\"}},\"id\":\"4f7a8959-a2b7-40f8-99ea-5c9dba754f39\",\"type\":\"CDSView\"},{\"attributes\":{},\"id\":\"67bddcdf-e031-4ca6-9548-b3ce6c4806d9\",\"type\":\"UnionRenderers\"},{\"attributes\":{\"background_fill_color\":{\"value\":\"white\"},\"border_line_alpha\":{\"value\":0.0},\"plot\":{\"id\":\"09c3f537-690b-4e5b-959a-ecb0ffc94230\",\"subtype\":\"Figure\",\"type\":\"Plot\"},\"render_mode\":\"css\",\"text\":\"training KS: 83.97%\",\"x\":70,\"x_units\":\"screen\",\"y\":-20,\"y_units\":\"screen\"},\"id\":\"c1daf2e2-3353-4b1c-9002-c1b6c493fed8\",\"type\":\"Label\"},{\"attributes\":{},\"id\":\"0d333b1d-21bf-4bd8-b776-cec614b8c2ac\",\"type\":\"BasicTickFormatter\"},{\"attributes\":{},\"id\":\"a7c5b1b6-285e-4561-84a3-81cedd8cc6a2\",\"type\":\"SaveTool\"},{\"attributes\":{\"callback\":null,\"data\":{\"x\":{\"__ndarray__\":\"AAAAAAAAAABzGnlF7UtYP22CvD9Vj5I/N5OmJ4SXuD8XidbaTJrOPxI5O/QaHdY/4pZLALVp3j9g6+S5RT/kP2Dr5LlFP+Q/AAAAAAAA8D8=\",\"dtype\":\"float64\",\"shape\":[10]},\"y\":{\"__ndarray__\":\"AAAAAAAAAAAAl0csViLXP5UO9kACreU/gKg7evLx7T/4VlAmffDuP5Dv83CEa+8/LRv5Gyer7z+XjfyNk9XvP5eN/I2T1e8/AAAAAAAA8D8=\",\"dtype\":\"float64\",\"shape\":[10]}},\"selected\":{\"id\":\"d786cd26-93ca-481d-9d6d-323c21f49abc\",\"type\":\"Selection\"},\"selection_policy\":{\"id\":\"6f0a9c9c-0152-4138-b8fe-a8fceb2531a4\",\"type\":\"UnionRenderers\"}},\"id\":\"24a23800-0360-4023-a008-bc9807a9e10d\",\"type\":\"ColumnDataSource\"},{\"attributes\":{\"plot\":null,\"text\":\"Gini curve for RANDOM_FOREST\"},\"id\":\"452b2dee-dd40-4051-8524-7e837fa84349\",\"type\":\"Title\"},{\"attributes\":{\"callback\":null},\"id\":\"979780e3-1f44-41ef-9279-4388209c753e\",\"type\":\"Range1d\"},{\"attributes\":{\"plot\":{\"id\":\"09c3f537-690b-4e5b-959a-ecb0ffc94230\",\"subtype\":\"Figure\",\"type\":\"Plot\"},\"ticker\":{\"id\":\"86385a94-b3c7-4b05-919e-18f25880bbff\",\"type\":\"BasicTicker\"}},\"id\":\"5be52d50-e707-4494-8522-7d49cc152a31\",\"type\":\"Grid\"},{\"attributes\":{},\"id\":\"6f0a9c9c-0152-4138-b8fe-a8fceb2531a4\",\"type\":\"UnionRenderers\"},{\"attributes\":{\"data_source\":{\"id\":\"40cfcb7f-dadd-4288-93c7-a0e66e8b98d2\",\"type\":\"ColumnDataSource\"},\"glyph\":{\"id\":\"34d95e4c-e313-4cf5-bf12-129b2ee3356e\",\"type\":\"Line\"},\"hover_glyph\":null,\"muted_glyph\":null,\"nonselection_glyph\":{\"id\":\"16361969-7233-46ee-8a54-6b2a4283b4c5\",\"type\":\"Line\"},\"selection_glyph\":null,\"view\":{\"id\":\"486b1a2a-20ed-47e5-97bd-4d683637d9a9\",\"type\":\"CDSView\"}},\"id\":\"0ec235c7-e59f-4def-8438-cc4739a157e7\",\"type\":\"GlyphRenderer\"},{\"attributes\":{\"background_fill_color\":{\"value\":\"white\"},\"border_line_alpha\":{\"value\":0.0},\"plot\":{\"id\":\"09c3f537-690b-4e5b-959a-ecb0ffc94230\",\"subtype\":\"Figure\",\"type\":\"Plot\"},\"render_mode\":\"css\",\"text\":\"test Gini: 92.77%\",\"x\":250,\"x_units\":\"screen\",\"y\":-40,\"y_units\":\"screen\"},\"id\":\"780b3b54-d95b-4be2-9029-0f60b8ff79ad\",\"type\":\"Label\"},{\"attributes\":{\"dimension\":1,\"plot\":{\"id\":\"09c3f537-690b-4e5b-959a-ecb0ffc94230\",\"subtype\":\"Figure\",\"type\":\"Plot\"},\"ticker\":{\"id\":\"6930ee12-c0bf-4f9f-af7a-a58e03986437\",\"type\":\"BasicTicker\"}},\"id\":\"f2bbdf6b-a3b2-49c9-b92c-8635ac25ee8f\",\"type\":\"Grid\"},{\"attributes\":{\"background_fill_color\":{\"value\":\"white\"},\"border_line_alpha\":{\"value\":0.0},\"plot\":{\"id\":\"09c3f537-690b-4e5b-959a-ecb0ffc94230\",\"subtype\":\"Figure\",\"type\":\"Plot\"},\"render_mode\":\"css\",\"text\":\"test KS: 84.13%\",\"x\":70,\"x_units\":\"screen\",\"y\":-40,\"y_units\":\"screen\"},\"id\":\"3c3f034c-d373-4a76-b4d1-d05daedbd735\",\"type\":\"Label\"},{\"attributes\":{},\"id\":\"031cd899-4b6a-441d-8294-9272fe38166d\",\"type\":\"PanTool\"},{\"attributes\":{\"line_alpha\":0.5,\"line_color\":\"#053C6D\",\"line_width\":2,\"x\":{\"field\":\"x\"},\"y\":{\"field\":\"y\"}},\"id\":\"ae12137d-05ab-44f5-b268-eb040bf69fef\",\"type\":\"Line\"},{\"attributes\":{\"active_drag\":\"auto\",\"active_inspect\":\"auto\",\"active_scroll\":\"auto\",\"active_tap\":\"auto\",\"tools\":[{\"id\":\"031cd899-4b6a-441d-8294-9272fe38166d\",\"type\":\"PanTool\"},{\"id\":\"25010bc9-3b57-416d-8f9b-65a509e426c1\",\"type\":\"WheelZoomTool\"},{\"id\":\"93010d89-a0a6-47d8-b774-e6d1062c2a92\",\"type\":\"BoxZoomTool\"},{\"id\":\"a7c5b1b6-285e-4561-84a3-81cedd8cc6a2\",\"type\":\"SaveTool\"},{\"id\":\"5a3626e9-7596-4dc5-a05c-2a116a1421e6\",\"type\":\"ResetTool\"},{\"id\":\"5dc57e7d-dad3-4af1-b6e7-95501fa4354c\",\"type\":\"HelpTool\"}]},\"id\":\"d820ab29-66f8-4092-916d-b5def73a1d95\",\"type\":\"Toolbar\"},{\"attributes\":{\"axis_label\":\"Cumulative Event\",\"formatter\":{\"id\":\"6820eac4-4541-40fd-9a4c-754f39514aea\",\"type\":\"BasicTickFormatter\"},\"plot\":{\"id\":\"09c3f537-690b-4e5b-959a-ecb0ffc94230\",\"subtype\":\"Figure\",\"type\":\"Plot\"},\"ticker\":{\"id\":\"6930ee12-c0bf-4f9f-af7a-a58e03986437\",\"type\":\"BasicTicker\"}},\"id\":\"629ccd27-cb38-47ed-8532-eb83a3964511\",\"type\":\"LinearAxis\"},{\"attributes\":{\"source\":{\"id\":\"6c28b98d-3be4-4d55-9cef-87551393983f\",\"type\":\"ColumnDataSource\"}},\"id\":\"d7c18be0-f85c-4243-9226-70411ae55dbb\",\"type\":\"CDSView\"},{\"attributes\":{\"line_alpha\":0.1,\"line_color\":\"#1f77b4\",\"line_width\":2,\"x\":{\"field\":\"x\"},\"y\":{\"field\":\"y\"}},\"id\":\"16361969-7233-46ee-8a54-6b2a4283b4c5\",\"type\":\"Line\"},{\"attributes\":{\"bottom_units\":\"screen\",\"fill_alpha\":{\"value\":0.5},\"fill_color\":{\"value\":\"lightgrey\"},\"left_units\":\"screen\",\"level\":\"overlay\",\"line_alpha\":{\"value\":1.0},\"line_color\":{\"value\":\"black\"},\"line_dash\":[4,4],\"line_width\":{\"value\":2},\"plot\":null,\"render_mode\":\"css\",\"right_units\":\"screen\",\"top_units\":\"screen\"},\"id\":\"b5874c3b-f7b1-46ae-b058-e7b2d9a7477a\",\"type\":\"BoxAnnotation\"},{\"attributes\":{\"line_alpha\":0.1,\"line_color\":\"#1f77b4\",\"line_width\":2,\"x\":{\"field\":\"x\"},\"y\":{\"field\":\"y\"}},\"id\":\"28dddb4d-e1ea-4b80-8007-7076886e4b44\",\"type\":\"Line\"},{\"attributes\":{\"background_fill_color\":{\"value\":\"white\"},\"border_line_alpha\":{\"value\":0.0},\"plot\":{\"id\":\"09c3f537-690b-4e5b-959a-ecb0ffc94230\",\"subtype\":\"Figure\",\"type\":\"Plot\"},\"render_mode\":\"css\",\"text\":\"test1 KS: 81.96%\",\"x\":70,\"x_units\":\"screen\",\"y\":-60,\"y_units\":\"screen\"},\"id\":\"90c971d6-c7f7-412e-abdd-9201eba2aac9\",\"type\":\"Label\"},{\"attributes\":{\"background_fill_color\":{\"value\":\"white\"},\"border_line_alpha\":{\"value\":0.0},\"plot\":{\"id\":\"09c3f537-690b-4e5b-959a-ecb0ffc94230\",\"subtype\":\"Figure\",\"type\":\"Plot\"},\"render_mode\":\"css\",\"text\":\"training Gini: 92.4%\",\"x\":250,\"x_units\":\"screen\",\"y\":-20,\"y_units\":\"screen\"},\"id\":\"5410cd89-10e9-40ae-8304-02aab6c2f5df\",\"type\":\"Label\"},{\"attributes\":{},\"id\":\"6820eac4-4541-40fd-9a4c-754f39514aea\",\"type\":\"BasicTickFormatter\"},{\"attributes\":{},\"id\":\"8c6d1f09-0a6c-4f31-8e2b-2af02cee536b\",\"type\":\"LinearScale\"},{\"attributes\":{},\"id\":\"1ed0eeb4-0a73-4c58-b975-8568ce31129b\",\"type\":\"Selection\"},{\"attributes\":{},\"id\":\"10af0628-3de9-4100-936a-a6227cf2c743\",\"type\":\"UnionRenderers\"},{\"attributes\":{\"below\":[{\"id\":\"4ec137b0-ab66-436e-a61d-4fa74080a8ba\",\"type\":\"LinearAxis\"}],\"left\":[{\"id\":\"629ccd27-cb38-47ed-8532-eb83a3964511\",\"type\":\"LinearAxis\"}],\"plot_height\":400,\"renderers\":[{\"id\":\"4ec137b0-ab66-436e-a61d-4fa74080a8ba\",\"type\":\"LinearAxis\"},{\"id\":\"5be52d50-e707-4494-8522-7d49cc152a31\",\"type\":\"Grid\"},{\"id\":\"629ccd27-cb38-47ed-8532-eb83a3964511\",\"type\":\"LinearAxis\"},{\"id\":\"f2bbdf6b-a3b2-49c9-b92c-8635ac25ee8f\",\"type\":\"Grid\"},{\"id\":\"b5874c3b-f7b1-46ae-b058-e7b2d9a7477a\",\"type\":\"BoxAnnotation\"},{\"id\":\"553d0606-875b-4b73-ae8d-ee1182a20b4f\",\"type\":\"Legend\"},{\"id\":\"bc7ccd0d-2e39-4964-b18d-e2027612730c\",\"type\":\"GlyphRenderer\"},{\"id\":\"070f3a19-80ab-4e9e-b553-00575d9ea47a\",\"type\":\"GlyphRenderer\"},{\"id\":\"0ec235c7-e59f-4def-8438-cc4739a157e7\",\"type\":\"GlyphRenderer\"},{\"id\":\"c1daf2e2-3353-4b1c-9002-c1b6c493fed8\",\"type\":\"Label\"},{\"id\":\"5410cd89-10e9-40ae-8304-02aab6c2f5df\",\"type\":\"Label\"},{\"id\":\"3c3f034c-d373-4a76-b4d1-d05daedbd735\",\"type\":\"Label\"},{\"id\":\"780b3b54-d95b-4be2-9029-0f60b8ff79ad\",\"type\":\"Label\"},{\"id\":\"8855bff8-b0dd-4806-949d-0929c11eba37\",\"type\":\"GlyphRenderer\"},{\"id\":\"90c971d6-c7f7-412e-abdd-9201eba2aac9\",\"type\":\"Label\"},{\"id\":\"a493009e-5ced-440d-b5e7-060ecbdf2037\",\"type\":\"Label\"}],\"title\":{\"id\":\"452b2dee-dd40-4051-8524-7e837fa84349\",\"type\":\"Title\"},\"toolbar\":{\"id\":\"d820ab29-66f8-4092-916d-b5def73a1d95\",\"type\":\"Toolbar\"},\"x_range\":{\"id\":\"87f5a0ad-124f-4235-b068-b71c2bf0599c\",\"type\":\"Range1d\"},\"x_scale\":{\"id\":\"8f82c160-76b1-401c-8203-19e8a9234b00\",\"type\":\"LinearScale\"},\"y_range\":{\"id\":\"979780e3-1f44-41ef-9279-4388209c753e\",\"type\":\"Range1d\"},\"y_scale\":{\"id\":\"8c6d1f09-0a6c-4f31-8e2b-2af02cee536b\",\"type\":\"LinearScale\"}},\"id\":\"09c3f537-690b-4e5b-959a-ecb0ffc94230\",\"subtype\":\"Figure\",\"type\":\"Plot\"},{\"attributes\":{\"data_source\":{\"id\":\"24a23800-0360-4023-a008-bc9807a9e10d\",\"type\":\"ColumnDataSource\"},\"glyph\":{\"id\":\"ae12137d-05ab-44f5-b268-eb040bf69fef\",\"type\":\"Line\"},\"hover_glyph\":null,\"muted_glyph\":null,\"nonselection_glyph\":{\"id\":\"3edb88a8-89a7-4a1e-9f77-86b452ce57cb\",\"type\":\"Line\"},\"selection_glyph\":null,\"view\":{\"id\":\"4f7a8959-a2b7-40f8-99ea-5c9dba754f39\",\"type\":\"CDSView\"}},\"id\":\"bc7ccd0d-2e39-4964-b18d-e2027612730c\",\"type\":\"GlyphRenderer\"},{\"attributes\":{\"background_fill_color\":{\"value\":\"white\"},\"border_line_alpha\":{\"value\":0.0},\"plot\":{\"id\":\"09c3f537-690b-4e5b-959a-ecb0ffc94230\",\"subtype\":\"Figure\",\"type\":\"Plot\"},\"render_mode\":\"css\",\"text\":\"test1 Gini: 90.46%\",\"x\":250,\"x_units\":\"screen\",\"y\":-60,\"y_units\":\"screen\"},\"id\":\"a493009e-5ced-440d-b5e7-060ecbdf2037\",\"type\":\"Label\"},{\"attributes\":{\"line_alpha\":0.1,\"line_color\":\"#1f77b4\",\"line_width\":2,\"x\":{\"field\":\"x\"},\"y\":{\"field\":\"y\"}},\"id\":\"3edb88a8-89a7-4a1e-9f77-86b452ce57cb\",\"type\":\"Line\"},{\"attributes\":{\"line_color\":\"#E46713\",\"line_width\":2,\"x\":{\"field\":\"x\"},\"y\":{\"field\":\"y\"}},\"id\":\"34d95e4c-e313-4cf5-bf12-129b2ee3356e\",\"type\":\"Line\"},{\"attributes\":{},\"id\":\"4d737247-8774-41f7-b010-0a4418eccbf0\",\"type\":\"Selection\"},{\"attributes\":{},\"id\":\"5b47bb27-228c-40fe-b7d2-ff37683395ae\",\"type\":\"Selection\"},{\"attributes\":{\"line_alpha\":0.1,\"line_color\":\"#1f77b4\",\"line_width\":2,\"x\":{\"field\":\"x\"},\"y\":{\"field\":\"y\"}},\"id\":\"59f53d48-b93b-47f2-a722-388f0616c681\",\"type\":\"Line\"},{\"attributes\":{\"label\":{\"value\":\"Event distribution - test1\"},\"renderers\":[{\"id\":\"8855bff8-b0dd-4806-949d-0929c11eba37\",\"type\":\"GlyphRenderer\"}]},\"id\":\"e12cc360-b952-4c92-a1ad-269bc2c27fb9\",\"type\":\"LegendItem\"},{\"attributes\":{\"callback\":null},\"id\":\"87f5a0ad-124f-4235-b068-b71c2bf0599c\",\"type\":\"Range1d\"},{\"attributes\":{},\"id\":\"6930ee12-c0bf-4f9f-af7a-a58e03986437\",\"type\":\"BasicTicker\"},{\"attributes\":{\"data_source\":{\"id\":\"27c1d149-5404-41c6-b7d9-87e5d5b3067a\",\"type\":\"ColumnDataSource\"},\"glyph\":{\"id\":\"fba5b8a1-1278-41e3-a92d-d09a4101debc\",\"type\":\"Line\"},\"hover_glyph\":null,\"muted_glyph\":null,\"nonselection_glyph\":{\"id\":\"59f53d48-b93b-47f2-a722-388f0616c681\",\"type\":\"Line\"},\"selection_glyph\":null,\"view\":{\"id\":\"a3368365-1a99-4535-baea-1692fb697c99\",\"type\":\"CDSView\"}},\"id\":\"8855bff8-b0dd-4806-949d-0929c11eba37\",\"type\":\"GlyphRenderer\"},{\"attributes\":{\"overlay\":{\"id\":\"b5874c3b-f7b1-46ae-b058-e7b2d9a7477a\",\"type\":\"BoxAnnotation\"}},\"id\":\"93010d89-a0a6-47d8-b774-e6d1062c2a92\",\"type\":\"BoxZoomTool\"},{\"attributes\":{\"source\":{\"id\":\"40cfcb7f-dadd-4288-93c7-a0e66e8b98d2\",\"type\":\"ColumnDataSource\"}},\"id\":\"486b1a2a-20ed-47e5-97bd-4d683637d9a9\",\"type\":\"CDSView\"},{\"attributes\":{\"source\":{\"id\":\"27c1d149-5404-41c6-b7d9-87e5d5b3067a\",\"type\":\"ColumnDataSource\"}},\"id\":\"a3368365-1a99-4535-baea-1692fb697c99\",\"type\":\"CDSView\"},{\"attributes\":{\"line_alpha\":0.5,\"line_color\":\"#97291E\",\"line_width\":2,\"x\":{\"field\":\"x\"},\"y\":{\"field\":\"y\"}},\"id\":\"7bce6ebc-b3e6-48f7-a872-c1861cde06d1\",\"type\":\"Line\"},{\"attributes\":{},\"id\":\"a0257173-a5f5-483b-829f-5c90aeba8bc9\",\"type\":\"UnionRenderers\"},{\"attributes\":{\"line_alpha\":0.5,\"line_width\":2,\"x\":{\"field\":\"x\"},\"y\":{\"field\":\"y\"}},\"id\":\"fba5b8a1-1278-41e3-a92d-d09a4101debc\",\"type\":\"Line\"},{\"attributes\":{\"label\":{\"value\":\"Event distribution - test\"},\"renderers\":[{\"id\":\"070f3a19-80ab-4e9e-b553-00575d9ea47a\",\"type\":\"GlyphRenderer\"}]},\"id\":\"9e2f283c-60a7-4f48-90a6-c97a661df90e\",\"type\":\"LegendItem\"},{\"attributes\":{\"callback\":null,\"data\":{\"x\":{\"__ndarray__\":\"AAAAAAAAAAC7bhsJruGAPzM1IdWBb5Q/JqkNhVIZvD8sd8+0pDW9P6z3Sl24hNU/D3XiCacg2j8PdeIJpyDaPw914gmnINo/AAAAAAAA8D8=\",\"dtype\":\"float64\",\"shape\":[10]},\"y\":{\"__ndarray__\":\"AAAAAAAAAADGSZRVZOjfP5xEWUWG/uU/fg+xMJq97T/UoFKwA+HtP8HhylfrE+8/NE6irCJD7z80TqKsIkPvPzROoqwiQ+8/AAAAAAAA8D8=\",\"dtype\":\"float64\",\"shape\":[10]}},\"selected\":{\"id\":\"4d737247-8774-41f7-b010-0a4418eccbf0\",\"type\":\"Selection\"},\"selection_policy\":{\"id\":\"67bddcdf-e031-4ca6-9548-b3ce6c4806d9\",\"type\":\"UnionRenderers\"}},\"id\":\"27c1d149-5404-41c6-b7d9-87e5d5b3067a\",\"type\":\"ColumnDataSource\"},{\"attributes\":{\"callback\":null,\"data\":{\"x\":{\"__ndarray__\":\"AAAAAAAAAABzGnlF7UtYP22CvD9Vj5I/N5OmJ4SXuD8XidbaTJrOPxI5O/QaHdY/4pZLALVp3j9g6+S5RT/kP2Dr5LlFP+Q/AAAAAAAA8D8=\",\"dtype\":\"float64\",\"shape\":[10]},\"y\":{\"__ndarray__\":\"AAAAAAAAAABzGnlF7UtYP22CvD9Vj5I/N5OmJ4SXuD8XidbaTJrOPxI5O/QaHdY/4pZLALVp3j9g6+S5RT/kP2Dr5LlFP+Q/AAAAAAAA8D8=\",\"dtype\":\"float64\",\"shape\":[10]}},\"selected\":{\"id\":\"1ed0eeb4-0a73-4c58-b975-8568ce31129b\",\"type\":\"Selection\"},\"selection_policy\":{\"id\":\"10af0628-3de9-4100-936a-a6227cf2c743\",\"type\":\"UnionRenderers\"}},\"id\":\"40cfcb7f-dadd-4288-93c7-a0e66e8b98d2\",\"type\":\"ColumnDataSource\"},{\"attributes\":{\"callback\":null,\"data\":{\"x\":{\"__ndarray__\":\"AAAAAAAAAABXHslu9dBFP8HWFhO4XJA/Nq/iCU3Cuj80CWuadcnPP9BChEQ5KNY/iwlcLgiY3j8nQ3XYy/bkPydDddjL9uQ/AAAAAAAA8D8=\",\"dtype\":\"float64\",\"shape\":[10]},\"y\":{\"__ndarray__\":\"AAAAAAAAAAADJbzR1PnVP14NSy/iROU/3mjq/NpD7j9joIQ3mjrvPymYzEHAre8/IeDWZzO+7z8ZKOGNps7vPxko4Y2mzu8/AAAAAAAA8D8=\",\"dtype\":\"float64\",\"shape\":[10]}},\"selected\":{\"id\":\"5b47bb27-228c-40fe-b7d2-ff37683395ae\",\"type\":\"Selection\"},\"selection_policy\":{\"id\":\"a0257173-a5f5-483b-829f-5c90aeba8bc9\",\"type\":\"UnionRenderers\"}},\"id\":\"6c28b98d-3be4-4d55-9cef-87551393983f\",\"type\":\"ColumnDataSource\"},{\"attributes\":{\"axis_label\":\"Cumulative Non_event\",\"formatter\":{\"id\":\"0d333b1d-21bf-4bd8-b776-cec614b8c2ac\",\"type\":\"BasicTickFormatter\"},\"plot\":{\"id\":\"09c3f537-690b-4e5b-959a-ecb0ffc94230\",\"subtype\":\"Figure\",\"type\":\"Plot\"},\"ticker\":{\"id\":\"86385a94-b3c7-4b05-919e-18f25880bbff\",\"type\":\"BasicTicker\"}},\"id\":\"4ec137b0-ab66-436e-a61d-4fa74080a8ba\",\"type\":\"LinearAxis\"},{\"attributes\":{\"items\":[{\"id\":\"ca16ab66-3f81-484a-894d-bd85dedbd2e0\",\"type\":\"LegendItem\"},{\"id\":\"9e2f283c-60a7-4f48-90a6-c97a661df90e\",\"type\":\"LegendItem\"},{\"id\":\"e12cc360-b952-4c92-a1ad-269bc2c27fb9\",\"type\":\"LegendItem\"}],\"location\":\"bottom_right\",\"plot\":{\"id\":\"09c3f537-690b-4e5b-959a-ecb0ffc94230\",\"subtype\":\"Figure\",\"type\":\"Plot\"}},\"id\":\"553d0606-875b-4b73-ae8d-ee1182a20b4f\",\"type\":\"Legend\"},{\"attributes\":{},\"id\":\"86385a94-b3c7-4b05-919e-18f25880bbff\",\"type\":\"BasicTicker\"}],\"root_ids\":[\"09c3f537-690b-4e5b-959a-ecb0ffc94230\"]},\"title\":\"Bokeh Application\",\"version\":\"0.12.16\"}};\n",
       "  var render_items = [{\"docid\":\"984b2c4c-9552-4e59-a162-51aa720c6aa7\",\"elementid\":\"7e704552-7540-46e6-bdb0-bc0137ba1f14\",\"modelid\":\"09c3f537-690b-4e5b-959a-ecb0ffc94230\"}];\n",
       "  root.Bokeh.embed.embed_items_notebook(docs_json, render_items);\n",
       "\n",
       "  }\n",
       "  if (root.Bokeh !== undefined) {\n",
       "    embed_document(root);\n",
       "  } else {\n",
       "    var attempts = 0;\n",
       "    var timer = setInterval(function(root) {\n",
       "      if (root.Bokeh !== undefined) {\n",
       "        embed_document(root);\n",
       "        clearInterval(timer);\n",
       "      }\n",
       "      attempts++;\n",
       "      if (attempts > 100) {\n",
       "        console.log(\"Bokeh: ERROR: Unable to run BokehJS code because BokehJS library is missing\")\n",
       "        clearInterval(timer);\n",
       "      }\n",
       "    }, 10, root)\n",
       "  }\n",
       "})(window);"
      ],
      "application/vnd.bokehjs_exec.v0+json": ""
     },
     "metadata": {
      "application/vnd.bokehjs_exec.v0+json": {
       "id": "09c3f537-690b-4e5b-959a-ecb0ffc94230"
      }
     },
     "output_type": "display_data"
    }
   ],
   "source": [
    "show(ms.plots[\"random_forest\"])"
   ]
  },
  {
   "cell_type": "code",
   "execution_count": null,
   "metadata": {},
   "outputs": [],
   "source": []
  },
  {
   "cell_type": "markdown",
   "metadata": {},
   "source": [
    "###### KS/Gini Coefficients"
   ]
  },
  {
   "cell_type": "code",
   "execution_count": 18,
   "metadata": {},
   "outputs": [
    {
     "name": "stdout",
     "output_type": "stream",
     "text": [
      "Random Forest training Gini:92.4%\n",
      "Random Forest test Gini:92.77%\n",
      "Random Forest holdout sample Gini:90.46%\n"
     ]
    }
   ],
   "source": [
    "print(f\"Random Forest training Gini:{ms.Gini['random_forest_train']:{4}.{4}}%\")\n",
    "print(f\"Random Forest test Gini:{ms.Gini['random_forest_test']:{4}.{4}}%\")\n",
    "print(f\"Random Forest holdout sample Gini:{ms.Gini['random_forest_test1']:{4}.{4}}%\")"
   ]
  },
  {
   "cell_type": "code",
   "execution_count": 19,
   "metadata": {},
   "outputs": [
    {
     "name": "stdout",
     "output_type": "stream",
     "text": [
      "Random Forest training KS:83.97%\n",
      "Random Forest test KS:84.13%\n",
      "Random Forest holdout sample KS:81.96%\n"
     ]
    }
   ],
   "source": [
    "print(f\"Random Forest training KS:{ms.KS['random_forest_train']:{4}.{4}}%\")\n",
    "print(f\"Random Forest test KS:{ms.KS['random_forest_test']:{4}.{4}}%\")\n",
    "print(f\"Random Forest holdout sample KS:{ms.KS['random_forest_test1']:{4}.{4}}%\")"
   ]
  },
  {
   "cell_type": "code",
   "execution_count": null,
   "metadata": {},
   "outputs": [],
   "source": []
  }
 ],
 "metadata": {
  "kernelspec": {
   "display_name": "Python 3",
   "language": "python",
   "name": "python3"
  },
  "language_info": {
   "codemirror_mode": {
    "name": "ipython",
    "version": 3
   },
   "file_extension": ".py",
   "mimetype": "text/x-python",
   "name": "python",
   "nbconvert_exporter": "python",
   "pygments_lexer": "ipython3",
   "version": "3.6.5"
  }
 },
 "nbformat": 4,
 "nbformat_minor": 2
}
