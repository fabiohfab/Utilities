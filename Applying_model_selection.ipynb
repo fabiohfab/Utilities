{
 "cells": [
  {
   "cell_type": "code",
   "execution_count": 1,
   "metadata": {},
   "outputs": [
    {
     "data": {
      "text/html": [
       "\n",
       "    <div class=\"bk-root\">\n",
       "        <a href=\"https://bokeh.pydata.org\" target=\"_blank\" class=\"bk-logo bk-logo-small bk-logo-notebook\"></a>\n",
       "        <span id=\"110c5d9a-9000-42a5-8ca4-97829c8e3299\">Loading BokehJS ...</span>\n",
       "    </div>"
      ]
     },
     "metadata": {},
     "output_type": "display_data"
    },
    {
     "data": {
      "application/javascript": [
       "\n",
       "(function(root) {\n",
       "  function now() {\n",
       "    return new Date();\n",
       "  }\n",
       "\n",
       "  var force = true;\n",
       "\n",
       "  if (typeof (root._bokeh_onload_callbacks) === \"undefined\" || force === true) {\n",
       "    root._bokeh_onload_callbacks = [];\n",
       "    root._bokeh_is_loading = undefined;\n",
       "  }\n",
       "\n",
       "  var JS_MIME_TYPE = 'application/javascript';\n",
       "  var HTML_MIME_TYPE = 'text/html';\n",
       "  var EXEC_MIME_TYPE = 'application/vnd.bokehjs_exec.v0+json';\n",
       "  var CLASS_NAME = 'output_bokeh rendered_html';\n",
       "\n",
       "  /**\n",
       "   * Render data to the DOM node\n",
       "   */\n",
       "  function render(props, node) {\n",
       "    var script = document.createElement(\"script\");\n",
       "    node.appendChild(script);\n",
       "  }\n",
       "\n",
       "  /**\n",
       "   * Handle when an output is cleared or removed\n",
       "   */\n",
       "  function handleClearOutput(event, handle) {\n",
       "    var cell = handle.cell;\n",
       "\n",
       "    var id = cell.output_area._bokeh_element_id;\n",
       "    var server_id = cell.output_area._bokeh_server_id;\n",
       "    // Clean up Bokeh references\n",
       "    if (id !== undefined) {\n",
       "      Bokeh.index[id].model.document.clear();\n",
       "      delete Bokeh.index[id];\n",
       "    }\n",
       "\n",
       "    if (server_id !== undefined) {\n",
       "      // Clean up Bokeh references\n",
       "      var cmd = \"from bokeh.io.state import curstate; print(curstate().uuid_to_server['\" + server_id + \"'].get_sessions()[0].document.roots[0]._id)\";\n",
       "      cell.notebook.kernel.execute(cmd, {\n",
       "        iopub: {\n",
       "          output: function(msg) {\n",
       "            var element_id = msg.content.text.trim();\n",
       "            Bokeh.index[element_id].model.document.clear();\n",
       "            delete Bokeh.index[element_id];\n",
       "          }\n",
       "        }\n",
       "      });\n",
       "      // Destroy server and session\n",
       "      var cmd = \"import bokeh.io.notebook as ion; ion.destroy_server('\" + server_id + \"')\";\n",
       "      cell.notebook.kernel.execute(cmd);\n",
       "    }\n",
       "  }\n",
       "\n",
       "  /**\n",
       "   * Handle when a new output is added\n",
       "   */\n",
       "  function handleAddOutput(event, handle) {\n",
       "    var output_area = handle.output_area;\n",
       "    var output = handle.output;\n",
       "\n",
       "    // limit handleAddOutput to display_data with EXEC_MIME_TYPE content only\n",
       "    if ((output.output_type != \"display_data\") || (!output.data.hasOwnProperty(EXEC_MIME_TYPE))) {\n",
       "      return\n",
       "    }\n",
       "\n",
       "    var toinsert = output_area.element.find(\".\" + CLASS_NAME.split(' ')[0]);\n",
       "\n",
       "    if (output.metadata[EXEC_MIME_TYPE][\"id\"] !== undefined) {\n",
       "      toinsert[0].firstChild.textContent = output.data[JS_MIME_TYPE];\n",
       "      // store reference to embed id on output_area\n",
       "      output_area._bokeh_element_id = output.metadata[EXEC_MIME_TYPE][\"id\"];\n",
       "    }\n",
       "    if (output.metadata[EXEC_MIME_TYPE][\"server_id\"] !== undefined) {\n",
       "      var bk_div = document.createElement(\"div\");\n",
       "      bk_div.innerHTML = output.data[HTML_MIME_TYPE];\n",
       "      var script_attrs = bk_div.children[0].attributes;\n",
       "      for (var i = 0; i < script_attrs.length; i++) {\n",
       "        toinsert[0].firstChild.setAttribute(script_attrs[i].name, script_attrs[i].value);\n",
       "      }\n",
       "      // store reference to server id on output_area\n",
       "      output_area._bokeh_server_id = output.metadata[EXEC_MIME_TYPE][\"server_id\"];\n",
       "    }\n",
       "  }\n",
       "\n",
       "  function register_renderer(events, OutputArea) {\n",
       "\n",
       "    function append_mime(data, metadata, element) {\n",
       "      // create a DOM node to render to\n",
       "      var toinsert = this.create_output_subarea(\n",
       "        metadata,\n",
       "        CLASS_NAME,\n",
       "        EXEC_MIME_TYPE\n",
       "      );\n",
       "      this.keyboard_manager.register_events(toinsert);\n",
       "      // Render to node\n",
       "      var props = {data: data, metadata: metadata[EXEC_MIME_TYPE]};\n",
       "      render(props, toinsert[0]);\n",
       "      element.append(toinsert);\n",
       "      return toinsert\n",
       "    }\n",
       "\n",
       "    /* Handle when an output is cleared or removed */\n",
       "    events.on('clear_output.CodeCell', handleClearOutput);\n",
       "    events.on('delete.Cell', handleClearOutput);\n",
       "\n",
       "    /* Handle when a new output is added */\n",
       "    events.on('output_added.OutputArea', handleAddOutput);\n",
       "\n",
       "    /**\n",
       "     * Register the mime type and append_mime function with output_area\n",
       "     */\n",
       "    OutputArea.prototype.register_mime_type(EXEC_MIME_TYPE, append_mime, {\n",
       "      /* Is output safe? */\n",
       "      safe: true,\n",
       "      /* Index of renderer in `output_area.display_order` */\n",
       "      index: 0\n",
       "    });\n",
       "  }\n",
       "\n",
       "  // register the mime type if in Jupyter Notebook environment and previously unregistered\n",
       "  if (root.Jupyter !== undefined) {\n",
       "    var events = require('base/js/events');\n",
       "    var OutputArea = require('notebook/js/outputarea').OutputArea;\n",
       "\n",
       "    if (OutputArea.prototype.mime_types().indexOf(EXEC_MIME_TYPE) == -1) {\n",
       "      register_renderer(events, OutputArea);\n",
       "    }\n",
       "  }\n",
       "\n",
       "  \n",
       "  if (typeof (root._bokeh_timeout) === \"undefined\" || force === true) {\n",
       "    root._bokeh_timeout = Date.now() + 5000;\n",
       "    root._bokeh_failed_load = false;\n",
       "  }\n",
       "\n",
       "  var NB_LOAD_WARNING = {'data': {'text/html':\n",
       "     \"<div style='background-color: #fdd'>\\n\"+\n",
       "     \"<p>\\n\"+\n",
       "     \"BokehJS does not appear to have successfully loaded. If loading BokehJS from CDN, this \\n\"+\n",
       "     \"may be due to a slow or bad network connection. Possible fixes:\\n\"+\n",
       "     \"</p>\\n\"+\n",
       "     \"<ul>\\n\"+\n",
       "     \"<li>re-rerun `output_notebook()` to attempt to load from CDN again, or</li>\\n\"+\n",
       "     \"<li>use INLINE resources instead, as so:</li>\\n\"+\n",
       "     \"</ul>\\n\"+\n",
       "     \"<code>\\n\"+\n",
       "     \"from bokeh.resources import INLINE\\n\"+\n",
       "     \"output_notebook(resources=INLINE)\\n\"+\n",
       "     \"</code>\\n\"+\n",
       "     \"</div>\"}};\n",
       "\n",
       "  function display_loaded() {\n",
       "    var el = document.getElementById(\"110c5d9a-9000-42a5-8ca4-97829c8e3299\");\n",
       "    if (el != null) {\n",
       "      el.textContent = \"BokehJS is loading...\";\n",
       "    }\n",
       "    if (root.Bokeh !== undefined) {\n",
       "      if (el != null) {\n",
       "        el.textContent = \"BokehJS \" + root.Bokeh.version + \" successfully loaded.\";\n",
       "      }\n",
       "    } else if (Date.now() < root._bokeh_timeout) {\n",
       "      setTimeout(display_loaded, 100)\n",
       "    }\n",
       "  }\n",
       "\n",
       "\n",
       "  function run_callbacks() {\n",
       "    try {\n",
       "      root._bokeh_onload_callbacks.forEach(function(callback) { callback() });\n",
       "    }\n",
       "    finally {\n",
       "      delete root._bokeh_onload_callbacks\n",
       "    }\n",
       "    console.info(\"Bokeh: all callbacks have finished\");\n",
       "  }\n",
       "\n",
       "  function load_libs(js_urls, callback) {\n",
       "    root._bokeh_onload_callbacks.push(callback);\n",
       "    if (root._bokeh_is_loading > 0) {\n",
       "      console.log(\"Bokeh: BokehJS is being loaded, scheduling callback at\", now());\n",
       "      return null;\n",
       "    }\n",
       "    if (js_urls == null || js_urls.length === 0) {\n",
       "      run_callbacks();\n",
       "      return null;\n",
       "    }\n",
       "    console.log(\"Bokeh: BokehJS not loaded, scheduling load and callback at\", now());\n",
       "    root._bokeh_is_loading = js_urls.length;\n",
       "    for (var i = 0; i < js_urls.length; i++) {\n",
       "      var url = js_urls[i];\n",
       "      var s = document.createElement('script');\n",
       "      s.src = url;\n",
       "      s.async = false;\n",
       "      s.onreadystatechange = s.onload = function() {\n",
       "        root._bokeh_is_loading--;\n",
       "        if (root._bokeh_is_loading === 0) {\n",
       "          console.log(\"Bokeh: all BokehJS libraries loaded\");\n",
       "          run_callbacks()\n",
       "        }\n",
       "      };\n",
       "      s.onerror = function() {\n",
       "        console.warn(\"failed to load library \" + url);\n",
       "      };\n",
       "      console.log(\"Bokeh: injecting script tag for BokehJS library: \", url);\n",
       "      document.getElementsByTagName(\"head\")[0].appendChild(s);\n",
       "    }\n",
       "  };var element = document.getElementById(\"110c5d9a-9000-42a5-8ca4-97829c8e3299\");\n",
       "  if (element == null) {\n",
       "    console.log(\"Bokeh: ERROR: autoload.js configured with elementid '110c5d9a-9000-42a5-8ca4-97829c8e3299' but no matching script tag was found. \")\n",
       "    return false;\n",
       "  }\n",
       "\n",
       "  var js_urls = [\"https://cdn.pydata.org/bokeh/release/bokeh-0.12.13.min.js\", \"https://cdn.pydata.org/bokeh/release/bokeh-widgets-0.12.13.min.js\", \"https://cdn.pydata.org/bokeh/release/bokeh-tables-0.12.13.min.js\", \"https://cdn.pydata.org/bokeh/release/bokeh-gl-0.12.13.min.js\"];\n",
       "\n",
       "  var inline_js = [\n",
       "    function(Bokeh) {\n",
       "      Bokeh.set_log_level(\"info\");\n",
       "    },\n",
       "    \n",
       "    function(Bokeh) {\n",
       "      \n",
       "    },\n",
       "    function(Bokeh) {\n",
       "      console.log(\"Bokeh: injecting CSS: https://cdn.pydata.org/bokeh/release/bokeh-0.12.13.min.css\");\n",
       "      Bokeh.embed.inject_css(\"https://cdn.pydata.org/bokeh/release/bokeh-0.12.13.min.css\");\n",
       "      console.log(\"Bokeh: injecting CSS: https://cdn.pydata.org/bokeh/release/bokeh-widgets-0.12.13.min.css\");\n",
       "      Bokeh.embed.inject_css(\"https://cdn.pydata.org/bokeh/release/bokeh-widgets-0.12.13.min.css\");\n",
       "      console.log(\"Bokeh: injecting CSS: https://cdn.pydata.org/bokeh/release/bokeh-tables-0.12.13.min.css\");\n",
       "      Bokeh.embed.inject_css(\"https://cdn.pydata.org/bokeh/release/bokeh-tables-0.12.13.min.css\");\n",
       "    }\n",
       "  ];\n",
       "\n",
       "  function run_inline_js() {\n",
       "    \n",
       "    if ((root.Bokeh !== undefined) || (force === true)) {\n",
       "      for (var i = 0; i < inline_js.length; i++) {\n",
       "        inline_js[i].call(root, root.Bokeh);\n",
       "      }if (force === true) {\n",
       "        display_loaded();\n",
       "      }} else if (Date.now() < root._bokeh_timeout) {\n",
       "      setTimeout(run_inline_js, 100);\n",
       "    } else if (!root._bokeh_failed_load) {\n",
       "      console.log(\"Bokeh: BokehJS failed to load within specified timeout.\");\n",
       "      root._bokeh_failed_load = true;\n",
       "    } else if (force !== true) {\n",
       "      var cell = $(document.getElementById(\"110c5d9a-9000-42a5-8ca4-97829c8e3299\")).parents('.cell').data().cell;\n",
       "      cell.output_area.append_execute_result(NB_LOAD_WARNING)\n",
       "    }\n",
       "\n",
       "  }\n",
       "\n",
       "  if (root._bokeh_is_loading === 0) {\n",
       "    console.log(\"Bokeh: BokehJS loaded, going straight to plotting\");\n",
       "    run_inline_js();\n",
       "  } else {\n",
       "    load_libs(js_urls, function() {\n",
       "      console.log(\"Bokeh: BokehJS plotting callback run at\", now());\n",
       "      run_inline_js();\n",
       "    });\n",
       "  }\n",
       "}(window));"
      ],
      "application/vnd.bokehjs_load.v0+json": "\n(function(root) {\n  function now() {\n    return new Date();\n  }\n\n  var force = true;\n\n  if (typeof (root._bokeh_onload_callbacks) === \"undefined\" || force === true) {\n    root._bokeh_onload_callbacks = [];\n    root._bokeh_is_loading = undefined;\n  }\n\n  \n\n  \n  if (typeof (root._bokeh_timeout) === \"undefined\" || force === true) {\n    root._bokeh_timeout = Date.now() + 5000;\n    root._bokeh_failed_load = false;\n  }\n\n  var NB_LOAD_WARNING = {'data': {'text/html':\n     \"<div style='background-color: #fdd'>\\n\"+\n     \"<p>\\n\"+\n     \"BokehJS does not appear to have successfully loaded. If loading BokehJS from CDN, this \\n\"+\n     \"may be due to a slow or bad network connection. Possible fixes:\\n\"+\n     \"</p>\\n\"+\n     \"<ul>\\n\"+\n     \"<li>re-rerun `output_notebook()` to attempt to load from CDN again, or</li>\\n\"+\n     \"<li>use INLINE resources instead, as so:</li>\\n\"+\n     \"</ul>\\n\"+\n     \"<code>\\n\"+\n     \"from bokeh.resources import INLINE\\n\"+\n     \"output_notebook(resources=INLINE)\\n\"+\n     \"</code>\\n\"+\n     \"</div>\"}};\n\n  function display_loaded() {\n    var el = document.getElementById(\"110c5d9a-9000-42a5-8ca4-97829c8e3299\");\n    if (el != null) {\n      el.textContent = \"BokehJS is loading...\";\n    }\n    if (root.Bokeh !== undefined) {\n      if (el != null) {\n        el.textContent = \"BokehJS \" + root.Bokeh.version + \" successfully loaded.\";\n      }\n    } else if (Date.now() < root._bokeh_timeout) {\n      setTimeout(display_loaded, 100)\n    }\n  }\n\n\n  function run_callbacks() {\n    try {\n      root._bokeh_onload_callbacks.forEach(function(callback) { callback() });\n    }\n    finally {\n      delete root._bokeh_onload_callbacks\n    }\n    console.info(\"Bokeh: all callbacks have finished\");\n  }\n\n  function load_libs(js_urls, callback) {\n    root._bokeh_onload_callbacks.push(callback);\n    if (root._bokeh_is_loading > 0) {\n      console.log(\"Bokeh: BokehJS is being loaded, scheduling callback at\", now());\n      return null;\n    }\n    if (js_urls == null || js_urls.length === 0) {\n      run_callbacks();\n      return null;\n    }\n    console.log(\"Bokeh: BokehJS not loaded, scheduling load and callback at\", now());\n    root._bokeh_is_loading = js_urls.length;\n    for (var i = 0; i < js_urls.length; i++) {\n      var url = js_urls[i];\n      var s = document.createElement('script');\n      s.src = url;\n      s.async = false;\n      s.onreadystatechange = s.onload = function() {\n        root._bokeh_is_loading--;\n        if (root._bokeh_is_loading === 0) {\n          console.log(\"Bokeh: all BokehJS libraries loaded\");\n          run_callbacks()\n        }\n      };\n      s.onerror = function() {\n        console.warn(\"failed to load library \" + url);\n      };\n      console.log(\"Bokeh: injecting script tag for BokehJS library: \", url);\n      document.getElementsByTagName(\"head\")[0].appendChild(s);\n    }\n  };var element = document.getElementById(\"110c5d9a-9000-42a5-8ca4-97829c8e3299\");\n  if (element == null) {\n    console.log(\"Bokeh: ERROR: autoload.js configured with elementid '110c5d9a-9000-42a5-8ca4-97829c8e3299' but no matching script tag was found. \")\n    return false;\n  }\n\n  var js_urls = [\"https://cdn.pydata.org/bokeh/release/bokeh-0.12.13.min.js\", \"https://cdn.pydata.org/bokeh/release/bokeh-widgets-0.12.13.min.js\", \"https://cdn.pydata.org/bokeh/release/bokeh-tables-0.12.13.min.js\", \"https://cdn.pydata.org/bokeh/release/bokeh-gl-0.12.13.min.js\"];\n\n  var inline_js = [\n    function(Bokeh) {\n      Bokeh.set_log_level(\"info\");\n    },\n    \n    function(Bokeh) {\n      \n    },\n    function(Bokeh) {\n      console.log(\"Bokeh: injecting CSS: https://cdn.pydata.org/bokeh/release/bokeh-0.12.13.min.css\");\n      Bokeh.embed.inject_css(\"https://cdn.pydata.org/bokeh/release/bokeh-0.12.13.min.css\");\n      console.log(\"Bokeh: injecting CSS: https://cdn.pydata.org/bokeh/release/bokeh-widgets-0.12.13.min.css\");\n      Bokeh.embed.inject_css(\"https://cdn.pydata.org/bokeh/release/bokeh-widgets-0.12.13.min.css\");\n      console.log(\"Bokeh: injecting CSS: https://cdn.pydata.org/bokeh/release/bokeh-tables-0.12.13.min.css\");\n      Bokeh.embed.inject_css(\"https://cdn.pydata.org/bokeh/release/bokeh-tables-0.12.13.min.css\");\n    }\n  ];\n\n  function run_inline_js() {\n    \n    if ((root.Bokeh !== undefined) || (force === true)) {\n      for (var i = 0; i < inline_js.length; i++) {\n        inline_js[i].call(root, root.Bokeh);\n      }if (force === true) {\n        display_loaded();\n      }} else if (Date.now() < root._bokeh_timeout) {\n      setTimeout(run_inline_js, 100);\n    } else if (!root._bokeh_failed_load) {\n      console.log(\"Bokeh: BokehJS failed to load within specified timeout.\");\n      root._bokeh_failed_load = true;\n    } else if (force !== true) {\n      var cell = $(document.getElementById(\"110c5d9a-9000-42a5-8ca4-97829c8e3299\")).parents('.cell').data().cell;\n      cell.output_area.append_execute_result(NB_LOAD_WARNING)\n    }\n\n  }\n\n  if (root._bokeh_is_loading === 0) {\n    console.log(\"Bokeh: BokehJS loaded, going straight to plotting\");\n    run_inline_js();\n  } else {\n    load_libs(js_urls, function() {\n      console.log(\"Bokeh: BokehJS plotting callback run at\", now());\n      run_inline_js();\n    });\n  }\n}(window));"
     },
     "metadata": {},
     "output_type": "display_data"
    }
   ],
   "source": [
    "from IPython.core.interactiveshell import InteractiveShell\n",
    "InteractiveShell.ast_node_interactivity = \"all\"\n",
    "\n",
    "import pandas as pd\n",
    "import warnings\n",
    "warnings.filterwarnings('ignore')\n",
    "\n",
    "from bokeh.plotting import output_notebook, show\n",
    "output_notebook()"
   ]
  },
  {
   "cell_type": "code",
   "execution_count": 7,
   "metadata": {},
   "outputs": [],
   "source": [
    "base = pd.read_csv(\"HR_comma_sep.csv\") #soruce = https://www.kaggle.com/ludobenistant/hr-analytics-1/data"
   ]
  },
  {
   "cell_type": "markdown",
   "metadata": {},
   "source": [
    "###### We'll use the same file to simulate the following datasets\n",
    "Train: the data we use to train and validate the models<br>\n",
    "holdout_data: the final test set to judge the real world model <br>\n",
    "new_data: new data the model will be applied on in production."
   ]
  },
  {
   "cell_type": "code",
   "execution_count": 3,
   "metadata": {},
   "outputs": [],
   "source": [
    "train = base.sample(10000)\n",
    "holdout_data = base[~base.index.isin(train.index)]\n",
    "new_data = holdout_data.sample(2000).drop(\"left\", axis=1) # removing the target as this won't have it in real use cases\n",
    "holdout_data = holdout_data[~holdout_data.index.isin(new_data.index)]"
   ]
  },
  {
   "cell_type": "code",
   "execution_count": 4,
   "metadata": {},
   "outputs": [
    {
     "data": {
      "text/plain": [
       "(10000, 10)"
      ]
     },
     "execution_count": 4,
     "metadata": {},
     "output_type": "execute_result"
    },
    {
     "data": {
      "text/plain": [
       "(2999, 10)"
      ]
     },
     "execution_count": 4,
     "metadata": {},
     "output_type": "execute_result"
    },
    {
     "data": {
      "text/plain": [
       "(2000, 9)"
      ]
     },
     "execution_count": 4,
     "metadata": {},
     "output_type": "execute_result"
    }
   ],
   "source": [
    "train.shape\n",
    "holdout_data.shape\n",
    "new_data.shape"
   ]
  },
  {
   "cell_type": "code",
   "execution_count": 5,
   "metadata": {},
   "outputs": [],
   "source": [
    "import Model_selection, importlib"
   ]
  },
  {
   "cell_type": "markdown",
   "metadata": {},
   "source": [
    "###### The following are the parameters used during the class instantiation\n",
    "modelBase: the training data<br>\n",
    "\n",
    "target: the target class to predict - must be an integer<br>\n",
    "\n",
    "scoring: any one of scikit learn's scorers - http://scikit-learn.org/stable/modules/model_evaluation.html<br>\n",
    "\n",
    "n_jobs: number of CPU cores to use<br>\n",
    "\n",
    "learning_curve: if true, scikit learn's learning curve will be used to determine the ideal training set size for cross validation<br>\n",
    "\n",
    "automated: if false, we will have to call functions apply_models and evaluate_models to get the performance characteristics<br>\n",
    "\n",
    "models: the models we want to test. we can use any or all of gbm, svm, random forest, logistic regression and naive_bayes<br>\n",
    "\n",
    "categorical_columns: a list of columns that will be used as categorical. If the columns are integer but need to be used as a category, python may change the type at times, so the data will be padded with an underscore "
   ]
  },
  {
   "cell_type": "code",
   "execution_count": 11,
   "metadata": {},
   "outputs": [
    {
     "name": "stdout",
     "output_type": "stream",
     "text": [
      "Fitting 5 folds for each of 100 candidates, totalling 500 fits\n"
     ]
    },
    {
     "name": "stderr",
     "output_type": "stream",
     "text": [
      "[Parallel(n_jobs=-1)]: Done  56 tasks      | elapsed:    1.1s\n",
      "[Parallel(n_jobs=-1)]: Done 306 tasks      | elapsed:    7.0s\n",
      "[Parallel(n_jobs=-1)]: Done 500 out of 500 | elapsed:   16.1s finished\n"
     ]
    },
    {
     "name": "stdout",
     "output_type": "stream",
     "text": [
      "gbm best CV score: -0.10486186001\n",
      "gbm fitting complete\n",
      "\n",
      "Fitting 5 folds for each of 100 candidates, totalling 500 fits\n"
     ]
    },
    {
     "name": "stderr",
     "output_type": "stream",
     "text": [
      "[Parallel(n_jobs=-1)]: Done  56 tasks      | elapsed:    1.3s\n",
      "[Parallel(n_jobs=-1)]: Done 306 tasks      | elapsed:    5.3s\n",
      "[Parallel(n_jobs=-1)]: Done 500 out of 500 | elapsed:   10.7s finished\n"
     ]
    },
    {
     "name": "stdout",
     "output_type": "stream",
     "text": [
      "random_forest best CV score: -0.173279428163\n",
      "random_forest fitting complete\n",
      "\n",
      "Fitting 5 folds for each of 4 candidates, totalling 20 fits\n"
     ]
    },
    {
     "name": "stderr",
     "output_type": "stream",
     "text": [
      "[Parallel(n_jobs=-1)]: Done   3 out of  20 | elapsed:    2.6s remaining:   14.9s\n",
      "[Parallel(n_jobs=-1)]: Done  20 out of  20 | elapsed:    5.0s finished\n"
     ]
    },
    {
     "name": "stdout",
     "output_type": "stream",
     "text": [
      "Fitting 5 folds for each of 36 candidates, totalling 180 fits\n"
     ]
    },
    {
     "name": "stderr",
     "output_type": "stream",
     "text": [
      "[Parallel(n_jobs=-1)]: Done 180 out of 180 | elapsed:   31.1s finished\n"
     ]
    },
    {
     "name": "stdout",
     "output_type": "stream",
     "text": [
      "svm best CV score: -0.119445805947\n",
      "svm fitting complete\n",
      "\n",
      "Fitting 5 folds for each of 5 candidates, totalling 25 fits\n"
     ]
    },
    {
     "name": "stderr",
     "output_type": "stream",
     "text": [
      "[Parallel(n_jobs=-1)]: Done  12 out of  25 | elapsed:    0.3s remaining:    0.4s\n",
      "[Parallel(n_jobs=-1)]: Done  25 out of  25 | elapsed:    0.5s finished\n"
     ]
    },
    {
     "name": "stdout",
     "output_type": "stream",
     "text": [
      "logistic_regression best CV score: -0.427050265553\n",
      "logistic_regression fitting complete\n",
      "\n",
      "gbm Training accuracy:98.96%\n",
      "gbm Test accuracy:97.6%\n",
      "gbm Training f1_score:97.78%\n",
      "gbm Test f1_score:95.15%\n",
      "\n",
      "random_forest Training accuracy:94.49%\n",
      "random_forest Test accuracy:94.9%\n",
      "random_forest Training f1_score:88.51%\n",
      "random_forest Test f1_score:90.04%\n",
      "\n",
      "svm Training accuracy:99.84%\n",
      "svm Test accuracy:97.3%\n",
      "svm Training f1_score:99.66%\n",
      "svm Test f1_score:94.59%\n",
      "\n",
      "logistic_regression Training accuracy:79.22%\n",
      "logistic_regression Test accuracy:77.85%\n",
      "logistic_regression Training f1_score:43.51%\n",
      "logistic_regression Test f1_score:43.99%\n",
      "\n"
     ]
    }
   ],
   "source": [
    "ms = Model_selection.model_train(modelBase=train, target=\"left\", scoring=\"neg_log_loss\", n_jobs=-1, learning_curve=True, automated=True, models=[\"gbm\", \"random_forest\", \"svm\", \"logistic_regression\"], categorical_columns=[\"Work_accident\", \"promotion_last_5years\"])"
   ]
  },
  {
   "cell_type": "markdown",
   "metadata": {},
   "source": [
    "###### Selecting and retraining the model\n",
    "One or more than one models can be selected and they will be trained on the full train/validation split used above to test on the final holdout set<br>\n",
    "\n",
    "Multiple holdout sets can be added to the function test_on_holdout_data and the performance plots and tables will bet updated accordingly<br>\n",
    "\n",
    "The plots will be a part of the dictionary ms.plots<br>\n",
    "The tables used to calculate the KS and Gini Coeficients will be a part of the dictionary ms.Gini_table"
   ]
  },
  {
   "cell_type": "code",
   "execution_count": 35,
   "metadata": {},
   "outputs": [],
   "source": [
    "ms.select_retrain_model([\"random_forest\"])"
   ]
  },
  {
   "cell_type": "code",
   "execution_count": 36,
   "metadata": {},
   "outputs": [
    {
     "data": {
      "text/html": [
       "\n",
       "<div class=\"bk-root\">\n",
       "    <div class=\"bk-plotdiv\" id=\"9676837e-51e4-4540-9335-c6c80f29dd04\"></div>\n",
       "</div>"
      ]
     },
     "metadata": {},
     "output_type": "display_data"
    },
    {
     "data": {
      "application/javascript": [
       "(function(root) {\n",
       "  function embed_document(root) {\n",
       "    \n",
       "  var docs_json = {\"62091829-29fc-48c9-a11d-0543c8005d80\":{\"roots\":{\"references\":[{\"attributes\":{},\"id\":\"45c1c662-38e2-4a64-a816-8108cfeabead\",\"type\":\"SaveTool\"},{\"attributes\":{},\"id\":\"64a92344-21cf-46c0-a47f-72a670a56a95\",\"type\":\"BasicTicker\"},{\"attributes\":{\"callback\":null,\"column_names\":[\"x\",\"y\"],\"data\":{\"x\":{\"__ndarray__\":\"AAAAAAAAAAARN1qO+b5SP0I9TAvjvZE/QtrwtjJWvj+IzLwQ6OnHPzORIw3RStY/Ujjlv4mm3j+gp1+TJYXjPyWs7Xj5+ec/1rFBFXbP6z8AAAAAAADwPw==\",\"dtype\":\"float64\",\"shape\":[11]},\"y\":{\"__ndarray__\":\"AAAAAAAAAAArBUF1tZnXP/uZMh71x+U/OYFZc7gC7j9VnuKbL7XuP6/sQnJMY+8/laf45kut7z+e4psvtb7vP/fEXLeW7u8/uZOFCfHy7z8AAAAAAADwPw==\",\"dtype\":\"float64\",\"shape\":[11]}}},\"id\":\"98128551-df27-479f-a991-8bd727d0f837\",\"type\":\"ColumnDataSource\"},{\"attributes\":{\"line_alpha\":0.1,\"line_color\":\"#1f77b4\",\"line_width\":2,\"x\":{\"field\":\"x\"},\"y\":{\"field\":\"y\"}},\"id\":\"d99a1346-dd51-478b-b14d-ec6f98b505ee\",\"type\":\"Line\"},{\"attributes\":{\"background_fill_color\":{\"value\":\"white\"},\"border_line_alpha\":{\"value\":0.0},\"plot\":{\"id\":\"975919cb-a85a-4553-a199-b232b506e06c\",\"subtype\":\"Figure\",\"type\":\"Plot\"},\"render_mode\":\"css\",\"text\":\"test1 KS: 80.92%\",\"x\":70,\"x_units\":\"screen\",\"y\":-60,\"y_units\":\"screen\"},\"id\":\"c4e85275-2077-4f1a-ba8c-13d7ffa0e114\",\"type\":\"Label\"},{\"attributes\":{\"data_source\":{\"id\":\"a02fdee4-f699-4b16-877f-dd667338f4fb\",\"type\":\"ColumnDataSource\"},\"glyph\":{\"id\":\"c7296551-f6fd-4d25-850d-0114062ffe51\",\"type\":\"Line\"},\"hover_glyph\":null,\"muted_glyph\":null,\"nonselection_glyph\":{\"id\":\"e586620d-7ac4-4dbc-8e0a-b92f20292a61\",\"type\":\"Line\"},\"selection_glyph\":null,\"view\":{\"id\":\"34b58ec5-ccb4-42ff-9e1b-1cfe309ee454\",\"type\":\"CDSView\"}},\"id\":\"be4b05f6-4137-44fd-85a4-aa6af0475daf\",\"type\":\"GlyphRenderer\"},{\"attributes\":{\"items\":[{\"id\":\"f6da29fb-13d9-4519-b490-3cf6e1071a45\",\"type\":\"LegendItem\"},{\"id\":\"8022de02-699f-42f7-bec5-60d1c93999b6\",\"type\":\"LegendItem\"},{\"id\":\"72c1818b-0f31-4d8d-b36c-e9c4ecfc4793\",\"type\":\"LegendItem\"}],\"location\":\"bottom_right\",\"plot\":{\"id\":\"975919cb-a85a-4553-a199-b232b506e06c\",\"subtype\":\"Figure\",\"type\":\"Plot\"}},\"id\":\"b13ef7e4-fcc0-4938-8aa5-5a49c747d686\",\"type\":\"Legend\"},{\"attributes\":{\"line_alpha\":0.5,\"line_width\":2,\"x\":{\"field\":\"x\"},\"y\":{\"field\":\"y\"}},\"id\":\"18ecbc06-ce07-4ea3-816b-3dd03c47f5a0\",\"type\":\"Line\"},{\"attributes\":{\"axis_label\":\"Cumulative Non_event\",\"formatter\":{\"id\":\"47a60281-a8bb-4d0a-bfd6-ebf9e83073a9\",\"type\":\"BasicTickFormatter\"},\"plot\":{\"id\":\"975919cb-a85a-4553-a199-b232b506e06c\",\"subtype\":\"Figure\",\"type\":\"Plot\"},\"ticker\":{\"id\":\"64a92344-21cf-46c0-a47f-72a670a56a95\",\"type\":\"BasicTicker\"}},\"id\":\"f1acfea0-cb60-42bb-8061-26b7d2398a3d\",\"type\":\"LinearAxis\"},{\"attributes\":{\"background_fill_color\":{\"value\":\"white\"},\"border_line_alpha\":{\"value\":0.0},\"plot\":{\"id\":\"975919cb-a85a-4553-a199-b232b506e06c\",\"subtype\":\"Figure\",\"type\":\"Plot\"},\"render_mode\":\"css\",\"text\":\"test1 Gini: 92.18%\",\"x\":250,\"x_units\":\"screen\",\"y\":-60,\"y_units\":\"screen\"},\"id\":\"f04ba79c-e85e-46bf-a142-2b5f08685f97\",\"type\":\"Label\"},{\"attributes\":{\"axis_label\":\"Cumulative Event\",\"formatter\":{\"id\":\"ea81162f-22a2-4391-ab99-4111eb6dee96\",\"type\":\"BasicTickFormatter\"},\"plot\":{\"id\":\"975919cb-a85a-4553-a199-b232b506e06c\",\"subtype\":\"Figure\",\"type\":\"Plot\"},\"ticker\":{\"id\":\"269e972b-5842-4673-9725-9b42308aa2cb\",\"type\":\"BasicTicker\"}},\"id\":\"680c01f1-531d-451d-b49d-1a6b34e2e158\",\"type\":\"LinearAxis\"},{\"attributes\":{},\"id\":\"47a60281-a8bb-4d0a-bfd6-ebf9e83073a9\",\"type\":\"BasicTickFormatter\"},{\"attributes\":{\"source\":{\"id\":\"d41c1082-c739-4174-8992-7e818cb444cc\",\"type\":\"ColumnDataSource\"}},\"id\":\"e908dca0-e1a5-47f4-8e1b-74a9d3096a26\",\"type\":\"CDSView\"},{\"attributes\":{\"source\":{\"id\":\"d6dd7c79-b71a-471a-b4f3-f8802bb92273\",\"type\":\"ColumnDataSource\"}},\"id\":\"c7723b71-9c83-4708-9d33-a03831ed913d\",\"type\":\"CDSView\"},{\"attributes\":{\"background_fill_color\":{\"value\":\"white\"},\"border_line_alpha\":{\"value\":0.0},\"plot\":{\"id\":\"975919cb-a85a-4553-a199-b232b506e06c\",\"subtype\":\"Figure\",\"type\":\"Plot\"},\"render_mode\":\"css\",\"text\":\"training Gini: 91.93%\",\"x\":250,\"x_units\":\"screen\",\"y\":-20,\"y_units\":\"screen\"},\"id\":\"976a5784-5ed1-4e8f-bd8e-94195734affa\",\"type\":\"Label\"},{\"attributes\":{\"plot\":null,\"text\":\"Gini curve for RANDOM_FOREST\"},\"id\":\"79d3a781-7466-4aa3-9c44-3eba72d94807\",\"type\":\"Title\"},{\"attributes\":{\"background_fill_color\":{\"value\":\"white\"},\"border_line_alpha\":{\"value\":0.0},\"plot\":{\"id\":\"975919cb-a85a-4553-a199-b232b506e06c\",\"subtype\":\"Figure\",\"type\":\"Plot\"},\"render_mode\":\"css\",\"text\":\"training KS: 81.93%\",\"x\":70,\"x_units\":\"screen\",\"y\":-20,\"y_units\":\"screen\"},\"id\":\"0c29d6ad-e279-4168-912d-03a480b9173b\",\"type\":\"Label\"},{\"attributes\":{\"background_fill_color\":{\"value\":\"white\"},\"border_line_alpha\":{\"value\":0.0},\"plot\":{\"id\":\"975919cb-a85a-4553-a199-b232b506e06c\",\"subtype\":\"Figure\",\"type\":\"Plot\"},\"render_mode\":\"css\",\"text\":\"test1 KS: 80.92%\",\"x\":70,\"x_units\":\"screen\",\"y\":-60,\"y_units\":\"screen\"},\"id\":\"a48d8cf7-01c7-4ba4-b6f6-ff4ac0614a2d\",\"type\":\"Label\"},{\"attributes\":{\"callback\":null,\"column_names\":[\"x\",\"y\"],\"data\":{\"x\":{\"__ndarray__\":\"AAAAAAAAAAARN1qO+b5SP0I9TAvjvZE/QtrwtjJWvj+IzLwQ6OnHPzORIw3RStY/Ujjlv4mm3j+gp1+TJYXjPyWs7Xj5+ec/1rFBFXbP6z8AAAAAAADwPw==\",\"dtype\":\"float64\",\"shape\":[11]},\"y\":{\"__ndarray__\":\"AAAAAAAAAAARN1qO+b5SP0I9TAvjvZE/QtrwtjJWvj+IzLwQ6OnHPzORIw3RStY/Ujjlv4mm3j+gp1+TJYXjPyWs7Xj5+ec/1rFBFXbP6z8AAAAAAADwPw==\",\"dtype\":\"float64\",\"shape\":[11]}}},\"id\":\"18ca0081-d6d6-43c3-a5e8-7ddfdecb7d24\",\"type\":\"ColumnDataSource\"},{\"attributes\":{\"bottom_units\":\"screen\",\"fill_alpha\":{\"value\":0.5},\"fill_color\":{\"value\":\"lightgrey\"},\"left_units\":\"screen\",\"level\":\"overlay\",\"line_alpha\":{\"value\":1.0},\"line_color\":{\"value\":\"black\"},\"line_dash\":[4,4],\"line_width\":{\"value\":2},\"plot\":null,\"render_mode\":\"css\",\"right_units\":\"screen\",\"top_units\":\"screen\"},\"id\":\"16386008-d65a-49c8-9c51-e4b9ef483970\",\"type\":\"BoxAnnotation\"},{\"attributes\":{\"label\":{\"value\":\"Event distribution - training\"},\"renderers\":[{\"id\":\"97cbca07-9647-4fca-aee2-76c135b536f7\",\"type\":\"GlyphRenderer\"}]},\"id\":\"f6da29fb-13d9-4519-b490-3cf6e1071a45\",\"type\":\"LegendItem\"},{\"attributes\":{\"label\":{\"value\":\"Event distribution - test1\"},\"renderers\":[{\"id\":\"6f05818c-6d85-435b-aa00-2c56b02d0ee5\",\"type\":\"GlyphRenderer\"},{\"id\":\"2fafaa54-c7ae-40a6-ab7d-367cc11e5eb4\",\"type\":\"GlyphRenderer\"}]},\"id\":\"72c1818b-0f31-4d8d-b36c-e9c4ecfc4793\",\"type\":\"LegendItem\"},{\"attributes\":{\"below\":[{\"id\":\"f1acfea0-cb60-42bb-8061-26b7d2398a3d\",\"type\":\"LinearAxis\"}],\"left\":[{\"id\":\"680c01f1-531d-451d-b49d-1a6b34e2e158\",\"type\":\"LinearAxis\"}],\"plot_height\":400,\"renderers\":[{\"id\":\"f1acfea0-cb60-42bb-8061-26b7d2398a3d\",\"type\":\"LinearAxis\"},{\"id\":\"798db5ce-9b57-4c2d-bd56-294c2e22373c\",\"type\":\"Grid\"},{\"id\":\"680c01f1-531d-451d-b49d-1a6b34e2e158\",\"type\":\"LinearAxis\"},{\"id\":\"a5762bcc-bf1a-407d-a022-4ed3fade9973\",\"type\":\"Grid\"},{\"id\":\"16386008-d65a-49c8-9c51-e4b9ef483970\",\"type\":\"BoxAnnotation\"},{\"id\":\"b13ef7e4-fcc0-4938-8aa5-5a49c747d686\",\"type\":\"Legend\"},{\"id\":\"97cbca07-9647-4fca-aee2-76c135b536f7\",\"type\":\"GlyphRenderer\"},{\"id\":\"be4b05f6-4137-44fd-85a4-aa6af0475daf\",\"type\":\"GlyphRenderer\"},{\"id\":\"d1d0afba-ca52-42c9-8ec1-8c85aa90b6e7\",\"type\":\"GlyphRenderer\"},{\"id\":\"0c29d6ad-e279-4168-912d-03a480b9173b\",\"type\":\"Label\"},{\"id\":\"976a5784-5ed1-4e8f-bd8e-94195734affa\",\"type\":\"Label\"},{\"id\":\"a30da947-dca3-441b-8d2b-78e628739c7d\",\"type\":\"Label\"},{\"id\":\"02d8958a-780b-4f65-9a55-971f355f6a70\",\"type\":\"Label\"},{\"id\":\"6f05818c-6d85-435b-aa00-2c56b02d0ee5\",\"type\":\"GlyphRenderer\"},{\"id\":\"c4e85275-2077-4f1a-ba8c-13d7ffa0e114\",\"type\":\"Label\"},{\"id\":\"5291cda0-e62c-489c-a9d1-8769e2de201a\",\"type\":\"Label\"},{\"id\":\"2fafaa54-c7ae-40a6-ab7d-367cc11e5eb4\",\"type\":\"GlyphRenderer\"},{\"id\":\"a48d8cf7-01c7-4ba4-b6f6-ff4ac0614a2d\",\"type\":\"Label\"},{\"id\":\"f04ba79c-e85e-46bf-a142-2b5f08685f97\",\"type\":\"Label\"}],\"title\":{\"id\":\"79d3a781-7466-4aa3-9c44-3eba72d94807\",\"type\":\"Title\"},\"toolbar\":{\"id\":\"69a25105-9eb3-4951-8393-75d7d8576e01\",\"type\":\"Toolbar\"},\"x_range\":{\"id\":\"62369ef1-4405-41ac-a173-bf30cef1ab72\",\"type\":\"Range1d\"},\"x_scale\":{\"id\":\"b57f03cb-f878-487e-9c4d-8fc7ee22f4b0\",\"type\":\"LinearScale\"},\"y_range\":{\"id\":\"a98e0d85-3a17-47f9-9937-bf7bdd508649\",\"type\":\"Range1d\"},\"y_scale\":{\"id\":\"1ff393bc-7c65-4553-9544-dc6d3a981f99\",\"type\":\"LinearScale\"}},\"id\":\"975919cb-a85a-4553-a199-b232b506e06c\",\"subtype\":\"Figure\",\"type\":\"Plot\"},{\"attributes\":{\"callback\":null,\"column_names\":[\"x\",\"y\"],\"data\":{\"x\":{\"__ndarray__\":\"AAAAAAAAAAAzdAEjN0N3P5+0wfzsSZs/W+ExYrIVvj8z/EHSKMO/PxJx3YQcEdc/JxdBWmly4T9PUbn36RTlP/3Kea/Pr+w/AAAAAAAA8D8=\",\"dtype\":\"float64\",\"shape\":[10]},\"y\":{\"__ndarray__\":\"AAAAAAAAAACHN3EBau/cP1zLYt0Pjuk/ZxvexAWo7T+l6RSBj7PtP9qGN3EBau8/yvjtUk/G7z+EY5KH7OjvPwAAAAAAAPA/AAAAAAAA8D8=\",\"dtype\":\"float64\",\"shape\":[10]}}},\"id\":\"d6dd7c79-b71a-471a-b4f3-f8802bb92273\",\"type\":\"ColumnDataSource\"},{\"attributes\":{\"data_source\":{\"id\":\"d41c1082-c739-4174-8992-7e818cb444cc\",\"type\":\"ColumnDataSource\"},\"glyph\":{\"id\":\"b7560871-de04-4287-80f5-9dcd911b4362\",\"type\":\"Line\"},\"hover_glyph\":null,\"muted_glyph\":null,\"nonselection_glyph\":{\"id\":\"76d2b89d-97ad-4967-8fdb-6aa7c00b6bb9\",\"type\":\"Line\"},\"selection_glyph\":null,\"view\":{\"id\":\"e908dca0-e1a5-47f4-8e1b-74a9d3096a26\",\"type\":\"CDSView\"}},\"id\":\"6f05818c-6d85-435b-aa00-2c56b02d0ee5\",\"type\":\"GlyphRenderer\"},{\"attributes\":{\"callback\":null},\"id\":\"a98e0d85-3a17-47f9-9937-bf7bdd508649\",\"type\":\"Range1d\"},{\"attributes\":{\"line_alpha\":0.5,\"line_color\":\"#053C6D\",\"line_width\":2,\"x\":{\"field\":\"x\"},\"y\":{\"field\":\"y\"}},\"id\":\"7a585a7f-9ea5-4042-8c8d-485426e76134\",\"type\":\"Line\"},{\"attributes\":{\"line_alpha\":0.5,\"line_color\":\"#97291E\",\"line_width\":2,\"x\":{\"field\":\"x\"},\"y\":{\"field\":\"y\"}},\"id\":\"c7296551-f6fd-4d25-850d-0114062ffe51\",\"type\":\"Line\"},{\"attributes\":{\"background_fill_color\":{\"value\":\"white\"},\"border_line_alpha\":{\"value\":0.0},\"plot\":{\"id\":\"975919cb-a85a-4553-a199-b232b506e06c\",\"subtype\":\"Figure\",\"type\":\"Plot\"},\"render_mode\":\"css\",\"text\":\"test KS: 84.26%\",\"x\":70,\"x_units\":\"screen\",\"y\":-40,\"y_units\":\"screen\"},\"id\":\"a30da947-dca3-441b-8d2b-78e628739c7d\",\"type\":\"Label\"},{\"attributes\":{\"line_alpha\":0.1,\"line_color\":\"#1f77b4\",\"line_width\":2,\"x\":{\"field\":\"x\"},\"y\":{\"field\":\"y\"}},\"id\":\"76d2b89d-97ad-4967-8fdb-6aa7c00b6bb9\",\"type\":\"Line\"},{\"attributes\":{\"background_fill_color\":{\"value\":\"white\"},\"border_line_alpha\":{\"value\":0.0},\"plot\":{\"id\":\"975919cb-a85a-4553-a199-b232b506e06c\",\"subtype\":\"Figure\",\"type\":\"Plot\"},\"render_mode\":\"css\",\"text\":\"test1 Gini: 92.05%\",\"x\":250,\"x_units\":\"screen\",\"y\":-60,\"y_units\":\"screen\"},\"id\":\"5291cda0-e62c-489c-a9d1-8769e2de201a\",\"type\":\"Label\"},{\"attributes\":{\"line_alpha\":0.1,\"line_color\":\"#1f77b4\",\"line_width\":2,\"x\":{\"field\":\"x\"},\"y\":{\"field\":\"y\"}},\"id\":\"804ee310-94aa-41a4-a0c8-88fa3beb0575\",\"type\":\"Line\"},{\"attributes\":{\"active_drag\":\"auto\",\"active_inspect\":\"auto\",\"active_scroll\":\"auto\",\"active_tap\":\"auto\",\"tools\":[{\"id\":\"ca43dde8-abaa-4ad7-855b-9afd14502e28\",\"type\":\"PanTool\"},{\"id\":\"8ab846af-0662-4fd7-9b55-8108f5b17ac9\",\"type\":\"WheelZoomTool\"},{\"id\":\"9531921b-263a-4cb4-8eef-09365f3d1a22\",\"type\":\"BoxZoomTool\"},{\"id\":\"45c1c662-38e2-4a64-a816-8108cfeabead\",\"type\":\"SaveTool\"},{\"id\":\"4ae84df4-b006-43df-afe9-9b5782ebdac7\",\"type\":\"ResetTool\"},{\"id\":\"b8c88a04-1f57-478e-a791-61b5496f2c66\",\"type\":\"HelpTool\"}]},\"id\":\"69a25105-9eb3-4951-8393-75d7d8576e01\",\"type\":\"Toolbar\"},{\"attributes\":{},\"id\":\"1ff393bc-7c65-4553-9544-dc6d3a981f99\",\"type\":\"LinearScale\"},{\"attributes\":{},\"id\":\"ea81162f-22a2-4391-ab99-4111eb6dee96\",\"type\":\"BasicTickFormatter\"},{\"attributes\":{\"source\":{\"id\":\"a02fdee4-f699-4b16-877f-dd667338f4fb\",\"type\":\"ColumnDataSource\"}},\"id\":\"34b58ec5-ccb4-42ff-9e1b-1cfe309ee454\",\"type\":\"CDSView\"},{\"attributes\":{\"plot\":{\"id\":\"975919cb-a85a-4553-a199-b232b506e06c\",\"subtype\":\"Figure\",\"type\":\"Plot\"},\"ticker\":{\"id\":\"64a92344-21cf-46c0-a47f-72a670a56a95\",\"type\":\"BasicTicker\"}},\"id\":\"798db5ce-9b57-4c2d-bd56-294c2e22373c\",\"type\":\"Grid\"},{\"attributes\":{\"callback\":null,\"column_names\":[\"x\",\"y\"],\"data\":{\"x\":{\"__ndarray__\":\"AAAAAAAAAACcRsr2rdRlP8j98DcYGpM/KK+hvIbyuj9vj6O1Q4/IP/SIAeOxUdU/0FZfhZru3T+lmPXgLQ/jPylQMi3jPOc/zE7aALeb6z8AAAAAAADwPw==\",\"dtype\":\"float64\",\"shape\":[11]},\"y\":{\"__ndarray__\":\"AAAAAAAAAAAjGbWlj3jXPy3zwmwko+Y/ErQbjilV7j9LH/GuaYbuP0JF4+fUW+8/x5Qq37/O7z/aDceUKt/vP+2GY0qV7+8/7YZjSpXv7z8AAAAAAADwPw==\",\"dtype\":\"float64\",\"shape\":[11]}}},\"id\":\"a02fdee4-f699-4b16-877f-dd667338f4fb\",\"type\":\"ColumnDataSource\"},{\"attributes\":{\"source\":{\"id\":\"98128551-df27-479f-a991-8bd727d0f837\",\"type\":\"ColumnDataSource\"}},\"id\":\"8e2ec938-aa92-4505-a9af-ead532e980f8\",\"type\":\"CDSView\"},{\"attributes\":{\"label\":{\"value\":\"Event distribution - test\"},\"renderers\":[{\"id\":\"be4b05f6-4137-44fd-85a4-aa6af0475daf\",\"type\":\"GlyphRenderer\"}]},\"id\":\"8022de02-699f-42f7-bec5-60d1c93999b6\",\"type\":\"LegendItem\"},{\"attributes\":{\"source\":{\"id\":\"18ca0081-d6d6-43c3-a5e8-7ddfdecb7d24\",\"type\":\"ColumnDataSource\"}},\"id\":\"d6e5fcaf-5363-4031-a3a3-f449e625590b\",\"type\":\"CDSView\"},{\"attributes\":{},\"id\":\"ca43dde8-abaa-4ad7-855b-9afd14502e28\",\"type\":\"PanTool\"},{\"attributes\":{\"line_alpha\":0.1,\"line_color\":\"#1f77b4\",\"line_width\":2,\"x\":{\"field\":\"x\"},\"y\":{\"field\":\"y\"}},\"id\":\"e586620d-7ac4-4dbc-8e0a-b92f20292a61\",\"type\":\"Line\"},{\"attributes\":{\"data_source\":{\"id\":\"18ca0081-d6d6-43c3-a5e8-7ddfdecb7d24\",\"type\":\"ColumnDataSource\"},\"glyph\":{\"id\":\"547031d6-7593-41c7-8749-e3c4909c0f31\",\"type\":\"Line\"},\"hover_glyph\":null,\"muted_glyph\":null,\"nonselection_glyph\":{\"id\":\"3aab7fd6-01fa-453e-93fa-b6011674ec5a\",\"type\":\"Line\"},\"selection_glyph\":null,\"view\":{\"id\":\"d6e5fcaf-5363-4031-a3a3-f449e625590b\",\"type\":\"CDSView\"}},\"id\":\"d1d0afba-ca52-42c9-8ec1-8c85aa90b6e7\",\"type\":\"GlyphRenderer\"},{\"attributes\":{\"callback\":null},\"id\":\"62369ef1-4405-41ac-a173-bf30cef1ab72\",\"type\":\"Range1d\"},{\"attributes\":{},\"id\":\"8ab846af-0662-4fd7-9b55-8108f5b17ac9\",\"type\":\"WheelZoomTool\"},{\"attributes\":{},\"id\":\"b57f03cb-f878-487e-9c4d-8fc7ee22f4b0\",\"type\":\"LinearScale\"},{\"attributes\":{\"dimension\":1,\"plot\":{\"id\":\"975919cb-a85a-4553-a199-b232b506e06c\",\"subtype\":\"Figure\",\"type\":\"Plot\"},\"ticker\":{\"id\":\"269e972b-5842-4673-9725-9b42308aa2cb\",\"type\":\"BasicTicker\"}},\"id\":\"a5762bcc-bf1a-407d-a022-4ed3fade9973\",\"type\":\"Grid\"},{\"attributes\":{},\"id\":\"269e972b-5842-4673-9725-9b42308aa2cb\",\"type\":\"BasicTicker\"},{\"attributes\":{\"callback\":null,\"column_names\":[\"x\",\"y\"],\"data\":{\"x\":{\"__ndarray__\":\"AAAAAAAAAAAzdAEjN0N3P3atAQFn15o/W+ExYrIVvj8z/EHSKMO/PxJx3YQcEdc/VO59OkXl3j8mKCmQZ4LiP8fdUWRv3O0/AAAAAAAA8D8=\",\"dtype\":\"float64\",\"shape\":[10]},\"y\":{\"__ndarray__\":\"AAAAAAAAAAATYiiYL6rcP+Au9WT8duk/ZxvexAWo7T+l6RSBj7PtP9qGN3EBau8/TlyA2juv7z/K+O1ST8bvPwAAAAAAAPA/AAAAAAAA8D8=\",\"dtype\":\"float64\",\"shape\":[10]}}},\"id\":\"d41c1082-c739-4174-8992-7e818cb444cc\",\"type\":\"ColumnDataSource\"},{\"attributes\":{\"data_source\":{\"id\":\"98128551-df27-479f-a991-8bd727d0f837\",\"type\":\"ColumnDataSource\"},\"glyph\":{\"id\":\"7a585a7f-9ea5-4042-8c8d-485426e76134\",\"type\":\"Line\"},\"hover_glyph\":null,\"muted_glyph\":null,\"nonselection_glyph\":{\"id\":\"804ee310-94aa-41a4-a0c8-88fa3beb0575\",\"type\":\"Line\"},\"selection_glyph\":null,\"view\":{\"id\":\"8e2ec938-aa92-4505-a9af-ead532e980f8\",\"type\":\"CDSView\"}},\"id\":\"97cbca07-9647-4fca-aee2-76c135b536f7\",\"type\":\"GlyphRenderer\"},{\"attributes\":{\"data_source\":{\"id\":\"d6dd7c79-b71a-471a-b4f3-f8802bb92273\",\"type\":\"ColumnDataSource\"},\"glyph\":{\"id\":\"18ecbc06-ce07-4ea3-816b-3dd03c47f5a0\",\"type\":\"Line\"},\"hover_glyph\":null,\"muted_glyph\":null,\"nonselection_glyph\":{\"id\":\"d99a1346-dd51-478b-b14d-ec6f98b505ee\",\"type\":\"Line\"},\"selection_glyph\":null,\"view\":{\"id\":\"c7723b71-9c83-4708-9d33-a03831ed913d\",\"type\":\"CDSView\"}},\"id\":\"2fafaa54-c7ae-40a6-ab7d-367cc11e5eb4\",\"type\":\"GlyphRenderer\"},{\"attributes\":{},\"id\":\"b8c88a04-1f57-478e-a791-61b5496f2c66\",\"type\":\"HelpTool\"},{\"attributes\":{\"line_alpha\":0.1,\"line_color\":\"#1f77b4\",\"line_width\":2,\"x\":{\"field\":\"x\"},\"y\":{\"field\":\"y\"}},\"id\":\"3aab7fd6-01fa-453e-93fa-b6011674ec5a\",\"type\":\"Line\"},{\"attributes\":{\"line_alpha\":0.5,\"line_width\":2,\"x\":{\"field\":\"x\"},\"y\":{\"field\":\"y\"}},\"id\":\"b7560871-de04-4287-80f5-9dcd911b4362\",\"type\":\"Line\"},{\"attributes\":{\"overlay\":{\"id\":\"16386008-d65a-49c8-9c51-e4b9ef483970\",\"type\":\"BoxAnnotation\"}},\"id\":\"9531921b-263a-4cb4-8eef-09365f3d1a22\",\"type\":\"BoxZoomTool\"},{\"attributes\":{},\"id\":\"4ae84df4-b006-43df-afe9-9b5782ebdac7\",\"type\":\"ResetTool\"},{\"attributes\":{\"line_color\":\"#E46713\",\"line_width\":2,\"x\":{\"field\":\"x\"},\"y\":{\"field\":\"y\"}},\"id\":\"547031d6-7593-41c7-8749-e3c4909c0f31\",\"type\":\"Line\"},{\"attributes\":{\"background_fill_color\":{\"value\":\"white\"},\"border_line_alpha\":{\"value\":0.0},\"plot\":{\"id\":\"975919cb-a85a-4553-a199-b232b506e06c\",\"subtype\":\"Figure\",\"type\":\"Plot\"},\"render_mode\":\"css\",\"text\":\"test Gini: 92.68%\",\"x\":250,\"x_units\":\"screen\",\"y\":-40,\"y_units\":\"screen\"},\"id\":\"02d8958a-780b-4f65-9a55-971f355f6a70\",\"type\":\"Label\"}],\"root_ids\":[\"975919cb-a85a-4553-a199-b232b506e06c\"]},\"title\":\"Bokeh Application\",\"version\":\"0.12.13\"}};\n",
       "  var render_items = [{\"docid\":\"62091829-29fc-48c9-a11d-0543c8005d80\",\"elementid\":\"9676837e-51e4-4540-9335-c6c80f29dd04\",\"modelid\":\"975919cb-a85a-4553-a199-b232b506e06c\"}];\n",
       "  root.Bokeh.embed.embed_items_notebook(docs_json, render_items);\n",
       "\n",
       "  }\n",
       "  if (root.Bokeh !== undefined) {\n",
       "    embed_document(root);\n",
       "  } else {\n",
       "    var attempts = 0;\n",
       "    var timer = setInterval(function(root) {\n",
       "      if (root.Bokeh !== undefined) {\n",
       "        embed_document(root);\n",
       "        clearInterval(timer);\n",
       "      }\n",
       "      attempts++;\n",
       "      if (attempts > 100) {\n",
       "        console.log(\"Bokeh: ERROR: Unable to run BokehJS code because BokehJS library is missing\")\n",
       "        clearInterval(timer);\n",
       "      }\n",
       "    }, 10, root)\n",
       "  }\n",
       "})(window);"
      ],
      "application/vnd.bokehjs_exec.v0+json": ""
     },
     "metadata": {
      "application/vnd.bokehjs_exec.v0+json": {
       "id": "975919cb-a85a-4553-a199-b232b506e06c"
      }
     },
     "output_type": "display_data"
    },
    {
     "name": "stdout",
     "output_type": "stream",
     "text": [
      "Re-fitting on the full data...\n"
     ]
    }
   ],
   "source": [
    "ms.test_on_holdout_data(X=holdout_data.loc[:, holdout_data.columns!=ms.target], y = holdout_data.loc[:, ms.target])"
   ]
  },
  {
   "cell_type": "code",
   "execution_count": null,
   "metadata": {},
   "outputs": [],
   "source": []
  },
  {
   "cell_type": "markdown",
   "metadata": {},
   "source": [
    "###### Saving the final model objects \n",
    "The following will be saved as pickle objects. They can be loaded and used on new data using the model_apply method<br>\n",
    "\n",
    "DictVectorizer.pkl: the dictvectorizer object<br>\n",
    "feature_levels.pkl: the levels of all object variables<br>\n",
    "Categorical_columns.pkl: all columns specified as categorical <br>\n",
    "model.pkl: the final model to be applied to the test set (name will vary based on the model)"
   ]
  },
  {
   "cell_type": "code",
   "execution_count": 37,
   "metadata": {},
   "outputs": [],
   "source": [
    "ms.save_model_objects()"
   ]
  },
  {
   "cell_type": "markdown",
   "metadata": {},
   "source": [
    "###### Classifying new data\n",
    "Make sure that the objects are in the relevant folder or that the paths are provided correcty. The model can predict the class probabilies as well as the labels"
   ]
  },
  {
   "cell_type": "code",
   "execution_count": 40,
   "metadata": {},
   "outputs": [],
   "source": [
    "predictions_probabilities = Model_selection.model_apply(new_data, model=\"random_forest.pkl\", predict_proba=True)\n",
    "predictions = Model_selection.model_apply(new_data, model=\"random_forest.pkl\", predict_proba=False)"
   ]
  },
  {
   "cell_type": "code",
   "execution_count": 41,
   "metadata": {},
   "outputs": [
    {
     "data": {
      "text/plain": [
       "array([[ 0.99104889,  0.00895111],\n",
       "       [ 0.85469338,  0.14530662],\n",
       "       [ 0.23716275,  0.76283725],\n",
       "       ..., \n",
       "       [ 0.99104889,  0.00895111],\n",
       "       [ 0.93131162,  0.06868838],\n",
       "       [ 0.99104889,  0.00895111]])"
      ]
     },
     "execution_count": 41,
     "metadata": {},
     "output_type": "execute_result"
    },
    {
     "data": {
      "text/plain": [
       "array([0, 0, 1, ..., 0, 0, 0])"
      ]
     },
     "execution_count": 41,
     "metadata": {},
     "output_type": "execute_result"
    }
   ],
   "source": [
    "predictions_probabilities\n",
    "predictions"
   ]
  },
  {
   "cell_type": "code",
   "execution_count": null,
   "metadata": {},
   "outputs": [],
   "source": []
  },
  {
   "cell_type": "markdown",
   "metadata": {},
   "source": [
    "###### Performance characteristics saved inside the class"
   ]
  },
  {
   "cell_type": "code",
   "execution_count": 18,
   "metadata": {
    "scrolled": true
   },
   "outputs": [
    {
     "data": {
      "text/html": [
       "<div>\n",
       "<style scoped>\n",
       "    .dataframe tbody tr th:only-of-type {\n",
       "        vertical-align: middle;\n",
       "    }\n",
       "\n",
       "    .dataframe tbody tr th {\n",
       "        vertical-align: top;\n",
       "    }\n",
       "\n",
       "    .dataframe thead th {\n",
       "        text-align: right;\n",
       "    }\n",
       "</style>\n",
       "<table border=\"1\" class=\"dataframe\">\n",
       "  <thead>\n",
       "    <tr style=\"text-align: right;\">\n",
       "      <th></th>\n",
       "      <th>Probability_of_Event</th>\n",
       "      <th>Event</th>\n",
       "      <th>Total</th>\n",
       "      <th>Non_event</th>\n",
       "      <th>Cumulative_Non_event</th>\n",
       "      <th>Cumulative_Event</th>\n",
       "      <th>Population_%</th>\n",
       "      <th>Cumulative_Non_event_%</th>\n",
       "      <th>Cumulative_Event_%</th>\n",
       "      <th>Difference</th>\n",
       "      <th>Event_rate</th>\n",
       "      <th>Gini</th>\n",
       "    </tr>\n",
       "  </thead>\n",
       "  <tbody>\n",
       "    <tr>\n",
       "      <th>9</th>\n",
       "      <td>(0.884, 1.0]</td>\n",
       "      <td>183</td>\n",
       "      <td>187</td>\n",
       "      <td>4</td>\n",
       "      <td>4</td>\n",
       "      <td>183</td>\n",
       "      <td>0.0935</td>\n",
       "      <td>0.002665</td>\n",
       "      <td>0.366733</td>\n",
       "      <td>0.364069</td>\n",
       "      <td>0.978610</td>\n",
       "      <td>0.000489</td>\n",
       "    </tr>\n",
       "    <tr>\n",
       "      <th>8</th>\n",
       "      <td>(0.754, 0.884]</td>\n",
       "      <td>170</td>\n",
       "      <td>194</td>\n",
       "      <td>24</td>\n",
       "      <td>28</td>\n",
       "      <td>353</td>\n",
       "      <td>0.0970</td>\n",
       "      <td>0.018654</td>\n",
       "      <td>0.707415</td>\n",
       "      <td>0.688761</td>\n",
       "      <td>0.876289</td>\n",
       "      <td>0.008587</td>\n",
       "    </tr>\n",
       "    <tr>\n",
       "      <th>7</th>\n",
       "      <td>(0.118, 0.754]</td>\n",
       "      <td>120</td>\n",
       "      <td>250</td>\n",
       "      <td>130</td>\n",
       "      <td>158</td>\n",
       "      <td>473</td>\n",
       "      <td>0.1250</td>\n",
       "      <td>0.105263</td>\n",
       "      <td>0.947896</td>\n",
       "      <td>0.842633</td>\n",
       "      <td>0.480000</td>\n",
       "      <td>0.071682</td>\n",
       "    </tr>\n",
       "    <tr>\n",
       "      <th>6</th>\n",
       "      <td>(0.0712, 0.118]</td>\n",
       "      <td>3</td>\n",
       "      <td>133</td>\n",
       "      <td>130</td>\n",
       "      <td>288</td>\n",
       "      <td>476</td>\n",
       "      <td>0.0665</td>\n",
       "      <td>0.191872</td>\n",
       "      <td>0.953908</td>\n",
       "      <td>0.762036</td>\n",
       "      <td>0.022556</td>\n",
       "      <td>0.082357</td>\n",
       "    </tr>\n",
       "    <tr>\n",
       "      <th>5</th>\n",
       "      <td>(0.0277, 0.0712]</td>\n",
       "      <td>13</td>\n",
       "      <td>225</td>\n",
       "      <td>212</td>\n",
       "      <td>500</td>\n",
       "      <td>489</td>\n",
       "      <td>0.1125</td>\n",
       "      <td>0.333111</td>\n",
       "      <td>0.979960</td>\n",
       "      <td>0.646849</td>\n",
       "      <td>0.057778</td>\n",
       "      <td>0.136569</td>\n",
       "    </tr>\n",
       "    <tr>\n",
       "      <th>4</th>\n",
       "      <td>(0.00988, 0.0277]</td>\n",
       "      <td>7</td>\n",
       "      <td>209</td>\n",
       "      <td>202</td>\n",
       "      <td>702</td>\n",
       "      <td>496</td>\n",
       "      <td>0.1045</td>\n",
       "      <td>0.467688</td>\n",
       "      <td>0.993988</td>\n",
       "      <td>0.526300</td>\n",
       "      <td>0.033493</td>\n",
       "      <td>0.132824</td>\n",
       "    </tr>\n",
       "    <tr>\n",
       "      <th>3</th>\n",
       "      <td>(0.00909, 0.00988]</td>\n",
       "      <td>1</td>\n",
       "      <td>193</td>\n",
       "      <td>192</td>\n",
       "      <td>894</td>\n",
       "      <td>497</td>\n",
       "      <td>0.0965</td>\n",
       "      <td>0.595603</td>\n",
       "      <td>0.995992</td>\n",
       "      <td>0.400389</td>\n",
       "      <td>0.005181</td>\n",
       "      <td>0.127274</td>\n",
       "    </tr>\n",
       "    <tr>\n",
       "      <th>2</th>\n",
       "      <td>(0.00903, 0.00909]</td>\n",
       "      <td>1</td>\n",
       "      <td>197</td>\n",
       "      <td>196</td>\n",
       "      <td>1090</td>\n",
       "      <td>498</td>\n",
       "      <td>0.0985</td>\n",
       "      <td>0.726183</td>\n",
       "      <td>0.997996</td>\n",
       "      <td>0.271813</td>\n",
       "      <td>0.005076</td>\n",
       "      <td>0.130187</td>\n",
       "    </tr>\n",
       "    <tr>\n",
       "      <th>1</th>\n",
       "      <td>(0.00888, 0.00903]</td>\n",
       "      <td>0</td>\n",
       "      <td>205</td>\n",
       "      <td>205</td>\n",
       "      <td>1295</td>\n",
       "      <td>498</td>\n",
       "      <td>0.1025</td>\n",
       "      <td>0.862758</td>\n",
       "      <td>0.997996</td>\n",
       "      <td>0.135238</td>\n",
       "      <td>0.000000</td>\n",
       "      <td>0.136302</td>\n",
       "    </tr>\n",
       "    <tr>\n",
       "      <th>0</th>\n",
       "      <td>(-0.001, 0.00888]</td>\n",
       "      <td>1</td>\n",
       "      <td>207</td>\n",
       "      <td>206</td>\n",
       "      <td>1501</td>\n",
       "      <td>499</td>\n",
       "      <td>0.1035</td>\n",
       "      <td>1.000000</td>\n",
       "      <td>1.000000</td>\n",
       "      <td>0.000000</td>\n",
       "      <td>0.004831</td>\n",
       "      <td>0.137104</td>\n",
       "    </tr>\n",
       "    <tr>\n",
       "      <th>10</th>\n",
       "      <td>All</td>\n",
       "      <td>499</td>\n",
       "      <td>2000</td>\n",
       "      <td>1501</td>\n",
       "      <td>1501</td>\n",
       "      <td>499</td>\n",
       "      <td>1.0000</td>\n",
       "      <td>1.000000</td>\n",
       "      <td>1.000000</td>\n",
       "      <td>0.000000</td>\n",
       "      <td>0.249500</td>\n",
       "      <td>NaN</td>\n",
       "    </tr>\n",
       "  </tbody>\n",
       "</table>\n",
       "</div>"
      ],
      "text/plain": [
       "   Probability_of_Event  Event  Total  Non_event  Cumulative_Non_event  \\\n",
       "9          (0.884, 1.0]    183    187          4                     4   \n",
       "8        (0.754, 0.884]    170    194         24                    28   \n",
       "7        (0.118, 0.754]    120    250        130                   158   \n",
       "6       (0.0712, 0.118]      3    133        130                   288   \n",
       "5      (0.0277, 0.0712]     13    225        212                   500   \n",
       "4     (0.00988, 0.0277]      7    209        202                   702   \n",
       "3    (0.00909, 0.00988]      1    193        192                   894   \n",
       "2    (0.00903, 0.00909]      1    197        196                  1090   \n",
       "1    (0.00888, 0.00903]      0    205        205                  1295   \n",
       "0     (-0.001, 0.00888]      1    207        206                  1501   \n",
       "10                  All    499   2000       1501                  1501   \n",
       "\n",
       "    Cumulative_Event  Population_%  Cumulative_Non_event_%  \\\n",
       "9                183        0.0935                0.002665   \n",
       "8                353        0.0970                0.018654   \n",
       "7                473        0.1250                0.105263   \n",
       "6                476        0.0665                0.191872   \n",
       "5                489        0.1125                0.333111   \n",
       "4                496        0.1045                0.467688   \n",
       "3                497        0.0965                0.595603   \n",
       "2                498        0.0985                0.726183   \n",
       "1                498        0.1025                0.862758   \n",
       "0                499        0.1035                1.000000   \n",
       "10               499        1.0000                1.000000   \n",
       "\n",
       "    Cumulative_Event_%  Difference  Event_rate      Gini  \n",
       "9             0.366733    0.364069    0.978610  0.000489  \n",
       "8             0.707415    0.688761    0.876289  0.008587  \n",
       "7             0.947896    0.842633    0.480000  0.071682  \n",
       "6             0.953908    0.762036    0.022556  0.082357  \n",
       "5             0.979960    0.646849    0.057778  0.136569  \n",
       "4             0.993988    0.526300    0.033493  0.132824  \n",
       "3             0.995992    0.400389    0.005181  0.127274  \n",
       "2             0.997996    0.271813    0.005076  0.130187  \n",
       "1             0.997996    0.135238    0.000000  0.136302  \n",
       "0             1.000000    0.000000    0.004831  0.137104  \n",
       "10            1.000000    0.000000    0.249500       NaN  "
      ]
     },
     "execution_count": 18,
     "metadata": {},
     "output_type": "execute_result"
    }
   ],
   "source": [
    "ms.Gini_table[\"random_forest_test\"] # the validation base"
   ]
  },
  {
   "cell_type": "code",
   "execution_count": 21,
   "metadata": {},
   "outputs": [
    {
     "data": {
      "text/html": [
       "<div>\n",
       "<style scoped>\n",
       "    .dataframe tbody tr th:only-of-type {\n",
       "        vertical-align: middle;\n",
       "    }\n",
       "\n",
       "    .dataframe tbody tr th {\n",
       "        vertical-align: top;\n",
       "    }\n",
       "\n",
       "    .dataframe thead th {\n",
       "        text-align: right;\n",
       "    }\n",
       "</style>\n",
       "<table border=\"1\" class=\"dataframe\">\n",
       "  <thead>\n",
       "    <tr style=\"text-align: right;\">\n",
       "      <th></th>\n",
       "      <th>Probability_of_Event</th>\n",
       "      <th>Event</th>\n",
       "      <th>Total</th>\n",
       "      <th>Non_event</th>\n",
       "      <th>Cumulative_Non_event</th>\n",
       "      <th>Cumulative_Event</th>\n",
       "      <th>Population_%</th>\n",
       "      <th>Cumulative_Non_event_%</th>\n",
       "      <th>Cumulative_Event_%</th>\n",
       "      <th>Difference</th>\n",
       "      <th>Event_rate</th>\n",
       "      <th>Gini</th>\n",
       "    </tr>\n",
       "  </thead>\n",
       "  <tbody>\n",
       "    <tr>\n",
       "      <th>9</th>\n",
       "      <td>(0.884, 1.0]</td>\n",
       "      <td>318</td>\n",
       "      <td>331.0</td>\n",
       "      <td>13.0</td>\n",
       "      <td>13.0</td>\n",
       "      <td>318</td>\n",
       "      <td>0.110370</td>\n",
       "      <td>0.005679</td>\n",
       "      <td>0.447887</td>\n",
       "      <td>0.442208</td>\n",
       "      <td>0.960725</td>\n",
       "      <td>0.001272</td>\n",
       "    </tr>\n",
       "    <tr>\n",
       "      <th>8</th>\n",
       "      <td>(0.754, 0.884]</td>\n",
       "      <td>247</td>\n",
       "      <td>294.0</td>\n",
       "      <td>47.0</td>\n",
       "      <td>60.0</td>\n",
       "      <td>565</td>\n",
       "      <td>0.098033</td>\n",
       "      <td>0.026212</td>\n",
       "      <td>0.795775</td>\n",
       "      <td>0.769562</td>\n",
       "      <td>0.840136</td>\n",
       "      <td>0.012768</td>\n",
       "    </tr>\n",
       "    <tr>\n",
       "      <th>7</th>\n",
       "      <td>(0.118, 0.754]</td>\n",
       "      <td>93</td>\n",
       "      <td>302.0</td>\n",
       "      <td>209.0</td>\n",
       "      <td>269.0</td>\n",
       "      <td>658</td>\n",
       "      <td>0.100700</td>\n",
       "      <td>0.117519</td>\n",
       "      <td>0.926761</td>\n",
       "      <td>0.809242</td>\n",
       "      <td>0.307947</td>\n",
       "      <td>0.078639</td>\n",
       "    </tr>\n",
       "    <tr>\n",
       "      <th>6</th>\n",
       "      <td>(0.0712, 0.118]</td>\n",
       "      <td>1</td>\n",
       "      <td>16.0</td>\n",
       "      <td>15.0</td>\n",
       "      <td>284.0</td>\n",
       "      <td>659</td>\n",
       "      <td>0.005335</td>\n",
       "      <td>0.124072</td>\n",
       "      <td>0.928169</td>\n",
       "      <td>0.804097</td>\n",
       "      <td>0.062500</td>\n",
       "      <td>0.006078</td>\n",
       "    </tr>\n",
       "    <tr>\n",
       "      <th>5</th>\n",
       "      <td>(0.0277, 0.0712]</td>\n",
       "      <td>38</td>\n",
       "      <td>579.0</td>\n",
       "      <td>541.0</td>\n",
       "      <td>825.0</td>\n",
       "      <td>697</td>\n",
       "      <td>0.193064</td>\n",
       "      <td>0.360419</td>\n",
       "      <td>0.981690</td>\n",
       "      <td>0.621271</td>\n",
       "      <td>0.065630</td>\n",
       "      <td>0.225695</td>\n",
       "    </tr>\n",
       "    <tr>\n",
       "      <th>4</th>\n",
       "      <td>(0.00988, 0.0277]</td>\n",
       "      <td>6</td>\n",
       "      <td>286.0</td>\n",
       "      <td>280.0</td>\n",
       "      <td>1105.0</td>\n",
       "      <td>703</td>\n",
       "      <td>0.095365</td>\n",
       "      <td>0.482744</td>\n",
       "      <td>0.990141</td>\n",
       "      <td>0.507397</td>\n",
       "      <td>0.020979</td>\n",
       "      <td>0.120601</td>\n",
       "    </tr>\n",
       "    <tr>\n",
       "      <th>3</th>\n",
       "      <td>(0.00909, 0.00988]</td>\n",
       "      <td>2</td>\n",
       "      <td>221.0</td>\n",
       "      <td>219.0</td>\n",
       "      <td>1324.0</td>\n",
       "      <td>705</td>\n",
       "      <td>0.073691</td>\n",
       "      <td>0.578419</td>\n",
       "      <td>0.992958</td>\n",
       "      <td>0.414539</td>\n",
       "      <td>0.009050</td>\n",
       "      <td>0.094866</td>\n",
       "    </tr>\n",
       "    <tr>\n",
       "      <th>1</th>\n",
       "      <td>(0.00888, 0.00903]</td>\n",
       "      <td>5</td>\n",
       "      <td>817.0</td>\n",
       "      <td>812.0</td>\n",
       "      <td>2136.0</td>\n",
       "      <td>710</td>\n",
       "      <td>0.272424</td>\n",
       "      <td>0.933159</td>\n",
       "      <td>1.000000</td>\n",
       "      <td>0.066841</td>\n",
       "      <td>0.006120</td>\n",
       "      <td>0.353491</td>\n",
       "    </tr>\n",
       "    <tr>\n",
       "      <th>0</th>\n",
       "      <td>(-0.001, 0.00888]</td>\n",
       "      <td>0</td>\n",
       "      <td>153.0</td>\n",
       "      <td>153.0</td>\n",
       "      <td>2289.0</td>\n",
       "      <td>710</td>\n",
       "      <td>0.051017</td>\n",
       "      <td>1.000000</td>\n",
       "      <td>1.000000</td>\n",
       "      <td>0.000000</td>\n",
       "      <td>0.000000</td>\n",
       "      <td>0.066841</td>\n",
       "    </tr>\n",
       "    <tr>\n",
       "      <th>10</th>\n",
       "      <td>All</td>\n",
       "      <td>710</td>\n",
       "      <td>2999.0</td>\n",
       "      <td>2289.0</td>\n",
       "      <td>2289.0</td>\n",
       "      <td>710</td>\n",
       "      <td>1.000000</td>\n",
       "      <td>1.000000</td>\n",
       "      <td>1.000000</td>\n",
       "      <td>0.000000</td>\n",
       "      <td>0.236746</td>\n",
       "      <td>NaN</td>\n",
       "    </tr>\n",
       "  </tbody>\n",
       "</table>\n",
       "</div>"
      ],
      "text/plain": [
       "   Probability_of_Event  Event   Total  Non_event  Cumulative_Non_event  \\\n",
       "9          (0.884, 1.0]    318   331.0       13.0                  13.0   \n",
       "8        (0.754, 0.884]    247   294.0       47.0                  60.0   \n",
       "7        (0.118, 0.754]     93   302.0      209.0                 269.0   \n",
       "6       (0.0712, 0.118]      1    16.0       15.0                 284.0   \n",
       "5      (0.0277, 0.0712]     38   579.0      541.0                 825.0   \n",
       "4     (0.00988, 0.0277]      6   286.0      280.0                1105.0   \n",
       "3    (0.00909, 0.00988]      2   221.0      219.0                1324.0   \n",
       "1    (0.00888, 0.00903]      5   817.0      812.0                2136.0   \n",
       "0     (-0.001, 0.00888]      0   153.0      153.0                2289.0   \n",
       "10                  All    710  2999.0     2289.0                2289.0   \n",
       "\n",
       "    Cumulative_Event  Population_%  Cumulative_Non_event_%  \\\n",
       "9                318      0.110370                0.005679   \n",
       "8                565      0.098033                0.026212   \n",
       "7                658      0.100700                0.117519   \n",
       "6                659      0.005335                0.124072   \n",
       "5                697      0.193064                0.360419   \n",
       "4                703      0.095365                0.482744   \n",
       "3                705      0.073691                0.578419   \n",
       "1                710      0.272424                0.933159   \n",
       "0                710      0.051017                1.000000   \n",
       "10               710      1.000000                1.000000   \n",
       "\n",
       "    Cumulative_Event_%  Difference  Event_rate      Gini  \n",
       "9             0.447887    0.442208    0.960725  0.001272  \n",
       "8             0.795775    0.769562    0.840136  0.012768  \n",
       "7             0.926761    0.809242    0.307947  0.078639  \n",
       "6             0.928169    0.804097    0.062500  0.006078  \n",
       "5             0.981690    0.621271    0.065630  0.225695  \n",
       "4             0.990141    0.507397    0.020979  0.120601  \n",
       "3             0.992958    0.414539    0.009050  0.094866  \n",
       "1             1.000000    0.066841    0.006120  0.353491  \n",
       "0             1.000000    0.000000    0.000000  0.066841  \n",
       "10            1.000000    0.000000    0.236746       NaN  "
      ]
     },
     "execution_count": 21,
     "metadata": {},
     "output_type": "execute_result"
    }
   ],
   "source": [
    "ms.Gini_table[\"random_forest_test1\"] # the first holdout test base"
   ]
  },
  {
   "cell_type": "markdown",
   "metadata": {},
   "source": [
    "##### Lorenz curves"
   ]
  },
  {
   "cell_type": "code",
   "execution_count": 22,
   "metadata": {},
   "outputs": [
    {
     "data": {
      "text/html": [
       "\n",
       "<div class=\"bk-root\">\n",
       "    <div class=\"bk-plotdiv\" id=\"8af43363-e644-4277-9ae3-20b514d7767c\"></div>\n",
       "</div>"
      ]
     },
     "metadata": {},
     "output_type": "display_data"
    },
    {
     "data": {
      "application/javascript": [
       "(function(root) {\n",
       "  function embed_document(root) {\n",
       "    \n",
       "  var docs_json = {\"ac35e163-9d86-45cc-8721-fcab71e6dae3\":{\"roots\":{\"references\":[{\"attributes\":{},\"id\":\"45c1c662-38e2-4a64-a816-8108cfeabead\",\"type\":\"SaveTool\"},{\"attributes\":{},\"id\":\"64a92344-21cf-46c0-a47f-72a670a56a95\",\"type\":\"BasicTicker\"},{\"attributes\":{\"callback\":null,\"column_names\":[\"x\",\"y\"],\"data\":{\"x\":{\"__ndarray__\":\"AAAAAAAAAAARN1qO+b5SP0I9TAvjvZE/QtrwtjJWvj+IzLwQ6OnHPzORIw3RStY/Ujjlv4mm3j+gp1+TJYXjPyWs7Xj5+ec/1rFBFXbP6z8AAAAAAADwPw==\",\"dtype\":\"float64\",\"shape\":[11]},\"y\":{\"__ndarray__\":\"AAAAAAAAAAArBUF1tZnXP/uZMh71x+U/OYFZc7gC7j9VnuKbL7XuP6/sQnJMY+8/laf45kut7z+e4psvtb7vP/fEXLeW7u8/uZOFCfHy7z8AAAAAAADwPw==\",\"dtype\":\"float64\",\"shape\":[11]}}},\"id\":\"98128551-df27-479f-a991-8bd727d0f837\",\"type\":\"ColumnDataSource\"},{\"attributes\":{\"background_fill_color\":{\"value\":\"white\"},\"border_line_alpha\":{\"value\":0.0},\"plot\":{\"id\":\"975919cb-a85a-4553-a199-b232b506e06c\",\"subtype\":\"Figure\",\"type\":\"Plot\"},\"render_mode\":\"css\",\"text\":\"test1 KS: 80.92%\",\"x\":70,\"x_units\":\"screen\",\"y\":-60,\"y_units\":\"screen\"},\"id\":\"c4e85275-2077-4f1a-ba8c-13d7ffa0e114\",\"type\":\"Label\"},{\"attributes\":{\"data_source\":{\"id\":\"a02fdee4-f699-4b16-877f-dd667338f4fb\",\"type\":\"ColumnDataSource\"},\"glyph\":{\"id\":\"c7296551-f6fd-4d25-850d-0114062ffe51\",\"type\":\"Line\"},\"hover_glyph\":null,\"muted_glyph\":null,\"nonselection_glyph\":{\"id\":\"e586620d-7ac4-4dbc-8e0a-b92f20292a61\",\"type\":\"Line\"},\"selection_glyph\":null,\"view\":{\"id\":\"34b58ec5-ccb4-42ff-9e1b-1cfe309ee454\",\"type\":\"CDSView\"}},\"id\":\"be4b05f6-4137-44fd-85a4-aa6af0475daf\",\"type\":\"GlyphRenderer\"},{\"attributes\":{\"items\":[{\"id\":\"f6da29fb-13d9-4519-b490-3cf6e1071a45\",\"type\":\"LegendItem\"},{\"id\":\"8022de02-699f-42f7-bec5-60d1c93999b6\",\"type\":\"LegendItem\"},{\"id\":\"72c1818b-0f31-4d8d-b36c-e9c4ecfc4793\",\"type\":\"LegendItem\"}],\"location\":\"bottom_right\",\"plot\":{\"id\":\"975919cb-a85a-4553-a199-b232b506e06c\",\"subtype\":\"Figure\",\"type\":\"Plot\"}},\"id\":\"b13ef7e4-fcc0-4938-8aa5-5a49c747d686\",\"type\":\"Legend\"},{\"attributes\":{\"axis_label\":\"Cumulative Non_event\",\"formatter\":{\"id\":\"47a60281-a8bb-4d0a-bfd6-ebf9e83073a9\",\"type\":\"BasicTickFormatter\"},\"plot\":{\"id\":\"975919cb-a85a-4553-a199-b232b506e06c\",\"subtype\":\"Figure\",\"type\":\"Plot\"},\"ticker\":{\"id\":\"64a92344-21cf-46c0-a47f-72a670a56a95\",\"type\":\"BasicTicker\"}},\"id\":\"f1acfea0-cb60-42bb-8061-26b7d2398a3d\",\"type\":\"LinearAxis\"},{\"attributes\":{\"axis_label\":\"Cumulative Event\",\"formatter\":{\"id\":\"ea81162f-22a2-4391-ab99-4111eb6dee96\",\"type\":\"BasicTickFormatter\"},\"plot\":{\"id\":\"975919cb-a85a-4553-a199-b232b506e06c\",\"subtype\":\"Figure\",\"type\":\"Plot\"},\"ticker\":{\"id\":\"269e972b-5842-4673-9725-9b42308aa2cb\",\"type\":\"BasicTicker\"}},\"id\":\"680c01f1-531d-451d-b49d-1a6b34e2e158\",\"type\":\"LinearAxis\"},{\"attributes\":{},\"id\":\"47a60281-a8bb-4d0a-bfd6-ebf9e83073a9\",\"type\":\"BasicTickFormatter\"},{\"attributes\":{\"source\":{\"id\":\"d41c1082-c739-4174-8992-7e818cb444cc\",\"type\":\"ColumnDataSource\"}},\"id\":\"e908dca0-e1a5-47f4-8e1b-74a9d3096a26\",\"type\":\"CDSView\"},{\"attributes\":{\"background_fill_color\":{\"value\":\"white\"},\"border_line_alpha\":{\"value\":0.0},\"plot\":{\"id\":\"975919cb-a85a-4553-a199-b232b506e06c\",\"subtype\":\"Figure\",\"type\":\"Plot\"},\"render_mode\":\"css\",\"text\":\"training Gini: 91.93%\",\"x\":250,\"x_units\":\"screen\",\"y\":-20,\"y_units\":\"screen\"},\"id\":\"976a5784-5ed1-4e8f-bd8e-94195734affa\",\"type\":\"Label\"},{\"attributes\":{\"plot\":null,\"text\":\"Gini curve for RANDOM_FOREST\"},\"id\":\"79d3a781-7466-4aa3-9c44-3eba72d94807\",\"type\":\"Title\"},{\"attributes\":{\"background_fill_color\":{\"value\":\"white\"},\"border_line_alpha\":{\"value\":0.0},\"plot\":{\"id\":\"975919cb-a85a-4553-a199-b232b506e06c\",\"subtype\":\"Figure\",\"type\":\"Plot\"},\"render_mode\":\"css\",\"text\":\"training KS: 81.93%\",\"x\":70,\"x_units\":\"screen\",\"y\":-20,\"y_units\":\"screen\"},\"id\":\"0c29d6ad-e279-4168-912d-03a480b9173b\",\"type\":\"Label\"},{\"attributes\":{\"callback\":null,\"column_names\":[\"x\",\"y\"],\"data\":{\"x\":{\"__ndarray__\":\"AAAAAAAAAAARN1qO+b5SP0I9TAvjvZE/QtrwtjJWvj+IzLwQ6OnHPzORIw3RStY/Ujjlv4mm3j+gp1+TJYXjPyWs7Xj5+ec/1rFBFXbP6z8AAAAAAADwPw==\",\"dtype\":\"float64\",\"shape\":[11]},\"y\":{\"__ndarray__\":\"AAAAAAAAAAARN1qO+b5SP0I9TAvjvZE/QtrwtjJWvj+IzLwQ6OnHPzORIw3RStY/Ujjlv4mm3j+gp1+TJYXjPyWs7Xj5+ec/1rFBFXbP6z8AAAAAAADwPw==\",\"dtype\":\"float64\",\"shape\":[11]}}},\"id\":\"18ca0081-d6d6-43c3-a5e8-7ddfdecb7d24\",\"type\":\"ColumnDataSource\"},{\"attributes\":{\"bottom_units\":\"screen\",\"fill_alpha\":{\"value\":0.5},\"fill_color\":{\"value\":\"lightgrey\"},\"left_units\":\"screen\",\"level\":\"overlay\",\"line_alpha\":{\"value\":1.0},\"line_color\":{\"value\":\"black\"},\"line_dash\":[4,4],\"line_width\":{\"value\":2},\"plot\":null,\"render_mode\":\"css\",\"right_units\":\"screen\",\"top_units\":\"screen\"},\"id\":\"16386008-d65a-49c8-9c51-e4b9ef483970\",\"type\":\"BoxAnnotation\"},{\"attributes\":{\"label\":{\"value\":\"Event distribution - training\"},\"renderers\":[{\"id\":\"97cbca07-9647-4fca-aee2-76c135b536f7\",\"type\":\"GlyphRenderer\"}]},\"id\":\"f6da29fb-13d9-4519-b490-3cf6e1071a45\",\"type\":\"LegendItem\"},{\"attributes\":{\"label\":{\"value\":\"Event distribution - test1\"},\"renderers\":[{\"id\":\"6f05818c-6d85-435b-aa00-2c56b02d0ee5\",\"type\":\"GlyphRenderer\"}]},\"id\":\"72c1818b-0f31-4d8d-b36c-e9c4ecfc4793\",\"type\":\"LegendItem\"},{\"attributes\":{\"below\":[{\"id\":\"f1acfea0-cb60-42bb-8061-26b7d2398a3d\",\"type\":\"LinearAxis\"}],\"left\":[{\"id\":\"680c01f1-531d-451d-b49d-1a6b34e2e158\",\"type\":\"LinearAxis\"}],\"plot_height\":400,\"renderers\":[{\"id\":\"f1acfea0-cb60-42bb-8061-26b7d2398a3d\",\"type\":\"LinearAxis\"},{\"id\":\"798db5ce-9b57-4c2d-bd56-294c2e22373c\",\"type\":\"Grid\"},{\"id\":\"680c01f1-531d-451d-b49d-1a6b34e2e158\",\"type\":\"LinearAxis\"},{\"id\":\"a5762bcc-bf1a-407d-a022-4ed3fade9973\",\"type\":\"Grid\"},{\"id\":\"16386008-d65a-49c8-9c51-e4b9ef483970\",\"type\":\"BoxAnnotation\"},{\"id\":\"b13ef7e4-fcc0-4938-8aa5-5a49c747d686\",\"type\":\"Legend\"},{\"id\":\"97cbca07-9647-4fca-aee2-76c135b536f7\",\"type\":\"GlyphRenderer\"},{\"id\":\"be4b05f6-4137-44fd-85a4-aa6af0475daf\",\"type\":\"GlyphRenderer\"},{\"id\":\"d1d0afba-ca52-42c9-8ec1-8c85aa90b6e7\",\"type\":\"GlyphRenderer\"},{\"id\":\"0c29d6ad-e279-4168-912d-03a480b9173b\",\"type\":\"Label\"},{\"id\":\"976a5784-5ed1-4e8f-bd8e-94195734affa\",\"type\":\"Label\"},{\"id\":\"a30da947-dca3-441b-8d2b-78e628739c7d\",\"type\":\"Label\"},{\"id\":\"02d8958a-780b-4f65-9a55-971f355f6a70\",\"type\":\"Label\"},{\"id\":\"6f05818c-6d85-435b-aa00-2c56b02d0ee5\",\"type\":\"GlyphRenderer\"},{\"id\":\"c4e85275-2077-4f1a-ba8c-13d7ffa0e114\",\"type\":\"Label\"},{\"id\":\"5291cda0-e62c-489c-a9d1-8769e2de201a\",\"type\":\"Label\"}],\"title\":{\"id\":\"79d3a781-7466-4aa3-9c44-3eba72d94807\",\"type\":\"Title\"},\"toolbar\":{\"id\":\"69a25105-9eb3-4951-8393-75d7d8576e01\",\"type\":\"Toolbar\"},\"x_range\":{\"id\":\"62369ef1-4405-41ac-a173-bf30cef1ab72\",\"type\":\"Range1d\"},\"x_scale\":{\"id\":\"b57f03cb-f878-487e-9c4d-8fc7ee22f4b0\",\"type\":\"LinearScale\"},\"y_range\":{\"id\":\"a98e0d85-3a17-47f9-9937-bf7bdd508649\",\"type\":\"Range1d\"},\"y_scale\":{\"id\":\"1ff393bc-7c65-4553-9544-dc6d3a981f99\",\"type\":\"LinearScale\"}},\"id\":\"975919cb-a85a-4553-a199-b232b506e06c\",\"subtype\":\"Figure\",\"type\":\"Plot\"},{\"attributes\":{\"data_source\":{\"id\":\"d41c1082-c739-4174-8992-7e818cb444cc\",\"type\":\"ColumnDataSource\"},\"glyph\":{\"id\":\"b7560871-de04-4287-80f5-9dcd911b4362\",\"type\":\"Line\"},\"hover_glyph\":null,\"muted_glyph\":null,\"nonselection_glyph\":{\"id\":\"76d2b89d-97ad-4967-8fdb-6aa7c00b6bb9\",\"type\":\"Line\"},\"selection_glyph\":null,\"view\":{\"id\":\"e908dca0-e1a5-47f4-8e1b-74a9d3096a26\",\"type\":\"CDSView\"}},\"id\":\"6f05818c-6d85-435b-aa00-2c56b02d0ee5\",\"type\":\"GlyphRenderer\"},{\"attributes\":{\"callback\":null},\"id\":\"a98e0d85-3a17-47f9-9937-bf7bdd508649\",\"type\":\"Range1d\"},{\"attributes\":{\"line_alpha\":0.5,\"line_color\":\"#053C6D\",\"line_width\":2,\"x\":{\"field\":\"x\"},\"y\":{\"field\":\"y\"}},\"id\":\"7a585a7f-9ea5-4042-8c8d-485426e76134\",\"type\":\"Line\"},{\"attributes\":{\"line_alpha\":0.5,\"line_color\":\"#97291E\",\"line_width\":2,\"x\":{\"field\":\"x\"},\"y\":{\"field\":\"y\"}},\"id\":\"c7296551-f6fd-4d25-850d-0114062ffe51\",\"type\":\"Line\"},{\"attributes\":{\"background_fill_color\":{\"value\":\"white\"},\"border_line_alpha\":{\"value\":0.0},\"plot\":{\"id\":\"975919cb-a85a-4553-a199-b232b506e06c\",\"subtype\":\"Figure\",\"type\":\"Plot\"},\"render_mode\":\"css\",\"text\":\"test KS: 84.26%\",\"x\":70,\"x_units\":\"screen\",\"y\":-40,\"y_units\":\"screen\"},\"id\":\"a30da947-dca3-441b-8d2b-78e628739c7d\",\"type\":\"Label\"},{\"attributes\":{\"line_alpha\":0.1,\"line_color\":\"#1f77b4\",\"line_width\":2,\"x\":{\"field\":\"x\"},\"y\":{\"field\":\"y\"}},\"id\":\"76d2b89d-97ad-4967-8fdb-6aa7c00b6bb9\",\"type\":\"Line\"},{\"attributes\":{\"background_fill_color\":{\"value\":\"white\"},\"border_line_alpha\":{\"value\":0.0},\"plot\":{\"id\":\"975919cb-a85a-4553-a199-b232b506e06c\",\"subtype\":\"Figure\",\"type\":\"Plot\"},\"render_mode\":\"css\",\"text\":\"test1 Gini: 92.05%\",\"x\":250,\"x_units\":\"screen\",\"y\":-60,\"y_units\":\"screen\"},\"id\":\"5291cda0-e62c-489c-a9d1-8769e2de201a\",\"type\":\"Label\"},{\"attributes\":{\"line_alpha\":0.1,\"line_color\":\"#1f77b4\",\"line_width\":2,\"x\":{\"field\":\"x\"},\"y\":{\"field\":\"y\"}},\"id\":\"804ee310-94aa-41a4-a0c8-88fa3beb0575\",\"type\":\"Line\"},{\"attributes\":{\"active_drag\":\"auto\",\"active_inspect\":\"auto\",\"active_scroll\":\"auto\",\"active_tap\":\"auto\",\"tools\":[{\"id\":\"ca43dde8-abaa-4ad7-855b-9afd14502e28\",\"type\":\"PanTool\"},{\"id\":\"8ab846af-0662-4fd7-9b55-8108f5b17ac9\",\"type\":\"WheelZoomTool\"},{\"id\":\"9531921b-263a-4cb4-8eef-09365f3d1a22\",\"type\":\"BoxZoomTool\"},{\"id\":\"45c1c662-38e2-4a64-a816-8108cfeabead\",\"type\":\"SaveTool\"},{\"id\":\"4ae84df4-b006-43df-afe9-9b5782ebdac7\",\"type\":\"ResetTool\"},{\"id\":\"b8c88a04-1f57-478e-a791-61b5496f2c66\",\"type\":\"HelpTool\"}]},\"id\":\"69a25105-9eb3-4951-8393-75d7d8576e01\",\"type\":\"Toolbar\"},{\"attributes\":{},\"id\":\"1ff393bc-7c65-4553-9544-dc6d3a981f99\",\"type\":\"LinearScale\"},{\"attributes\":{},\"id\":\"ea81162f-22a2-4391-ab99-4111eb6dee96\",\"type\":\"BasicTickFormatter\"},{\"attributes\":{\"source\":{\"id\":\"a02fdee4-f699-4b16-877f-dd667338f4fb\",\"type\":\"ColumnDataSource\"}},\"id\":\"34b58ec5-ccb4-42ff-9e1b-1cfe309ee454\",\"type\":\"CDSView\"},{\"attributes\":{\"plot\":{\"id\":\"975919cb-a85a-4553-a199-b232b506e06c\",\"subtype\":\"Figure\",\"type\":\"Plot\"},\"ticker\":{\"id\":\"64a92344-21cf-46c0-a47f-72a670a56a95\",\"type\":\"BasicTicker\"}},\"id\":\"798db5ce-9b57-4c2d-bd56-294c2e22373c\",\"type\":\"Grid\"},{\"attributes\":{\"callback\":null,\"column_names\":[\"x\",\"y\"],\"data\":{\"x\":{\"__ndarray__\":\"AAAAAAAAAACcRsr2rdRlP8j98DcYGpM/KK+hvIbyuj9vj6O1Q4/IP/SIAeOxUdU/0FZfhZru3T+lmPXgLQ/jPylQMi3jPOc/zE7aALeb6z8AAAAAAADwPw==\",\"dtype\":\"float64\",\"shape\":[11]},\"y\":{\"__ndarray__\":\"AAAAAAAAAAAjGbWlj3jXPy3zwmwko+Y/ErQbjilV7j9LH/GuaYbuP0JF4+fUW+8/x5Qq37/O7z/aDceUKt/vP+2GY0qV7+8/7YZjSpXv7z8AAAAAAADwPw==\",\"dtype\":\"float64\",\"shape\":[11]}}},\"id\":\"a02fdee4-f699-4b16-877f-dd667338f4fb\",\"type\":\"ColumnDataSource\"},{\"attributes\":{\"source\":{\"id\":\"98128551-df27-479f-a991-8bd727d0f837\",\"type\":\"ColumnDataSource\"}},\"id\":\"8e2ec938-aa92-4505-a9af-ead532e980f8\",\"type\":\"CDSView\"},{\"attributes\":{\"label\":{\"value\":\"Event distribution - test\"},\"renderers\":[{\"id\":\"be4b05f6-4137-44fd-85a4-aa6af0475daf\",\"type\":\"GlyphRenderer\"}]},\"id\":\"8022de02-699f-42f7-bec5-60d1c93999b6\",\"type\":\"LegendItem\"},{\"attributes\":{\"source\":{\"id\":\"18ca0081-d6d6-43c3-a5e8-7ddfdecb7d24\",\"type\":\"ColumnDataSource\"}},\"id\":\"d6e5fcaf-5363-4031-a3a3-f449e625590b\",\"type\":\"CDSView\"},{\"attributes\":{},\"id\":\"ca43dde8-abaa-4ad7-855b-9afd14502e28\",\"type\":\"PanTool\"},{\"attributes\":{\"line_alpha\":0.1,\"line_color\":\"#1f77b4\",\"line_width\":2,\"x\":{\"field\":\"x\"},\"y\":{\"field\":\"y\"}},\"id\":\"e586620d-7ac4-4dbc-8e0a-b92f20292a61\",\"type\":\"Line\"},{\"attributes\":{\"data_source\":{\"id\":\"18ca0081-d6d6-43c3-a5e8-7ddfdecb7d24\",\"type\":\"ColumnDataSource\"},\"glyph\":{\"id\":\"547031d6-7593-41c7-8749-e3c4909c0f31\",\"type\":\"Line\"},\"hover_glyph\":null,\"muted_glyph\":null,\"nonselection_glyph\":{\"id\":\"3aab7fd6-01fa-453e-93fa-b6011674ec5a\",\"type\":\"Line\"},\"selection_glyph\":null,\"view\":{\"id\":\"d6e5fcaf-5363-4031-a3a3-f449e625590b\",\"type\":\"CDSView\"}},\"id\":\"d1d0afba-ca52-42c9-8ec1-8c85aa90b6e7\",\"type\":\"GlyphRenderer\"},{\"attributes\":{\"callback\":null},\"id\":\"62369ef1-4405-41ac-a173-bf30cef1ab72\",\"type\":\"Range1d\"},{\"attributes\":{},\"id\":\"8ab846af-0662-4fd7-9b55-8108f5b17ac9\",\"type\":\"WheelZoomTool\"},{\"attributes\":{},\"id\":\"b57f03cb-f878-487e-9c4d-8fc7ee22f4b0\",\"type\":\"LinearScale\"},{\"attributes\":{\"dimension\":1,\"plot\":{\"id\":\"975919cb-a85a-4553-a199-b232b506e06c\",\"subtype\":\"Figure\",\"type\":\"Plot\"},\"ticker\":{\"id\":\"269e972b-5842-4673-9725-9b42308aa2cb\",\"type\":\"BasicTicker\"}},\"id\":\"a5762bcc-bf1a-407d-a022-4ed3fade9973\",\"type\":\"Grid\"},{\"attributes\":{},\"id\":\"269e972b-5842-4673-9725-9b42308aa2cb\",\"type\":\"BasicTicker\"},{\"attributes\":{\"callback\":null,\"column_names\":[\"x\",\"y\"],\"data\":{\"x\":{\"__ndarray__\":\"AAAAAAAAAAAzdAEjN0N3P3atAQFn15o/W+ExYrIVvj8z/EHSKMO/PxJx3YQcEdc/VO59OkXl3j8mKCmQZ4LiP8fdUWRv3O0/AAAAAAAA8D8=\",\"dtype\":\"float64\",\"shape\":[10]},\"y\":{\"__ndarray__\":\"AAAAAAAAAAATYiiYL6rcP+Au9WT8duk/ZxvexAWo7T+l6RSBj7PtP9qGN3EBau8/TlyA2juv7z/K+O1ST8bvPwAAAAAAAPA/AAAAAAAA8D8=\",\"dtype\":\"float64\",\"shape\":[10]}}},\"id\":\"d41c1082-c739-4174-8992-7e818cb444cc\",\"type\":\"ColumnDataSource\"},{\"attributes\":{\"data_source\":{\"id\":\"98128551-df27-479f-a991-8bd727d0f837\",\"type\":\"ColumnDataSource\"},\"glyph\":{\"id\":\"7a585a7f-9ea5-4042-8c8d-485426e76134\",\"type\":\"Line\"},\"hover_glyph\":null,\"muted_glyph\":null,\"nonselection_glyph\":{\"id\":\"804ee310-94aa-41a4-a0c8-88fa3beb0575\",\"type\":\"Line\"},\"selection_glyph\":null,\"view\":{\"id\":\"8e2ec938-aa92-4505-a9af-ead532e980f8\",\"type\":\"CDSView\"}},\"id\":\"97cbca07-9647-4fca-aee2-76c135b536f7\",\"type\":\"GlyphRenderer\"},{\"attributes\":{},\"id\":\"b8c88a04-1f57-478e-a791-61b5496f2c66\",\"type\":\"HelpTool\"},{\"attributes\":{\"line_alpha\":0.1,\"line_color\":\"#1f77b4\",\"line_width\":2,\"x\":{\"field\":\"x\"},\"y\":{\"field\":\"y\"}},\"id\":\"3aab7fd6-01fa-453e-93fa-b6011674ec5a\",\"type\":\"Line\"},{\"attributes\":{\"line_alpha\":0.5,\"line_width\":2,\"x\":{\"field\":\"x\"},\"y\":{\"field\":\"y\"}},\"id\":\"b7560871-de04-4287-80f5-9dcd911b4362\",\"type\":\"Line\"},{\"attributes\":{\"overlay\":{\"id\":\"16386008-d65a-49c8-9c51-e4b9ef483970\",\"type\":\"BoxAnnotation\"}},\"id\":\"9531921b-263a-4cb4-8eef-09365f3d1a22\",\"type\":\"BoxZoomTool\"},{\"attributes\":{},\"id\":\"4ae84df4-b006-43df-afe9-9b5782ebdac7\",\"type\":\"ResetTool\"},{\"attributes\":{\"line_color\":\"#E46713\",\"line_width\":2,\"x\":{\"field\":\"x\"},\"y\":{\"field\":\"y\"}},\"id\":\"547031d6-7593-41c7-8749-e3c4909c0f31\",\"type\":\"Line\"},{\"attributes\":{\"background_fill_color\":{\"value\":\"white\"},\"border_line_alpha\":{\"value\":0.0},\"plot\":{\"id\":\"975919cb-a85a-4553-a199-b232b506e06c\",\"subtype\":\"Figure\",\"type\":\"Plot\"},\"render_mode\":\"css\",\"text\":\"test Gini: 92.68%\",\"x\":250,\"x_units\":\"screen\",\"y\":-40,\"y_units\":\"screen\"},\"id\":\"02d8958a-780b-4f65-9a55-971f355f6a70\",\"type\":\"Label\"}],\"root_ids\":[\"975919cb-a85a-4553-a199-b232b506e06c\"]},\"title\":\"Bokeh Application\",\"version\":\"0.12.13\"}};\n",
       "  var render_items = [{\"docid\":\"ac35e163-9d86-45cc-8721-fcab71e6dae3\",\"elementid\":\"8af43363-e644-4277-9ae3-20b514d7767c\",\"modelid\":\"975919cb-a85a-4553-a199-b232b506e06c\"}];\n",
       "  root.Bokeh.embed.embed_items_notebook(docs_json, render_items);\n",
       "\n",
       "  }\n",
       "  if (root.Bokeh !== undefined) {\n",
       "    embed_document(root);\n",
       "  } else {\n",
       "    var attempts = 0;\n",
       "    var timer = setInterval(function(root) {\n",
       "      if (root.Bokeh !== undefined) {\n",
       "        embed_document(root);\n",
       "        clearInterval(timer);\n",
       "      }\n",
       "      attempts++;\n",
       "      if (attempts > 100) {\n",
       "        console.log(\"Bokeh: ERROR: Unable to run BokehJS code because BokehJS library is missing\")\n",
       "        clearInterval(timer);\n",
       "      }\n",
       "    }, 10, root)\n",
       "  }\n",
       "})(window);"
      ],
      "application/vnd.bokehjs_exec.v0+json": ""
     },
     "metadata": {
      "application/vnd.bokehjs_exec.v0+json": {
       "id": "975919cb-a85a-4553-a199-b232b506e06c"
      }
     },
     "output_type": "display_data"
    }
   ],
   "source": [
    "show(ms.plots[\"random_forest\"])"
   ]
  },
  {
   "cell_type": "code",
   "execution_count": null,
   "metadata": {},
   "outputs": [],
   "source": []
  },
  {
   "cell_type": "markdown",
   "metadata": {},
   "source": [
    "###### KS/Gini Coefficients"
   ]
  },
  {
   "cell_type": "code",
   "execution_count": 31,
   "metadata": {},
   "outputs": [
    {
     "name": "stdout",
     "output_type": "stream",
     "text": [
      "Random Forest training Gini:91.93%\n",
      "Random Forest test Gini:92.68%\n",
      "Random Forest holdout sample Gini:92.05%\n"
     ]
    }
   ],
   "source": [
    "print(f\"Random Forest training Gini:{ms.Gini['random_forest_train']:{4}.{4}}%\")\n",
    "print(f\"Random Forest test Gini:{ms.Gini['random_forest_test']:{4}.{4}}%\")\n",
    "print(f\"Random Forest holdout sample Gini:{ms.Gini['random_forest_test1']:{4}.{4}}%\")"
   ]
  },
  {
   "cell_type": "code",
   "execution_count": 32,
   "metadata": {},
   "outputs": [
    {
     "name": "stdout",
     "output_type": "stream",
     "text": [
      "Random Forest training KS:81.93%\n",
      "Random Forest test KS:84.26%\n",
      "Random Forest holdout sample KS:80.92%\n"
     ]
    }
   ],
   "source": [
    "print(f\"Random Forest training KS:{ms.KS['random_forest_train']:{4}.{4}}%\")\n",
    "print(f\"Random Forest test KS:{ms.KS['random_forest_test']:{4}.{4}}%\")\n",
    "print(f\"Random Forest holdout sample KS:{ms.KS['random_forest_test1']:{4}.{4}}%\")"
   ]
  },
  {
   "cell_type": "code",
   "execution_count": null,
   "metadata": {},
   "outputs": [],
   "source": []
  }
 ],
 "metadata": {
  "kernelspec": {
   "display_name": "Python 3",
   "language": "python",
   "name": "python3"
  },
  "language_info": {
   "codemirror_mode": {
    "name": "ipython",
    "version": 3
   },
   "file_extension": ".py",
   "mimetype": "text/x-python",
   "name": "python",
   "nbconvert_exporter": "python",
   "pygments_lexer": "ipython3",
   "version": "3.6.3"
  }
 },
 "nbformat": 4,
 "nbformat_minor": 2
}
