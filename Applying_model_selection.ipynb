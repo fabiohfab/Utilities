{
 "cells": [
  {
   "cell_type": "code",
   "execution_count": 2,
   "metadata": {},
   "outputs": [
    {
     "data": {
      "text/html": [
       "\n",
       "    <div class=\"bk-root\">\n",
       "        <a href=\"https://bokeh.pydata.org\" target=\"_blank\" class=\"bk-logo bk-logo-small bk-logo-notebook\"></a>\n",
       "        <span id=\"3643dd94-3ff9-4b33-b0fd-b8ee764d6447\">Loading BokehJS ...</span>\n",
       "    </div>"
      ]
     },
     "metadata": {},
     "output_type": "display_data"
    },
    {
     "data": {
      "application/javascript": [
       "\n",
       "(function(root) {\n",
       "  function now() {\n",
       "    return new Date();\n",
       "  }\n",
       "\n",
       "  var force = true;\n",
       "\n",
       "  if (typeof (root._bokeh_onload_callbacks) === \"undefined\" || force === true) {\n",
       "    root._bokeh_onload_callbacks = [];\n",
       "    root._bokeh_is_loading = undefined;\n",
       "  }\n",
       "\n",
       "  var JS_MIME_TYPE = 'application/javascript';\n",
       "  var HTML_MIME_TYPE = 'text/html';\n",
       "  var EXEC_MIME_TYPE = 'application/vnd.bokehjs_exec.v0+json';\n",
       "  var CLASS_NAME = 'output_bokeh rendered_html';\n",
       "\n",
       "  /**\n",
       "   * Render data to the DOM node\n",
       "   */\n",
       "  function render(props, node) {\n",
       "    var script = document.createElement(\"script\");\n",
       "    node.appendChild(script);\n",
       "  }\n",
       "\n",
       "  /**\n",
       "   * Handle when an output is cleared or removed\n",
       "   */\n",
       "  function handleClearOutput(event, handle) {\n",
       "    var cell = handle.cell;\n",
       "\n",
       "    var id = cell.output_area._bokeh_element_id;\n",
       "    var server_id = cell.output_area._bokeh_server_id;\n",
       "    // Clean up Bokeh references\n",
       "    if (id !== undefined) {\n",
       "      Bokeh.index[id].model.document.clear();\n",
       "      delete Bokeh.index[id];\n",
       "    }\n",
       "\n",
       "    if (server_id !== undefined) {\n",
       "      // Clean up Bokeh references\n",
       "      var cmd = \"from bokeh.io.state import curstate; print(curstate().uuid_to_server['\" + server_id + \"'].get_sessions()[0].document.roots[0]._id)\";\n",
       "      cell.notebook.kernel.execute(cmd, {\n",
       "        iopub: {\n",
       "          output: function(msg) {\n",
       "            var element_id = msg.content.text.trim();\n",
       "            Bokeh.index[element_id].model.document.clear();\n",
       "            delete Bokeh.index[element_id];\n",
       "          }\n",
       "        }\n",
       "      });\n",
       "      // Destroy server and session\n",
       "      var cmd = \"import bokeh.io.notebook as ion; ion.destroy_server('\" + server_id + \"')\";\n",
       "      cell.notebook.kernel.execute(cmd);\n",
       "    }\n",
       "  }\n",
       "\n",
       "  /**\n",
       "   * Handle when a new output is added\n",
       "   */\n",
       "  function handleAddOutput(event, handle) {\n",
       "    var output_area = handle.output_area;\n",
       "    var output = handle.output;\n",
       "\n",
       "    // limit handleAddOutput to display_data with EXEC_MIME_TYPE content only\n",
       "    if ((output.output_type != \"display_data\") || (!output.data.hasOwnProperty(EXEC_MIME_TYPE))) {\n",
       "      return\n",
       "    }\n",
       "\n",
       "    var toinsert = output_area.element.find(\".\" + CLASS_NAME.split(' ')[0]);\n",
       "\n",
       "    if (output.metadata[EXEC_MIME_TYPE][\"id\"] !== undefined) {\n",
       "      toinsert[0].firstChild.textContent = output.data[JS_MIME_TYPE];\n",
       "      // store reference to embed id on output_area\n",
       "      output_area._bokeh_element_id = output.metadata[EXEC_MIME_TYPE][\"id\"];\n",
       "    }\n",
       "    if (output.metadata[EXEC_MIME_TYPE][\"server_id\"] !== undefined) {\n",
       "      var bk_div = document.createElement(\"div\");\n",
       "      bk_div.innerHTML = output.data[HTML_MIME_TYPE];\n",
       "      var script_attrs = bk_div.children[0].attributes;\n",
       "      for (var i = 0; i < script_attrs.length; i++) {\n",
       "        toinsert[0].firstChild.setAttribute(script_attrs[i].name, script_attrs[i].value);\n",
       "      }\n",
       "      // store reference to server id on output_area\n",
       "      output_area._bokeh_server_id = output.metadata[EXEC_MIME_TYPE][\"server_id\"];\n",
       "    }\n",
       "  }\n",
       "\n",
       "  function register_renderer(events, OutputArea) {\n",
       "\n",
       "    function append_mime(data, metadata, element) {\n",
       "      // create a DOM node to render to\n",
       "      var toinsert = this.create_output_subarea(\n",
       "        metadata,\n",
       "        CLASS_NAME,\n",
       "        EXEC_MIME_TYPE\n",
       "      );\n",
       "      this.keyboard_manager.register_events(toinsert);\n",
       "      // Render to node\n",
       "      var props = {data: data, metadata: metadata[EXEC_MIME_TYPE]};\n",
       "      render(props, toinsert[0]);\n",
       "      element.append(toinsert);\n",
       "      return toinsert\n",
       "    }\n",
       "\n",
       "    /* Handle when an output is cleared or removed */\n",
       "    events.on('clear_output.CodeCell', handleClearOutput);\n",
       "    events.on('delete.Cell', handleClearOutput);\n",
       "\n",
       "    /* Handle when a new output is added */\n",
       "    events.on('output_added.OutputArea', handleAddOutput);\n",
       "\n",
       "    /**\n",
       "     * Register the mime type and append_mime function with output_area\n",
       "     */\n",
       "    OutputArea.prototype.register_mime_type(EXEC_MIME_TYPE, append_mime, {\n",
       "      /* Is output safe? */\n",
       "      safe: true,\n",
       "      /* Index of renderer in `output_area.display_order` */\n",
       "      index: 0\n",
       "    });\n",
       "  }\n",
       "\n",
       "  // register the mime type if in Jupyter Notebook environment and previously unregistered\n",
       "  if (root.Jupyter !== undefined) {\n",
       "    var events = require('base/js/events');\n",
       "    var OutputArea = require('notebook/js/outputarea').OutputArea;\n",
       "\n",
       "    if (OutputArea.prototype.mime_types().indexOf(EXEC_MIME_TYPE) == -1) {\n",
       "      register_renderer(events, OutputArea);\n",
       "    }\n",
       "  }\n",
       "\n",
       "  \n",
       "  if (typeof (root._bokeh_timeout) === \"undefined\" || force === true) {\n",
       "    root._bokeh_timeout = Date.now() + 5000;\n",
       "    root._bokeh_failed_load = false;\n",
       "  }\n",
       "\n",
       "  var NB_LOAD_WARNING = {'data': {'text/html':\n",
       "     \"<div style='background-color: #fdd'>\\n\"+\n",
       "     \"<p>\\n\"+\n",
       "     \"BokehJS does not appear to have successfully loaded. If loading BokehJS from CDN, this \\n\"+\n",
       "     \"may be due to a slow or bad network connection. Possible fixes:\\n\"+\n",
       "     \"</p>\\n\"+\n",
       "     \"<ul>\\n\"+\n",
       "     \"<li>re-rerun `output_notebook()` to attempt to load from CDN again, or</li>\\n\"+\n",
       "     \"<li>use INLINE resources instead, as so:</li>\\n\"+\n",
       "     \"</ul>\\n\"+\n",
       "     \"<code>\\n\"+\n",
       "     \"from bokeh.resources import INLINE\\n\"+\n",
       "     \"output_notebook(resources=INLINE)\\n\"+\n",
       "     \"</code>\\n\"+\n",
       "     \"</div>\"}};\n",
       "\n",
       "  function display_loaded() {\n",
       "    var el = document.getElementById(\"3643dd94-3ff9-4b33-b0fd-b8ee764d6447\");\n",
       "    if (el != null) {\n",
       "      el.textContent = \"BokehJS is loading...\";\n",
       "    }\n",
       "    if (root.Bokeh !== undefined) {\n",
       "      if (el != null) {\n",
       "        el.textContent = \"BokehJS \" + root.Bokeh.version + \" successfully loaded.\";\n",
       "      }\n",
       "    } else if (Date.now() < root._bokeh_timeout) {\n",
       "      setTimeout(display_loaded, 100)\n",
       "    }\n",
       "  }\n",
       "\n",
       "\n",
       "  function run_callbacks() {\n",
       "    try {\n",
       "      root._bokeh_onload_callbacks.forEach(function(callback) { callback() });\n",
       "    }\n",
       "    finally {\n",
       "      delete root._bokeh_onload_callbacks\n",
       "    }\n",
       "    console.info(\"Bokeh: all callbacks have finished\");\n",
       "  }\n",
       "\n",
       "  function load_libs(js_urls, callback) {\n",
       "    root._bokeh_onload_callbacks.push(callback);\n",
       "    if (root._bokeh_is_loading > 0) {\n",
       "      console.log(\"Bokeh: BokehJS is being loaded, scheduling callback at\", now());\n",
       "      return null;\n",
       "    }\n",
       "    if (js_urls == null || js_urls.length === 0) {\n",
       "      run_callbacks();\n",
       "      return null;\n",
       "    }\n",
       "    console.log(\"Bokeh: BokehJS not loaded, scheduling load and callback at\", now());\n",
       "    root._bokeh_is_loading = js_urls.length;\n",
       "    for (var i = 0; i < js_urls.length; i++) {\n",
       "      var url = js_urls[i];\n",
       "      var s = document.createElement('script');\n",
       "      s.src = url;\n",
       "      s.async = false;\n",
       "      s.onreadystatechange = s.onload = function() {\n",
       "        root._bokeh_is_loading--;\n",
       "        if (root._bokeh_is_loading === 0) {\n",
       "          console.log(\"Bokeh: all BokehJS libraries loaded\");\n",
       "          run_callbacks()\n",
       "        }\n",
       "      };\n",
       "      s.onerror = function() {\n",
       "        console.warn(\"failed to load library \" + url);\n",
       "      };\n",
       "      console.log(\"Bokeh: injecting script tag for BokehJS library: \", url);\n",
       "      document.getElementsByTagName(\"head\")[0].appendChild(s);\n",
       "    }\n",
       "  };var element = document.getElementById(\"3643dd94-3ff9-4b33-b0fd-b8ee764d6447\");\n",
       "  if (element == null) {\n",
       "    console.log(\"Bokeh: ERROR: autoload.js configured with elementid '3643dd94-3ff9-4b33-b0fd-b8ee764d6447' but no matching script tag was found. \")\n",
       "    return false;\n",
       "  }\n",
       "\n",
       "  var js_urls = [\"https://cdn.pydata.org/bokeh/release/bokeh-0.12.13.min.js\", \"https://cdn.pydata.org/bokeh/release/bokeh-widgets-0.12.13.min.js\", \"https://cdn.pydata.org/bokeh/release/bokeh-tables-0.12.13.min.js\", \"https://cdn.pydata.org/bokeh/release/bokeh-gl-0.12.13.min.js\"];\n",
       "\n",
       "  var inline_js = [\n",
       "    function(Bokeh) {\n",
       "      Bokeh.set_log_level(\"info\");\n",
       "    },\n",
       "    \n",
       "    function(Bokeh) {\n",
       "      \n",
       "    },\n",
       "    function(Bokeh) {\n",
       "      console.log(\"Bokeh: injecting CSS: https://cdn.pydata.org/bokeh/release/bokeh-0.12.13.min.css\");\n",
       "      Bokeh.embed.inject_css(\"https://cdn.pydata.org/bokeh/release/bokeh-0.12.13.min.css\");\n",
       "      console.log(\"Bokeh: injecting CSS: https://cdn.pydata.org/bokeh/release/bokeh-widgets-0.12.13.min.css\");\n",
       "      Bokeh.embed.inject_css(\"https://cdn.pydata.org/bokeh/release/bokeh-widgets-0.12.13.min.css\");\n",
       "      console.log(\"Bokeh: injecting CSS: https://cdn.pydata.org/bokeh/release/bokeh-tables-0.12.13.min.css\");\n",
       "      Bokeh.embed.inject_css(\"https://cdn.pydata.org/bokeh/release/bokeh-tables-0.12.13.min.css\");\n",
       "    }\n",
       "  ];\n",
       "\n",
       "  function run_inline_js() {\n",
       "    \n",
       "    if ((root.Bokeh !== undefined) || (force === true)) {\n",
       "      for (var i = 0; i < inline_js.length; i++) {\n",
       "        inline_js[i].call(root, root.Bokeh);\n",
       "      }if (force === true) {\n",
       "        display_loaded();\n",
       "      }} else if (Date.now() < root._bokeh_timeout) {\n",
       "      setTimeout(run_inline_js, 100);\n",
       "    } else if (!root._bokeh_failed_load) {\n",
       "      console.log(\"Bokeh: BokehJS failed to load within specified timeout.\");\n",
       "      root._bokeh_failed_load = true;\n",
       "    } else if (force !== true) {\n",
       "      var cell = $(document.getElementById(\"3643dd94-3ff9-4b33-b0fd-b8ee764d6447\")).parents('.cell').data().cell;\n",
       "      cell.output_area.append_execute_result(NB_LOAD_WARNING)\n",
       "    }\n",
       "\n",
       "  }\n",
       "\n",
       "  if (root._bokeh_is_loading === 0) {\n",
       "    console.log(\"Bokeh: BokehJS loaded, going straight to plotting\");\n",
       "    run_inline_js();\n",
       "  } else {\n",
       "    load_libs(js_urls, function() {\n",
       "      console.log(\"Bokeh: BokehJS plotting callback run at\", now());\n",
       "      run_inline_js();\n",
       "    });\n",
       "  }\n",
       "}(window));"
      ],
      "application/vnd.bokehjs_load.v0+json": "\n(function(root) {\n  function now() {\n    return new Date();\n  }\n\n  var force = true;\n\n  if (typeof (root._bokeh_onload_callbacks) === \"undefined\" || force === true) {\n    root._bokeh_onload_callbacks = [];\n    root._bokeh_is_loading = undefined;\n  }\n\n  \n\n  \n  if (typeof (root._bokeh_timeout) === \"undefined\" || force === true) {\n    root._bokeh_timeout = Date.now() + 5000;\n    root._bokeh_failed_load = false;\n  }\n\n  var NB_LOAD_WARNING = {'data': {'text/html':\n     \"<div style='background-color: #fdd'>\\n\"+\n     \"<p>\\n\"+\n     \"BokehJS does not appear to have successfully loaded. If loading BokehJS from CDN, this \\n\"+\n     \"may be due to a slow or bad network connection. Possible fixes:\\n\"+\n     \"</p>\\n\"+\n     \"<ul>\\n\"+\n     \"<li>re-rerun `output_notebook()` to attempt to load from CDN again, or</li>\\n\"+\n     \"<li>use INLINE resources instead, as so:</li>\\n\"+\n     \"</ul>\\n\"+\n     \"<code>\\n\"+\n     \"from bokeh.resources import INLINE\\n\"+\n     \"output_notebook(resources=INLINE)\\n\"+\n     \"</code>\\n\"+\n     \"</div>\"}};\n\n  function display_loaded() {\n    var el = document.getElementById(\"3643dd94-3ff9-4b33-b0fd-b8ee764d6447\");\n    if (el != null) {\n      el.textContent = \"BokehJS is loading...\";\n    }\n    if (root.Bokeh !== undefined) {\n      if (el != null) {\n        el.textContent = \"BokehJS \" + root.Bokeh.version + \" successfully loaded.\";\n      }\n    } else if (Date.now() < root._bokeh_timeout) {\n      setTimeout(display_loaded, 100)\n    }\n  }\n\n\n  function run_callbacks() {\n    try {\n      root._bokeh_onload_callbacks.forEach(function(callback) { callback() });\n    }\n    finally {\n      delete root._bokeh_onload_callbacks\n    }\n    console.info(\"Bokeh: all callbacks have finished\");\n  }\n\n  function load_libs(js_urls, callback) {\n    root._bokeh_onload_callbacks.push(callback);\n    if (root._bokeh_is_loading > 0) {\n      console.log(\"Bokeh: BokehJS is being loaded, scheduling callback at\", now());\n      return null;\n    }\n    if (js_urls == null || js_urls.length === 0) {\n      run_callbacks();\n      return null;\n    }\n    console.log(\"Bokeh: BokehJS not loaded, scheduling load and callback at\", now());\n    root._bokeh_is_loading = js_urls.length;\n    for (var i = 0; i < js_urls.length; i++) {\n      var url = js_urls[i];\n      var s = document.createElement('script');\n      s.src = url;\n      s.async = false;\n      s.onreadystatechange = s.onload = function() {\n        root._bokeh_is_loading--;\n        if (root._bokeh_is_loading === 0) {\n          console.log(\"Bokeh: all BokehJS libraries loaded\");\n          run_callbacks()\n        }\n      };\n      s.onerror = function() {\n        console.warn(\"failed to load library \" + url);\n      };\n      console.log(\"Bokeh: injecting script tag for BokehJS library: \", url);\n      document.getElementsByTagName(\"head\")[0].appendChild(s);\n    }\n  };var element = document.getElementById(\"3643dd94-3ff9-4b33-b0fd-b8ee764d6447\");\n  if (element == null) {\n    console.log(\"Bokeh: ERROR: autoload.js configured with elementid '3643dd94-3ff9-4b33-b0fd-b8ee764d6447' but no matching script tag was found. \")\n    return false;\n  }\n\n  var js_urls = [\"https://cdn.pydata.org/bokeh/release/bokeh-0.12.13.min.js\", \"https://cdn.pydata.org/bokeh/release/bokeh-widgets-0.12.13.min.js\", \"https://cdn.pydata.org/bokeh/release/bokeh-tables-0.12.13.min.js\", \"https://cdn.pydata.org/bokeh/release/bokeh-gl-0.12.13.min.js\"];\n\n  var inline_js = [\n    function(Bokeh) {\n      Bokeh.set_log_level(\"info\");\n    },\n    \n    function(Bokeh) {\n      \n    },\n    function(Bokeh) {\n      console.log(\"Bokeh: injecting CSS: https://cdn.pydata.org/bokeh/release/bokeh-0.12.13.min.css\");\n      Bokeh.embed.inject_css(\"https://cdn.pydata.org/bokeh/release/bokeh-0.12.13.min.css\");\n      console.log(\"Bokeh: injecting CSS: https://cdn.pydata.org/bokeh/release/bokeh-widgets-0.12.13.min.css\");\n      Bokeh.embed.inject_css(\"https://cdn.pydata.org/bokeh/release/bokeh-widgets-0.12.13.min.css\");\n      console.log(\"Bokeh: injecting CSS: https://cdn.pydata.org/bokeh/release/bokeh-tables-0.12.13.min.css\");\n      Bokeh.embed.inject_css(\"https://cdn.pydata.org/bokeh/release/bokeh-tables-0.12.13.min.css\");\n    }\n  ];\n\n  function run_inline_js() {\n    \n    if ((root.Bokeh !== undefined) || (force === true)) {\n      for (var i = 0; i < inline_js.length; i++) {\n        inline_js[i].call(root, root.Bokeh);\n      }if (force === true) {\n        display_loaded();\n      }} else if (Date.now() < root._bokeh_timeout) {\n      setTimeout(run_inline_js, 100);\n    } else if (!root._bokeh_failed_load) {\n      console.log(\"Bokeh: BokehJS failed to load within specified timeout.\");\n      root._bokeh_failed_load = true;\n    } else if (force !== true) {\n      var cell = $(document.getElementById(\"3643dd94-3ff9-4b33-b0fd-b8ee764d6447\")).parents('.cell').data().cell;\n      cell.output_area.append_execute_result(NB_LOAD_WARNING)\n    }\n\n  }\n\n  if (root._bokeh_is_loading === 0) {\n    console.log(\"Bokeh: BokehJS loaded, going straight to plotting\");\n    run_inline_js();\n  } else {\n    load_libs(js_urls, function() {\n      console.log(\"Bokeh: BokehJS plotting callback run at\", now());\n      run_inline_js();\n    });\n  }\n}(window));"
     },
     "metadata": {},
     "output_type": "display_data"
    }
   ],
   "source": [
    "from IPython.core.interactiveshell import InteractiveShell\n",
    "InteractiveShell.ast_node_interactivity = \"all\"\n",
    "\n",
    "import pandas as pd\n",
    "import warnings\n",
    "warnings.filterwarnings('ignore')\n",
    "\n",
    "from bokeh.plotting import output_notebook, show\n",
    "output_notebook()"
   ]
  },
  {
   "cell_type": "code",
   "execution_count": 3,
   "metadata": {},
   "outputs": [],
   "source": [
    "base = pd.read_csv(\"HR_comma_sep.csv\")"
   ]
  },
  {
   "cell_type": "code",
   "execution_count": 7,
   "metadata": {},
   "outputs": [],
   "source": [
    "train = base.sample(10000)\n",
    "holdout_data = base[~base.index.isin(train.index)]\n",
    "new_data = holdout_data.sample(2000).drop(\"left\", axis=1)\n",
    "holdout_data = holdout_data[~holdout_data.index.isin(new_data.index)]"
   ]
  },
  {
   "cell_type": "code",
   "execution_count": 8,
   "metadata": {},
   "outputs": [
    {
     "data": {
      "text/plain": [
       "(10000, 10)"
      ]
     },
     "execution_count": 8,
     "metadata": {},
     "output_type": "execute_result"
    },
    {
     "data": {
      "text/plain": [
       "(2999, 10)"
      ]
     },
     "execution_count": 8,
     "metadata": {},
     "output_type": "execute_result"
    },
    {
     "data": {
      "text/plain": [
       "(2000, 9)"
      ]
     },
     "execution_count": 8,
     "metadata": {},
     "output_type": "execute_result"
    }
   ],
   "source": [
    "train.shape\n",
    "holdout_data.shape\n",
    "new_data.shape"
   ]
  },
  {
   "cell_type": "code",
   "execution_count": 11,
   "metadata": {
    "scrolled": true
   },
   "outputs": [
    {
     "data": {
      "text/plain": [
       "satisfaction_level       float64\n",
       "last_evaluation          float64\n",
       "number_project             int64\n",
       "average_montly_hours       int64\n",
       "time_spend_company         int64\n",
       "Work_accident              int64\n",
       "left                       int64\n",
       "promotion_last_5years      int64\n",
       "sales                     object\n",
       "salary                    object\n",
       "dtype: object"
      ]
     },
     "execution_count": 11,
     "metadata": {},
     "output_type": "execute_result"
    }
   ],
   "source": [
    "train.dtypes"
   ]
  },
  {
   "cell_type": "code",
   "execution_count": 17,
   "metadata": {},
   "outputs": [],
   "source": [
    "import Model_selection, importlib"
   ]
  },
  {
   "cell_type": "code",
   "execution_count": 21,
   "metadata": {},
   "outputs": [],
   "source": [
    "ms = Model_selection.model_train(modelBase=train, target=\"left\", scoring=\"neg_log_loss\", n_jobs=-1,\n",
    "                                 categorical_columns=[\"Work_accident\", \"promotion_last_5years\"])"
   ]
  },
  {
   "cell_type": "code",
   "execution_count": 22,
   "metadata": {},
   "outputs": [
    {
     "name": "stdout",
     "output_type": "stream",
     "text": [
      "Fitting 5 folds for each of 100 candidates, totalling 500 fits\n"
     ]
    },
    {
     "name": "stderr",
     "output_type": "stream",
     "text": [
      "[Parallel(n_jobs=-1)]: Done  56 tasks      | elapsed:    1.2s\n",
      "[Parallel(n_jobs=-1)]: Done 357 out of 500 | elapsed:   14.6s remaining:    5.8s\n",
      "[Parallel(n_jobs=-1)]: Done 500 out of 500 | elapsed:   20.1s finished\n"
     ]
    },
    {
     "name": "stdout",
     "output_type": "stream",
     "text": [
      "gbm best CV score: -0.0901562661924\n",
      "gbm fitting complete\n",
      "\n",
      "Fitting 5 folds for each of 100 candidates, totalling 500 fits\n"
     ]
    },
    {
     "name": "stderr",
     "output_type": "stream",
     "text": [
      "[Parallel(n_jobs=-1)]: Done  56 tasks      | elapsed:    1.5s\n",
      "[Parallel(n_jobs=-1)]: Done 357 out of 500 | elapsed:    6.6s remaining:    2.6s\n",
      "[Parallel(n_jobs=-1)]: Done 500 out of 500 | elapsed:   11.1s finished\n"
     ]
    },
    {
     "name": "stdout",
     "output_type": "stream",
     "text": [
      "random_forest best CV score: -0.175546507169\n",
      "random_forest fitting complete\n",
      "\n",
      "Fitting 5 folds for each of 4 candidates, totalling 20 fits\n"
     ]
    },
    {
     "name": "stderr",
     "output_type": "stream",
     "text": [
      "[Parallel(n_jobs=-1)]: Done   3 out of  20 | elapsed:    3.9s remaining:   22.0s\n",
      "[Parallel(n_jobs=-1)]: Done  20 out of  20 | elapsed:    8.1s finished\n"
     ]
    },
    {
     "name": "stdout",
     "output_type": "stream",
     "text": [
      "Fitting 5 folds for each of 36 candidates, totalling 180 fits\n"
     ]
    },
    {
     "name": "stderr",
     "output_type": "stream",
     "text": [
      "[Parallel(n_jobs=-1)]: Done 180 out of 180 | elapsed:   48.9s finished\n"
     ]
    },
    {
     "name": "stdout",
     "output_type": "stream",
     "text": [
      "svm best CV score: -0.106678978317\n",
      "svm fitting complete\n",
      "\n",
      "Fitting 5 folds for each of 5 candidates, totalling 25 fits\n"
     ]
    },
    {
     "name": "stderr",
     "output_type": "stream",
     "text": [
      "[Parallel(n_jobs=-1)]: Done  12 out of  25 | elapsed:    0.3s remaining:    0.4s\n",
      "[Parallel(n_jobs=-1)]: Done  25 out of  25 | elapsed:    0.5s finished\n"
     ]
    },
    {
     "name": "stdout",
     "output_type": "stream",
     "text": [
      "logistic_regression best CV score: -0.424707011161\n",
      "logistic_regression fitting complete\n",
      "\n"
     ]
    }
   ],
   "source": [
    "ms.fit_models()"
   ]
  },
  {
   "cell_type": "code",
   "execution_count": 23,
   "metadata": {},
   "outputs": [
    {
     "name": "stdout",
     "output_type": "stream",
     "text": [
      "gbm Training accuracy:98.98%\n",
      "gbm Test accuracy:97.85%\n",
      "gbm Training f1_score:97.81%\n",
      "gbm Test f1_score:95.45%\n",
      "\n",
      "random_forest Training accuracy:94.45%\n",
      "random_forest Test accuracy:95.25%\n",
      "random_forest Training f1_score:88.38%\n",
      "random_forest Test f1_score:90.22%\n",
      "\n",
      "svm Training accuracy:99.86%\n",
      "svm Test accuracy:97.25%\n",
      "svm Training f1_score:99.71%\n",
      "svm Test f1_score:94.07%\n",
      "\n",
      "logistic_regression Training accuracy:79.96%\n",
      "logistic_regression Test accuracy:79.25%\n",
      "logistic_regression Training f1_score:46.69%\n",
      "logistic_regression Test f1_score:43.69%\n",
      "\n"
     ]
    }
   ],
   "source": [
    "ms.apply_models()\n",
    "ms.evaluate_models()"
   ]
  },
  {
   "cell_type": "code",
   "execution_count": 27,
   "metadata": {},
   "outputs": [],
   "source": [
    "ms.select_retrain_model([\"gbm\", \"svm\"])"
   ]
  },
  {
   "cell_type": "code",
   "execution_count": 28,
   "metadata": {},
   "outputs": [
    {
     "data": {
      "text/html": [
       "\n",
       "<div class=\"bk-root\">\n",
       "    <div class=\"bk-plotdiv\" id=\"957cb80b-6e31-42f0-959e-d45cde3c18a9\"></div>\n",
       "</div>"
      ]
     },
     "metadata": {},
     "output_type": "display_data"
    },
    {
     "data": {
      "application/javascript": [
       "(function(root) {\n",
       "  function embed_document(root) {\n",
       "    \n",
       "  var docs_json = {\"d4483179-406f-44bd-b302-44f9b1dc28f5\":{\"roots\":{\"references\":[{\"attributes\":{\"plot\":{\"id\":\"cf658178-9924-417e-bf60-08371a003d5a\",\"subtype\":\"Figure\",\"type\":\"Plot\"},\"ticker\":{\"id\":\"31095d99-c066-4ea4-bbd8-980c650d2a67\",\"type\":\"BasicTicker\"}},\"id\":\"ec43de2a-42c6-4d36-b441-67ccc0d810b9\",\"type\":\"Grid\"},{\"attributes\":{\"background_fill_color\":{\"value\":\"white\"},\"border_line_alpha\":{\"value\":0.0},\"plot\":{\"id\":\"cf658178-9924-417e-bf60-08371a003d5a\",\"subtype\":\"Figure\",\"type\":\"Plot\"},\"render_mode\":\"css\",\"text\":\"test Gini: 97.18%\",\"x\":250,\"x_units\":\"screen\",\"y\":-40,\"y_units\":\"screen\"},\"id\":\"086fca7e-b7e9-4b0b-8965-4e9d163e7e58\",\"type\":\"Label\"},{\"attributes\":{\"dimension\":1,\"plot\":{\"id\":\"cf658178-9924-417e-bf60-08371a003d5a\",\"subtype\":\"Figure\",\"type\":\"Plot\"},\"ticker\":{\"id\":\"d9ffff52-b1d9-43e7-b835-c1895f3336fc\",\"type\":\"BasicTicker\"}},\"id\":\"428dc057-c13f-441e-88a9-690a3ef20310\",\"type\":\"Grid\"},{\"attributes\":{\"callback\":null,\"column_names\":[\"x\",\"y\"],\"data\":{\"x\":{\"__ndarray__\":\"AAAAAAAAAACSVwE0H3lFP3atAQFn12o/kb1xdxTZuz8z61mcKrPOPx95FUDzkdc/LOe9Pr9y3j9bNrpvqWXjPxh1eeKHUec/ibhuQo6I6z8AAAAAAADwPw==\",\"dtype\":\"float64\",\"shape\":[11]},\"y\":{\"__ndarray__\":\"AAAAAAAAAABrcRPmd7XYP63g8IUUAes/yZ6BqHRk7z+Y39XiJszvP2bq40Fv3e8/ZurjQW/d7z8z9fGgt+7vPwAAAAAAAPA/AAAAAAAA8D8AAAAAAADwPw==\",\"dtype\":\"float64\",\"shape\":[11]}}},\"id\":\"c6c02706-b1ea-46f2-b31d-fa4bc8919261\",\"type\":\"ColumnDataSource\"},{\"attributes\":{\"callback\":null,\"column_names\":[\"x\",\"y\"],\"data\":{\"x\":{\"__ndarray__\":\"AAAAAAAAAAAAAAAAAAAAAIDZ2nQJNnA/vhbLGpnYvj9nBWhSsmjPP/zCfh3NAdg/94X9OpoD4D/P6FZerd7jP4Vjpm0pyOc/Ot71fKWx6z8AAAAAAADwPw==\",\"dtype\":\"float64\",\"shape\":[11]},\"y\":{\"__ndarray__\":\"AAAAAAAAAACamZmZmZnZPwzjCVTKN+o/Y8vAZuk/7z+APpNjTprvP6spYkI0vO8/csaWgc3S7z/VFDEhGt7vP5yxZWCz9O8/AAAAAAAA8D8AAAAAAADwPw==\",\"dtype\":\"float64\",\"shape\":[11]}}},\"id\":\"57130fa4-71fc-4808-a82e-c8a08fa7dbb6\",\"type\":\"ColumnDataSource\"},{\"attributes\":{\"callback\":null,\"column_names\":[\"x\",\"y\"],\"data\":{\"x\":{\"__ndarray__\":\"AAAAAAAAAAAAAAAAAAAAAIDZ2nQJNnA/vhbLGpnYvj9nBWhSsmjPP/zCfh3NAdg/94X9OpoD4D/P6FZerd7jP4Vjpm0pyOc/Ot71fKWx6z8AAAAAAADwPw==\",\"dtype\":\"float64\",\"shape\":[11]},\"y\":{\"__ndarray__\":\"AAAAAAAAAACamZmZmZnZPwzjCVTKN+o/Y8vAZuk/7z+APpNjTprvP6spYkI0vO8/csaWgc3S7z/VFDEhGt7vP5yxZWCz9O8/AAAAAAAA8D8AAAAAAADwPw==\",\"dtype\":\"float64\",\"shape\":[11]}}},\"id\":\"438115e0-0096-4800-9de5-4467a7f752d4\",\"type\":\"ColumnDataSource\"},{\"attributes\":{},\"id\":\"0686ab39-4975-4467-81b7-2e8b1bdf0c2c\",\"type\":\"PanTool\"},{\"attributes\":{\"line_alpha\":0.1,\"line_color\":\"#1f77b4\",\"line_width\":2,\"x\":{\"field\":\"x\"},\"y\":{\"field\":\"y\"}},\"id\":\"b38c7d23-88d8-4928-967d-6533e658296d\",\"type\":\"Line\"},{\"attributes\":{\"line_alpha\":0.1,\"line_color\":\"#1f77b4\",\"line_width\":2,\"x\":{\"field\":\"x\"},\"y\":{\"field\":\"y\"}},\"id\":\"162ae2be-0f15-42da-90ad-5eb7e58ba28c\",\"type\":\"Line\"},{\"attributes\":{\"line_alpha\":0.1,\"line_color\":\"#1f77b4\",\"line_width\":2,\"x\":{\"field\":\"x\"},\"y\":{\"field\":\"y\"}},\"id\":\"54f6b31f-480b-48d9-9aff-1c225a80e1c3\",\"type\":\"Line\"},{\"attributes\":{},\"id\":\"d9ffff52-b1d9-43e7-b835-c1895f3336fc\",\"type\":\"BasicTicker\"},{\"attributes\":{},\"id\":\"d86c8018-8488-4fbd-9406-1f917efa2383\",\"type\":\"HelpTool\"},{\"attributes\":{\"overlay\":{\"id\":\"4c807435-707f-4091-a285-cfe2acc21453\",\"type\":\"BoxAnnotation\"}},\"id\":\"a9770c85-2c95-49d6-b021-caff5729c0ce\",\"type\":\"BoxZoomTool\"},{\"attributes\":{\"line_alpha\":0.5,\"line_color\":\"#053C6D\",\"line_width\":2,\"x\":{\"field\":\"x\"},\"y\":{\"field\":\"y\"}},\"id\":\"463642ef-9e75-4191-a5cd-e10e1dc2674d\",\"type\":\"Line\"},{\"attributes\":{\"data_source\":{\"id\":\"0b56f368-0ed8-482f-8043-fc821aadd5c4\",\"type\":\"ColumnDataSource\"},\"glyph\":{\"id\":\"463642ef-9e75-4191-a5cd-e10e1dc2674d\",\"type\":\"Line\"},\"hover_glyph\":null,\"muted_glyph\":null,\"nonselection_glyph\":{\"id\":\"b38c7d23-88d8-4928-967d-6533e658296d\",\"type\":\"Line\"},\"selection_glyph\":null,\"view\":{\"id\":\"0175ea4b-4339-4790-a706-e6e8c86d6c36\",\"type\":\"CDSView\"}},\"id\":\"b9a01b67-1928-4b0b-b139-bd467e32b505\",\"type\":\"GlyphRenderer\"},{\"attributes\":{\"background_fill_color\":{\"value\":\"white\"},\"border_line_alpha\":{\"value\":0.0},\"plot\":{\"id\":\"cf658178-9924-417e-bf60-08371a003d5a\",\"subtype\":\"Figure\",\"type\":\"Plot\"},\"render_mode\":\"css\",\"text\":\"test KS: 87.22%\",\"x\":70,\"x_units\":\"screen\",\"y\":-40,\"y_units\":\"screen\"},\"id\":\"94eb3ee6-71e0-42ff-af03-b2fd43fe5b3f\",\"type\":\"Label\"},{\"attributes\":{\"data_source\":{\"id\":\"438115e0-0096-4800-9de5-4467a7f752d4\",\"type\":\"ColumnDataSource\"},\"glyph\":{\"id\":\"37c82cf8-e62f-4787-958c-24dfb8e87089\",\"type\":\"Line\"},\"hover_glyph\":null,\"muted_glyph\":null,\"nonselection_glyph\":{\"id\":\"162ae2be-0f15-42da-90ad-5eb7e58ba28c\",\"type\":\"Line\"},\"selection_glyph\":null,\"view\":{\"id\":\"d1a33234-c5dd-44f7-8f2b-f911260200a7\",\"type\":\"CDSView\"}},\"id\":\"072f5aeb-60c3-485b-8b93-51ade1632319\",\"type\":\"GlyphRenderer\"},{\"attributes\":{\"label\":{\"value\":\"Event distribution - test\"},\"renderers\":[{\"id\":\"5547cde8-2280-4d44-a4f5-fdb9658d0d8c\",\"type\":\"GlyphRenderer\"}]},\"id\":\"0c6f5e2a-a7ee-4d59-94bd-63cd84b049ea\",\"type\":\"LegendItem\"},{\"attributes\":{\"background_fill_color\":{\"value\":\"white\"},\"border_line_alpha\":{\"value\":0.0},\"plot\":{\"id\":\"cf658178-9924-417e-bf60-08371a003d5a\",\"subtype\":\"Figure\",\"type\":\"Plot\"},\"render_mode\":\"css\",\"text\":\"test1 KS: 85.61%\",\"x\":70,\"x_units\":\"screen\",\"y\":-60,\"y_units\":\"screen\"},\"id\":\"035e218d-71d3-484f-9582-ca4be594a697\",\"type\":\"Label\"},{\"attributes\":{},\"id\":\"31095d99-c066-4ea4-bbd8-980c650d2a67\",\"type\":\"BasicTicker\"},{\"attributes\":{\"background_fill_color\":{\"value\":\"white\"},\"border_line_alpha\":{\"value\":0.0},\"plot\":{\"id\":\"cf658178-9924-417e-bf60-08371a003d5a\",\"subtype\":\"Figure\",\"type\":\"Plot\"},\"render_mode\":\"css\",\"text\":\"training KS: 91.56%\",\"x\":70,\"x_units\":\"screen\",\"y\":-20,\"y_units\":\"screen\"},\"id\":\"e64be18d-ceaf-416c-9aa9-4e746459a145\",\"type\":\"Label\"},{\"attributes\":{\"callback\":null,\"column_names\":[\"x\",\"y\"],\"data\":{\"x\":{\"__ndarray__\":\"AAAAAAAAAAAAAAAAAAAAAIOUEQ9WbiU/rLcvuzKZtT/cl12ZzIrLP/Gpkep/JNY/9Id0iJmD3j/7siuTWXHjP/0hHWLmoOc//pAOMXPQ6z8AAAAAAADwPw==\",\"dtype\":\"float64\",\"shape\":[11]},\"y\":{\"__ndarray__\":\"AAAAAAAAAADwETlBuBvbP/xQjWQRIOs/AAAAAAAA8D8AAAAAAADwPwAAAAAAAPA/AAAAAAAA8D8AAAAAAADwPwAAAAAAAPA/AAAAAAAA8D8AAAAAAADwPw==\",\"dtype\":\"float64\",\"shape\":[11]}}},\"id\":\"0b56f368-0ed8-482f-8043-fc821aadd5c4\",\"type\":\"ColumnDataSource\"},{\"attributes\":{\"source\":{\"id\":\"57130fa4-71fc-4808-a82e-c8a08fa7dbb6\",\"type\":\"ColumnDataSource\"}},\"id\":\"17958fbc-80bc-4eee-ab98-dad5fb10ea2d\",\"type\":\"CDSView\"},{\"attributes\":{\"data_source\":{\"id\":\"57130fa4-71fc-4808-a82e-c8a08fa7dbb6\",\"type\":\"ColumnDataSource\"},\"glyph\":{\"id\":\"3d205991-f839-4681-972f-192bec0c2e78\",\"type\":\"Line\"},\"hover_glyph\":null,\"muted_glyph\":null,\"nonselection_glyph\":{\"id\":\"b6d91754-3b9e-40f1-9ab1-8c0eee539bb4\",\"type\":\"Line\"},\"selection_glyph\":null,\"view\":{\"id\":\"17958fbc-80bc-4eee-ab98-dad5fb10ea2d\",\"type\":\"CDSView\"}},\"id\":\"d97c51b9-2c55-4aac-8217-46ebaa8fd09d\",\"type\":\"GlyphRenderer\"},{\"attributes\":{\"line_alpha\":0.5,\"line_color\":\"#97291E\",\"line_width\":2,\"x\":{\"field\":\"x\"},\"y\":{\"field\":\"y\"}},\"id\":\"cf6b92aa-71b5-404d-aa75-78ccaa57cfdf\",\"type\":\"Line\"},{\"attributes\":{\"source\":{\"id\":\"0b56f368-0ed8-482f-8043-fc821aadd5c4\",\"type\":\"ColumnDataSource\"}},\"id\":\"0175ea4b-4339-4790-a706-e6e8c86d6c36\",\"type\":\"CDSView\"},{\"attributes\":{\"line_color\":\"#E46713\",\"line_width\":2,\"x\":{\"field\":\"x\"},\"y\":{\"field\":\"y\"}},\"id\":\"64adb8d0-ea21-4ca3-a49e-31038a92387f\",\"type\":\"Line\"},{\"attributes\":{},\"id\":\"fae4529a-49f9-4b40-9bc4-41ed9ccece0d\",\"type\":\"BasicTickFormatter\"},{\"attributes\":{\"label\":{\"value\":\"Event distribution - test1\"},\"renderers\":[{\"id\":\"072f5aeb-60c3-485b-8b93-51ade1632319\",\"type\":\"GlyphRenderer\"},{\"id\":\"d97c51b9-2c55-4aac-8217-46ebaa8fd09d\",\"type\":\"GlyphRenderer\"}]},\"id\":\"cdd4a631-cfcf-4c6f-90a9-10f297e79545\",\"type\":\"LegendItem\"},{\"attributes\":{\"callback\":null,\"column_names\":[\"x\",\"y\"],\"data\":{\"x\":{\"__ndarray__\":\"AAAAAAAAAAAAAAAAAAAAAIOUEQ9WbiU/rLcvuzKZtT/cl12ZzIrLP/Gpkep/JNY/9Id0iJmD3j/7siuTWXHjP/0hHWLmoOc//pAOMXPQ6z8AAAAAAADwPw==\",\"dtype\":\"float64\",\"shape\":[11]},\"y\":{\"__ndarray__\":\"AAAAAAAAAAAAAAAAAAAAAIOUEQ9WbiU/rLcvuzKZtT/cl12ZzIrLP/Gpkep/JNY/9Id0iJmD3j/7siuTWXHjP/0hHWLmoOc//pAOMXPQ6z8AAAAAAADwPw==\",\"dtype\":\"float64\",\"shape\":[11]}}},\"id\":\"6bc69176-3107-4e91-b8ea-c61f3a614ede\",\"type\":\"ColumnDataSource\"},{\"attributes\":{},\"id\":\"45898204-b832-4473-90f9-cc00903d029a\",\"type\":\"BasicTickFormatter\"},{\"attributes\":{\"background_fill_color\":{\"value\":\"white\"},\"border_line_alpha\":{\"value\":0.0},\"plot\":{\"id\":\"cf658178-9924-417e-bf60-08371a003d5a\",\"subtype\":\"Figure\",\"type\":\"Plot\"},\"render_mode\":\"css\",\"text\":\"test1 Gini: 96.22%\",\"x\":250,\"x_units\":\"screen\",\"y\":-60,\"y_units\":\"screen\"},\"id\":\"20150af4-c47a-4c4a-9a16-d3c649e13c46\",\"type\":\"Label\"},{\"attributes\":{\"label\":{\"value\":\"Event distribution - training\"},\"renderers\":[{\"id\":\"b9a01b67-1928-4b0b-b139-bd467e32b505\",\"type\":\"GlyphRenderer\"}]},\"id\":\"c3c92cce-1aa8-4eff-bddc-22a822a60a1b\",\"type\":\"LegendItem\"},{\"attributes\":{\"callback\":null},\"id\":\"db7725a0-df00-4091-a34a-6d13424b4ae1\",\"type\":\"Range1d\"},{\"attributes\":{},\"id\":\"4eb14d3a-2faf-45ed-a9ce-9f22c8943835\",\"type\":\"SaveTool\"},{\"attributes\":{},\"id\":\"9de291d0-8b94-42d6-ba74-c6d032c65ceb\",\"type\":\"LinearScale\"},{\"attributes\":{},\"id\":\"7958cf1e-a2d0-4ff6-b818-8265d7f077d8\",\"type\":\"ResetTool\"},{\"attributes\":{\"data_source\":{\"id\":\"c6c02706-b1ea-46f2-b31d-fa4bc8919261\",\"type\":\"ColumnDataSource\"},\"glyph\":{\"id\":\"cf6b92aa-71b5-404d-aa75-78ccaa57cfdf\",\"type\":\"Line\"},\"hover_glyph\":null,\"muted_glyph\":null,\"nonselection_glyph\":{\"id\":\"54f6b31f-480b-48d9-9aff-1c225a80e1c3\",\"type\":\"Line\"},\"selection_glyph\":null,\"view\":{\"id\":\"e9e8b2a4-3fb2-4e9b-9e24-2015d6414133\",\"type\":\"CDSView\"}},\"id\":\"5547cde8-2280-4d44-a4f5-fdb9658d0d8c\",\"type\":\"GlyphRenderer\"},{\"attributes\":{\"axis_label\":\"Cumulative Non_event\",\"formatter\":{\"id\":\"45898204-b832-4473-90f9-cc00903d029a\",\"type\":\"BasicTickFormatter\"},\"plot\":{\"id\":\"cf658178-9924-417e-bf60-08371a003d5a\",\"subtype\":\"Figure\",\"type\":\"Plot\"},\"ticker\":{\"id\":\"31095d99-c066-4ea4-bbd8-980c650d2a67\",\"type\":\"BasicTicker\"}},\"id\":\"07adcbfc-a28c-4bbe-a33f-0aee1abc1d4a\",\"type\":\"LinearAxis\"},{\"attributes\":{\"bottom_units\":\"screen\",\"fill_alpha\":{\"value\":0.5},\"fill_color\":{\"value\":\"lightgrey\"},\"left_units\":\"screen\",\"level\":\"overlay\",\"line_alpha\":{\"value\":1.0},\"line_color\":{\"value\":\"black\"},\"line_dash\":[4,4],\"line_width\":{\"value\":2},\"plot\":null,\"render_mode\":\"css\",\"right_units\":\"screen\",\"top_units\":\"screen\"},\"id\":\"4c807435-707f-4091-a285-cfe2acc21453\",\"type\":\"BoxAnnotation\"},{\"attributes\":{\"items\":[{\"id\":\"c3c92cce-1aa8-4eff-bddc-22a822a60a1b\",\"type\":\"LegendItem\"},{\"id\":\"0c6f5e2a-a7ee-4d59-94bd-63cd84b049ea\",\"type\":\"LegendItem\"},{\"id\":\"cdd4a631-cfcf-4c6f-90a9-10f297e79545\",\"type\":\"LegendItem\"}],\"location\":\"bottom_right\",\"plot\":{\"id\":\"cf658178-9924-417e-bf60-08371a003d5a\",\"subtype\":\"Figure\",\"type\":\"Plot\"}},\"id\":\"24d2ef9f-fe0a-4c64-b253-a64b32f9c64d\",\"type\":\"Legend\"},{\"attributes\":{\"source\":{\"id\":\"c6c02706-b1ea-46f2-b31d-fa4bc8919261\",\"type\":\"ColumnDataSource\"}},\"id\":\"e9e8b2a4-3fb2-4e9b-9e24-2015d6414133\",\"type\":\"CDSView\"},{\"attributes\":{\"below\":[{\"id\":\"07adcbfc-a28c-4bbe-a33f-0aee1abc1d4a\",\"type\":\"LinearAxis\"}],\"left\":[{\"id\":\"ba0743c8-fd3c-46cd-b943-34db55602572\",\"type\":\"LinearAxis\"}],\"plot_height\":400,\"renderers\":[{\"id\":\"07adcbfc-a28c-4bbe-a33f-0aee1abc1d4a\",\"type\":\"LinearAxis\"},{\"id\":\"ec43de2a-42c6-4d36-b441-67ccc0d810b9\",\"type\":\"Grid\"},{\"id\":\"ba0743c8-fd3c-46cd-b943-34db55602572\",\"type\":\"LinearAxis\"},{\"id\":\"428dc057-c13f-441e-88a9-690a3ef20310\",\"type\":\"Grid\"},{\"id\":\"4c807435-707f-4091-a285-cfe2acc21453\",\"type\":\"BoxAnnotation\"},{\"id\":\"24d2ef9f-fe0a-4c64-b253-a64b32f9c64d\",\"type\":\"Legend\"},{\"id\":\"b9a01b67-1928-4b0b-b139-bd467e32b505\",\"type\":\"GlyphRenderer\"},{\"id\":\"5547cde8-2280-4d44-a4f5-fdb9658d0d8c\",\"type\":\"GlyphRenderer\"},{\"id\":\"38eebfd3-9797-47c1-ab88-557afb9d3bbf\",\"type\":\"GlyphRenderer\"},{\"id\":\"e64be18d-ceaf-416c-9aa9-4e746459a145\",\"type\":\"Label\"},{\"id\":\"8f20e163-0358-4f73-bc26-7672e7d9897d\",\"type\":\"Label\"},{\"id\":\"94eb3ee6-71e0-42ff-af03-b2fd43fe5b3f\",\"type\":\"Label\"},{\"id\":\"086fca7e-b7e9-4b0b-8965-4e9d163e7e58\",\"type\":\"Label\"},{\"id\":\"072f5aeb-60c3-485b-8b93-51ade1632319\",\"type\":\"GlyphRenderer\"},{\"id\":\"3586d039-12da-46df-8bb8-05aed212fd40\",\"type\":\"Label\"},{\"id\":\"87b8882c-27b3-4126-ac38-041ef09cb35e\",\"type\":\"Label\"},{\"id\":\"d97c51b9-2c55-4aac-8217-46ebaa8fd09d\",\"type\":\"GlyphRenderer\"},{\"id\":\"035e218d-71d3-484f-9582-ca4be594a697\",\"type\":\"Label\"},{\"id\":\"20150af4-c47a-4c4a-9a16-d3c649e13c46\",\"type\":\"Label\"}],\"title\":{\"id\":\"4dcf4fa5-2e3b-4106-a865-1a2b1dc88f7c\",\"type\":\"Title\"},\"toolbar\":{\"id\":\"f96d02e3-526d-491d-b791-126d1b353f5a\",\"type\":\"Toolbar\"},\"x_range\":{\"id\":\"dec65947-83b6-4617-991a-7c01e5776651\",\"type\":\"Range1d\"},\"x_scale\":{\"id\":\"9de291d0-8b94-42d6-ba74-c6d032c65ceb\",\"type\":\"LinearScale\"},\"y_range\":{\"id\":\"db7725a0-df00-4091-a34a-6d13424b4ae1\",\"type\":\"Range1d\"},\"y_scale\":{\"id\":\"1e045581-3624-47be-a1b5-83beba94a64e\",\"type\":\"LinearScale\"}},\"id\":\"cf658178-9924-417e-bf60-08371a003d5a\",\"subtype\":\"Figure\",\"type\":\"Plot\"},{\"attributes\":{\"line_alpha\":0.5,\"line_width\":2,\"x\":{\"field\":\"x\"},\"y\":{\"field\":\"y\"}},\"id\":\"37c82cf8-e62f-4787-958c-24dfb8e87089\",\"type\":\"Line\"},{\"attributes\":{\"axis_label\":\"Cumulative Event\",\"formatter\":{\"id\":\"fae4529a-49f9-4b40-9bc4-41ed9ccece0d\",\"type\":\"BasicTickFormatter\"},\"plot\":{\"id\":\"cf658178-9924-417e-bf60-08371a003d5a\",\"subtype\":\"Figure\",\"type\":\"Plot\"},\"ticker\":{\"id\":\"d9ffff52-b1d9-43e7-b835-c1895f3336fc\",\"type\":\"BasicTicker\"}},\"id\":\"ba0743c8-fd3c-46cd-b943-34db55602572\",\"type\":\"LinearAxis\"},{\"attributes\":{},\"id\":\"1e045581-3624-47be-a1b5-83beba94a64e\",\"type\":\"LinearScale\"},{\"attributes\":{\"line_alpha\":0.1,\"line_color\":\"#1f77b4\",\"line_width\":2,\"x\":{\"field\":\"x\"},\"y\":{\"field\":\"y\"}},\"id\":\"b6d91754-3b9e-40f1-9ab1-8c0eee539bb4\",\"type\":\"Line\"},{\"attributes\":{\"data_source\":{\"id\":\"6bc69176-3107-4e91-b8ea-c61f3a614ede\",\"type\":\"ColumnDataSource\"},\"glyph\":{\"id\":\"64adb8d0-ea21-4ca3-a49e-31038a92387f\",\"type\":\"Line\"},\"hover_glyph\":null,\"muted_glyph\":null,\"nonselection_glyph\":{\"id\":\"4db6fb97-f045-4193-932c-bcc16ad9ee84\",\"type\":\"Line\"},\"selection_glyph\":null,\"view\":{\"id\":\"fb336fc2-244a-4b38-820e-4e1ab07420b3\",\"type\":\"CDSView\"}},\"id\":\"38eebfd3-9797-47c1-ab88-557afb9d3bbf\",\"type\":\"GlyphRenderer\"},{\"attributes\":{},\"id\":\"905e4df1-392e-47b0-abf1-c65805a943d3\",\"type\":\"WheelZoomTool\"},{\"attributes\":{\"plot\":null,\"text\":\"Gini curve for GBM\"},\"id\":\"4dcf4fa5-2e3b-4106-a865-1a2b1dc88f7c\",\"type\":\"Title\"},{\"attributes\":{\"background_fill_color\":{\"value\":\"white\"},\"border_line_alpha\":{\"value\":0.0},\"plot\":{\"id\":\"cf658178-9924-417e-bf60-08371a003d5a\",\"subtype\":\"Figure\",\"type\":\"Plot\"},\"render_mode\":\"css\",\"text\":\"training Gini: 98.71%\",\"x\":250,\"x_units\":\"screen\",\"y\":-20,\"y_units\":\"screen\"},\"id\":\"8f20e163-0358-4f73-bc26-7672e7d9897d\",\"type\":\"Label\"},{\"attributes\":{\"source\":{\"id\":\"6bc69176-3107-4e91-b8ea-c61f3a614ede\",\"type\":\"ColumnDataSource\"}},\"id\":\"fb336fc2-244a-4b38-820e-4e1ab07420b3\",\"type\":\"CDSView\"},{\"attributes\":{\"callback\":null},\"id\":\"dec65947-83b6-4617-991a-7c01e5776651\",\"type\":\"Range1d\"},{\"attributes\":{\"active_drag\":\"auto\",\"active_inspect\":\"auto\",\"active_scroll\":\"auto\",\"active_tap\":\"auto\",\"tools\":[{\"id\":\"0686ab39-4975-4467-81b7-2e8b1bdf0c2c\",\"type\":\"PanTool\"},{\"id\":\"905e4df1-392e-47b0-abf1-c65805a943d3\",\"type\":\"WheelZoomTool\"},{\"id\":\"a9770c85-2c95-49d6-b021-caff5729c0ce\",\"type\":\"BoxZoomTool\"},{\"id\":\"4eb14d3a-2faf-45ed-a9ce-9f22c8943835\",\"type\":\"SaveTool\"},{\"id\":\"7958cf1e-a2d0-4ff6-b818-8265d7f077d8\",\"type\":\"ResetTool\"},{\"id\":\"d86c8018-8488-4fbd-9406-1f917efa2383\",\"type\":\"HelpTool\"}]},\"id\":\"f96d02e3-526d-491d-b791-126d1b353f5a\",\"type\":\"Toolbar\"},{\"attributes\":{\"line_alpha\":0.5,\"line_width\":2,\"x\":{\"field\":\"x\"},\"y\":{\"field\":\"y\"}},\"id\":\"3d205991-f839-4681-972f-192bec0c2e78\",\"type\":\"Line\"},{\"attributes\":{\"background_fill_color\":{\"value\":\"white\"},\"border_line_alpha\":{\"value\":0.0},\"plot\":{\"id\":\"cf658178-9924-417e-bf60-08371a003d5a\",\"subtype\":\"Figure\",\"type\":\"Plot\"},\"render_mode\":\"css\",\"text\":\"test1 Gini: 96.22%\",\"x\":250,\"x_units\":\"screen\",\"y\":-60,\"y_units\":\"screen\"},\"id\":\"87b8882c-27b3-4126-ac38-041ef09cb35e\",\"type\":\"Label\"},{\"attributes\":{\"source\":{\"id\":\"438115e0-0096-4800-9de5-4467a7f752d4\",\"type\":\"ColumnDataSource\"}},\"id\":\"d1a33234-c5dd-44f7-8f2b-f911260200a7\",\"type\":\"CDSView\"},{\"attributes\":{\"line_alpha\":0.1,\"line_color\":\"#1f77b4\",\"line_width\":2,\"x\":{\"field\":\"x\"},\"y\":{\"field\":\"y\"}},\"id\":\"4db6fb97-f045-4193-932c-bcc16ad9ee84\",\"type\":\"Line\"},{\"attributes\":{\"background_fill_color\":{\"value\":\"white\"},\"border_line_alpha\":{\"value\":0.0},\"plot\":{\"id\":\"cf658178-9924-417e-bf60-08371a003d5a\",\"subtype\":\"Figure\",\"type\":\"Plot\"},\"render_mode\":\"css\",\"text\":\"test1 KS: 85.61%\",\"x\":70,\"x_units\":\"screen\",\"y\":-60,\"y_units\":\"screen\"},\"id\":\"3586d039-12da-46df-8bb8-05aed212fd40\",\"type\":\"Label\"}],\"root_ids\":[\"cf658178-9924-417e-bf60-08371a003d5a\"]},\"title\":\"Bokeh Application\",\"version\":\"0.12.13\"}};\n",
       "  var render_items = [{\"docid\":\"d4483179-406f-44bd-b302-44f9b1dc28f5\",\"elementid\":\"957cb80b-6e31-42f0-959e-d45cde3c18a9\",\"modelid\":\"cf658178-9924-417e-bf60-08371a003d5a\"}];\n",
       "  root.Bokeh.embed.embed_items_notebook(docs_json, render_items);\n",
       "\n",
       "  }\n",
       "  if (root.Bokeh !== undefined) {\n",
       "    embed_document(root);\n",
       "  } else {\n",
       "    var attempts = 0;\n",
       "    var timer = setInterval(function(root) {\n",
       "      if (root.Bokeh !== undefined) {\n",
       "        embed_document(root);\n",
       "        clearInterval(timer);\n",
       "      }\n",
       "      attempts++;\n",
       "      if (attempts > 100) {\n",
       "        console.log(\"Bokeh: ERROR: Unable to run BokehJS code because BokehJS library is missing\")\n",
       "        clearInterval(timer);\n",
       "      }\n",
       "    }, 10, root)\n",
       "  }\n",
       "})(window);"
      ],
      "application/vnd.bokehjs_exec.v0+json": ""
     },
     "metadata": {
      "application/vnd.bokehjs_exec.v0+json": {
       "id": "cf658178-9924-417e-bf60-08371a003d5a"
      }
     },
     "output_type": "display_data"
    },
    {
     "data": {
      "text/html": [
       "\n",
       "<div class=\"bk-root\">\n",
       "    <div class=\"bk-plotdiv\" id=\"9a27fca1-8b62-4924-bea9-cc903e2ca469\"></div>\n",
       "</div>"
      ]
     },
     "metadata": {},
     "output_type": "display_data"
    },
    {
     "data": {
      "application/javascript": [
       "(function(root) {\n",
       "  function embed_document(root) {\n",
       "    \n",
       "  var docs_json = {\"3752df35-0975-4db3-a2bc-3696711525c1\":{\"roots\":{\"references\":[{\"attributes\":{\"line_alpha\":0.1,\"line_color\":\"#1f77b4\",\"line_width\":2,\"x\":{\"field\":\"x\"},\"y\":{\"field\":\"y\"}},\"id\":\"a17d08cd-8ad5-42b7-ad93-a4e4ac999ade\",\"type\":\"Line\"},{\"attributes\":{\"line_alpha\":0.1,\"line_color\":\"#1f77b4\",\"line_width\":2,\"x\":{\"field\":\"x\"},\"y\":{\"field\":\"y\"}},\"id\":\"8f8a9ba7-46da-4e45-a37f-50db2bd17a33\",\"type\":\"Line\"},{\"attributes\":{\"background_fill_color\":{\"value\":\"white\"},\"border_line_alpha\":{\"value\":0.0},\"plot\":{\"id\":\"c8456f52-751e-4ecb-9600-a08281348636\",\"subtype\":\"Figure\",\"type\":\"Plot\"},\"render_mode\":\"css\",\"text\":\"test1 KS: 60.68%\",\"x\":70,\"x_units\":\"screen\",\"y\":-60,\"y_units\":\"screen\"},\"id\":\"3c13009c-b2ee-420c-98b0-a94f716ef9a5\",\"type\":\"Label\"},{\"attributes\":{\"source\":{\"id\":\"d9666b71-1dad-4f0c-a7fd-92bbbb516eec\",\"type\":\"ColumnDataSource\"}},\"id\":\"4df024c5-2d48-4a1f-be34-61aac2cd7c52\",\"type\":\"CDSView\"},{\"attributes\":{\"data_source\":{\"id\":\"767e3529-3ad5-4d79-9fbb-04964b51b54a\",\"type\":\"ColumnDataSource\"},\"glyph\":{\"id\":\"81ac3a5e-d690-4a4e-88de-1266320ebe39\",\"type\":\"Line\"},\"hover_glyph\":null,\"muted_glyph\":null,\"nonselection_glyph\":{\"id\":\"a17d08cd-8ad5-42b7-ad93-a4e4ac999ade\",\"type\":\"Line\"},\"selection_glyph\":null,\"view\":{\"id\":\"fdf6d867-555b-4369-ac2b-60ddc5a6021c\",\"type\":\"CDSView\"}},\"id\":\"829982dd-07d7-4105-bb9d-ea75ba36355e\",\"type\":\"GlyphRenderer\"},{\"attributes\":{\"line_alpha\":0.5,\"line_color\":\"#053C6D\",\"line_width\":2,\"x\":{\"field\":\"x\"},\"y\":{\"field\":\"y\"}},\"id\":\"1c4260e3-16fc-4e77-b7d2-acb7715c7d8c\",\"type\":\"Line\"},{\"attributes\":{\"line_alpha\":0.1,\"line_color\":\"#1f77b4\",\"line_width\":2,\"x\":{\"field\":\"x\"},\"y\":{\"field\":\"y\"}},\"id\":\"44936c2a-35c9-4ce6-b825-43f406f5fdbd\",\"type\":\"Line\"},{\"attributes\":{},\"id\":\"649b2868-7b75-4033-af4e-e3d061e2860a\",\"type\":\"HelpTool\"},{\"attributes\":{\"background_fill_color\":{\"value\":\"white\"},\"border_line_alpha\":{\"value\":0.0},\"plot\":{\"id\":\"c8456f52-751e-4ecb-9600-a08281348636\",\"subtype\":\"Figure\",\"type\":\"Plot\"},\"render_mode\":\"css\",\"text\":\"training Gini: 98.73%\",\"x\":250,\"x_units\":\"screen\",\"y\":-20,\"y_units\":\"screen\"},\"id\":\"7ab0c253-b9e6-4652-928d-9555f96c2776\",\"type\":\"Label\"},{\"attributes\":{\"axis_label\":\"Cumulative Non_event\",\"formatter\":{\"id\":\"c9547014-26a0-4817-a8cd-7cb7534475a3\",\"type\":\"BasicTickFormatter\"},\"plot\":{\"id\":\"c8456f52-751e-4ecb-9600-a08281348636\",\"subtype\":\"Figure\",\"type\":\"Plot\"},\"ticker\":{\"id\":\"fd830fdd-1893-46c5-831e-1d1e16ac9cb8\",\"type\":\"BasicTicker\"}},\"id\":\"28207524-e025-4675-8b5b-9573055547f5\",\"type\":\"LinearAxis\"},{\"attributes\":{\"label\":{\"value\":\"Event distribution - training\"},\"renderers\":[{\"id\":\"28a8283e-f880-467e-b7fc-84aa4ab92be8\",\"type\":\"GlyphRenderer\"}]},\"id\":\"7036c4fe-7f45-457f-9d6d-b42403047e7d\",\"type\":\"LegendItem\"},{\"attributes\":{\"background_fill_color\":{\"value\":\"white\"},\"border_line_alpha\":{\"value\":0.0},\"plot\":{\"id\":\"c8456f52-751e-4ecb-9600-a08281348636\",\"subtype\":\"Figure\",\"type\":\"Plot\"},\"render_mode\":\"css\",\"text\":\"training KS: 91.56%\",\"x\":70,\"x_units\":\"screen\",\"y\":-20,\"y_units\":\"screen\"},\"id\":\"3d374123-1cb6-4293-9038-bf8099255428\",\"type\":\"Label\"},{\"attributes\":{\"axis_label\":\"Cumulative Event\",\"formatter\":{\"id\":\"53b58b06-25c5-43b0-9ad2-b683b0df6b91\",\"type\":\"BasicTickFormatter\"},\"plot\":{\"id\":\"c8456f52-751e-4ecb-9600-a08281348636\",\"subtype\":\"Figure\",\"type\":\"Plot\"},\"ticker\":{\"id\":\"d7a78e2b-3b3c-45a1-9226-eef17b4cae3b\",\"type\":\"BasicTicker\"}},\"id\":\"f625c49f-9bfa-4d53-a4e3-ab1ef1a21215\",\"type\":\"LinearAxis\"},{\"attributes\":{\"items\":[{\"id\":\"7036c4fe-7f45-457f-9d6d-b42403047e7d\",\"type\":\"LegendItem\"},{\"id\":\"9a68738e-28f8-4250-b691-6c7dbc261cc0\",\"type\":\"LegendItem\"},{\"id\":\"422a157d-84cf-424e-ba48-fcdeb71b0c75\",\"type\":\"LegendItem\"}],\"location\":\"bottom_right\",\"plot\":{\"id\":\"c8456f52-751e-4ecb-9600-a08281348636\",\"subtype\":\"Figure\",\"type\":\"Plot\"}},\"id\":\"90de6a02-2592-49c7-bb89-883c73876770\",\"type\":\"Legend\"},{\"attributes\":{\"data_source\":{\"id\":\"788b9546-6a00-4814-8d7b-dd31ab3e3299\",\"type\":\"ColumnDataSource\"},\"glyph\":{\"id\":\"ee2209f9-1a8a-48f8-bf08-2ae6a28ead53\",\"type\":\"Line\"},\"hover_glyph\":null,\"muted_glyph\":null,\"nonselection_glyph\":{\"id\":\"44936c2a-35c9-4ce6-b825-43f406f5fdbd\",\"type\":\"Line\"},\"selection_glyph\":null,\"view\":{\"id\":\"d1bd26c7-7f68-4995-b079-3e8c332259be\",\"type\":\"CDSView\"}},\"id\":\"5a90cf88-e759-41e3-b821-4fa591b307a6\",\"type\":\"GlyphRenderer\"},{\"attributes\":{\"data_source\":{\"id\":\"d9666b71-1dad-4f0c-a7fd-92bbbb516eec\",\"type\":\"ColumnDataSource\"},\"glyph\":{\"id\":\"718656fd-038d-4f56-bf24-4334dba13ac5\",\"type\":\"Line\"},\"hover_glyph\":null,\"muted_glyph\":null,\"nonselection_glyph\":{\"id\":\"2089e13c-f1bf-42fc-a91a-423590759244\",\"type\":\"Line\"},\"selection_glyph\":null,\"view\":{\"id\":\"4df024c5-2d48-4a1f-be34-61aac2cd7c52\",\"type\":\"CDSView\"}},\"id\":\"77ccb0fe-995f-4834-8f37-a6be646e9a7a\",\"type\":\"GlyphRenderer\"},{\"attributes\":{\"line_alpha\":0.5,\"line_width\":2,\"x\":{\"field\":\"x\"},\"y\":{\"field\":\"y\"}},\"id\":\"81ac3a5e-d690-4a4e-88de-1266320ebe39\",\"type\":\"Line\"},{\"attributes\":{\"background_fill_color\":{\"value\":\"white\"},\"border_line_alpha\":{\"value\":0.0},\"plot\":{\"id\":\"c8456f52-751e-4ecb-9600-a08281348636\",\"subtype\":\"Figure\",\"type\":\"Plot\"},\"render_mode\":\"css\",\"text\":\"test1 Gini: 83.21%\",\"x\":250,\"x_units\":\"screen\",\"y\":-60,\"y_units\":\"screen\"},\"id\":\"d6ae4180-b0c6-438d-a097-3a036cf2d988\",\"type\":\"Label\"},{\"attributes\":{\"line_color\":\"#E46713\",\"line_width\":2,\"x\":{\"field\":\"x\"},\"y\":{\"field\":\"y\"}},\"id\":\"ee2209f9-1a8a-48f8-bf08-2ae6a28ead53\",\"type\":\"Line\"},{\"attributes\":{},\"id\":\"fd830fdd-1893-46c5-831e-1d1e16ac9cb8\",\"type\":\"BasicTicker\"},{\"attributes\":{\"source\":{\"id\":\"33c641b9-a2be-4ba3-a1a0-d7699da20877\",\"type\":\"ColumnDataSource\"}},\"id\":\"9969f4c5-7a2d-4102-8b78-42c525c7b36b\",\"type\":\"CDSView\"},{\"attributes\":{\"below\":[{\"id\":\"28207524-e025-4675-8b5b-9573055547f5\",\"type\":\"LinearAxis\"}],\"left\":[{\"id\":\"f625c49f-9bfa-4d53-a4e3-ab1ef1a21215\",\"type\":\"LinearAxis\"}],\"plot_height\":400,\"renderers\":[{\"id\":\"28207524-e025-4675-8b5b-9573055547f5\",\"type\":\"LinearAxis\"},{\"id\":\"cd3d9c50-63b6-455b-a8ba-e1191a2551d7\",\"type\":\"Grid\"},{\"id\":\"f625c49f-9bfa-4d53-a4e3-ab1ef1a21215\",\"type\":\"LinearAxis\"},{\"id\":\"0cc6689a-f593-45f7-a332-ae9ca00c0e2c\",\"type\":\"Grid\"},{\"id\":\"144d19ec-fb25-4291-b727-c45fb6536caf\",\"type\":\"BoxAnnotation\"},{\"id\":\"90de6a02-2592-49c7-bb89-883c73876770\",\"type\":\"Legend\"},{\"id\":\"28a8283e-f880-467e-b7fc-84aa4ab92be8\",\"type\":\"GlyphRenderer\"},{\"id\":\"77ccb0fe-995f-4834-8f37-a6be646e9a7a\",\"type\":\"GlyphRenderer\"},{\"id\":\"5a90cf88-e759-41e3-b821-4fa591b307a6\",\"type\":\"GlyphRenderer\"},{\"id\":\"3d374123-1cb6-4293-9038-bf8099255428\",\"type\":\"Label\"},{\"id\":\"7ab0c253-b9e6-4652-928d-9555f96c2776\",\"type\":\"Label\"},{\"id\":\"beb0668b-a5aa-47b6-b775-fd17dc0ad3d7\",\"type\":\"Label\"},{\"id\":\"20fe7ecd-409b-4a9a-8e1a-480bc2a22a92\",\"type\":\"Label\"},{\"id\":\"829982dd-07d7-4105-bb9d-ea75ba36355e\",\"type\":\"GlyphRenderer\"},{\"id\":\"3c13009c-b2ee-420c-98b0-a94f716ef9a5\",\"type\":\"Label\"},{\"id\":\"d6ae4180-b0c6-438d-a097-3a036cf2d988\",\"type\":\"Label\"}],\"title\":{\"id\":\"c94e0944-c6f9-4dd1-8d15-cccd83e39a4b\",\"type\":\"Title\"},\"toolbar\":{\"id\":\"f11df554-1d14-436e-8b72-9e8b2bd6097c\",\"type\":\"Toolbar\"},\"x_range\":{\"id\":\"c22aea53-3475-4394-b5a8-b82cc37b2b56\",\"type\":\"Range1d\"},\"x_scale\":{\"id\":\"5ab0eaed-2daa-49a7-aecb-55cb8ce6d8c3\",\"type\":\"LinearScale\"},\"y_range\":{\"id\":\"f9fe20a0-6814-4993-8633-faec79c16cc5\",\"type\":\"Range1d\"},\"y_scale\":{\"id\":\"9ee8f23c-ddb3-4ddc-be4e-28923fef8b83\",\"type\":\"LinearScale\"}},\"id\":\"c8456f52-751e-4ecb-9600-a08281348636\",\"subtype\":\"Figure\",\"type\":\"Plot\"},{\"attributes\":{\"plot\":{\"id\":\"c8456f52-751e-4ecb-9600-a08281348636\",\"subtype\":\"Figure\",\"type\":\"Plot\"},\"ticker\":{\"id\":\"fd830fdd-1893-46c5-831e-1d1e16ac9cb8\",\"type\":\"BasicTicker\"}},\"id\":\"cd3d9c50-63b6-455b-a8ba-e1191a2551d7\",\"type\":\"Grid\"},{\"attributes\":{\"callback\":null},\"id\":\"c22aea53-3475-4394-b5a8-b82cc37b2b56\",\"type\":\"Range1d\"},{\"attributes\":{},\"id\":\"6d9b40d4-3c7e-4b65-8b67-216188ea76b1\",\"type\":\"ResetTool\"},{\"attributes\":{\"label\":{\"value\":\"Event distribution - test1\"},\"renderers\":[{\"id\":\"829982dd-07d7-4105-bb9d-ea75ba36355e\",\"type\":\"GlyphRenderer\"}]},\"id\":\"422a157d-84cf-424e-ba48-fcdeb71b0c75\",\"type\":\"LegendItem\"},{\"attributes\":{\"callback\":null,\"column_names\":[\"x\",\"y\"],\"data\":{\"x\":{\"__ndarray__\":\"AAAAAAAAAAAAAAAAAAAAAAAAAAAAAAAArLcvuzKZtT/cl12ZzIrLP/Gpkep/JNY/waWyveuA3j/7siuTWXHjP/0hHWLmoOc//pAOMXPQ6z8AAAAAAADwPw==\",\"dtype\":\"float64\",\"shape\":[11]},\"y\":{\"__ndarray__\":\"AAAAAAAAAAAJkOGHaiTbPyIOis4cLes/AAAAAAAA8D8AAAAAAADwPwAAAAAAAPA/AAAAAAAA8D8AAAAAAADwPwAAAAAAAPA/AAAAAAAA8D8AAAAAAADwPw==\",\"dtype\":\"float64\",\"shape\":[11]}}},\"id\":\"33c641b9-a2be-4ba3-a1a0-d7699da20877\",\"type\":\"ColumnDataSource\"},{\"attributes\":{\"line_alpha\":0.5,\"line_color\":\"#97291E\",\"line_width\":2,\"x\":{\"field\":\"x\"},\"y\":{\"field\":\"y\"}},\"id\":\"718656fd-038d-4f56-bf24-4334dba13ac5\",\"type\":\"Line\"},{\"attributes\":{\"plot\":null,\"text\":\"Gini curve for SVM\"},\"id\":\"c94e0944-c6f9-4dd1-8d15-cccd83e39a4b\",\"type\":\"Title\"},{\"attributes\":{},\"id\":\"53b58b06-25c5-43b0-9ad2-b683b0df6b91\",\"type\":\"BasicTickFormatter\"},{\"attributes\":{\"data_source\":{\"id\":\"33c641b9-a2be-4ba3-a1a0-d7699da20877\",\"type\":\"ColumnDataSource\"},\"glyph\":{\"id\":\"1c4260e3-16fc-4e77-b7d2-acb7715c7d8c\",\"type\":\"Line\"},\"hover_glyph\":null,\"muted_glyph\":null,\"nonselection_glyph\":{\"id\":\"8f8a9ba7-46da-4e45-a37f-50db2bd17a33\",\"type\":\"Line\"},\"selection_glyph\":null,\"view\":{\"id\":\"9969f4c5-7a2d-4102-8b78-42c525c7b36b\",\"type\":\"CDSView\"}},\"id\":\"28a8283e-f880-467e-b7fc-84aa4ab92be8\",\"type\":\"GlyphRenderer\"},{\"attributes\":{},\"id\":\"f4e3ed20-ee62-468f-8277-3a20d9dac8d9\",\"type\":\"PanTool\"},{\"attributes\":{},\"id\":\"55d1cceb-6f99-464a-a1c9-192ef4a94442\",\"type\":\"SaveTool\"},{\"attributes\":{},\"id\":\"9aded866-72ad-4874-9716-1c2564c8e4e6\",\"type\":\"WheelZoomTool\"},{\"attributes\":{},\"id\":\"d7a78e2b-3b3c-45a1-9226-eef17b4cae3b\",\"type\":\"BasicTicker\"},{\"attributes\":{\"dimension\":1,\"plot\":{\"id\":\"c8456f52-751e-4ecb-9600-a08281348636\",\"subtype\":\"Figure\",\"type\":\"Plot\"},\"ticker\":{\"id\":\"d7a78e2b-3b3c-45a1-9226-eef17b4cae3b\",\"type\":\"BasicTicker\"}},\"id\":\"0cc6689a-f593-45f7-a332-ae9ca00c0e2c\",\"type\":\"Grid\"},{\"attributes\":{\"bottom_units\":\"screen\",\"fill_alpha\":{\"value\":0.5},\"fill_color\":{\"value\":\"lightgrey\"},\"left_units\":\"screen\",\"level\":\"overlay\",\"line_alpha\":{\"value\":1.0},\"line_color\":{\"value\":\"black\"},\"line_dash\":[4,4],\"line_width\":{\"value\":2},\"plot\":null,\"render_mode\":\"css\",\"right_units\":\"screen\",\"top_units\":\"screen\"},\"id\":\"144d19ec-fb25-4291-b727-c45fb6536caf\",\"type\":\"BoxAnnotation\"},{\"attributes\":{\"callback\":null,\"column_names\":[\"x\",\"y\"],\"data\":{\"x\":{\"__ndarray__\":\"AAAAAAAAAACSVwE0H3lFP5JXATQfeVU/osd34SB63D9z3uvzK+fdP/P3x0Qpf98/DAfR47tw4D9vQo6I6ybkP9B85FUAzec/jrujyN646z8AAAAAAADwPw==\",\"dtype\":\"float64\",\"shape\":[11]},\"y\":{\"__ndarray__\":\"AAAAAAAAAAAbo+00KzjcP/2uFjdhfuc/mN/V4ibM7z+Y39XiJszvP5jf1eImzO8/mN/V4ibM7z+Y39XiJszvP2bq40Fv3e8/M/XxoLfu7z8AAAAAAADwPw==\",\"dtype\":\"float64\",\"shape\":[11]}}},\"id\":\"d9666b71-1dad-4f0c-a7fd-92bbbb516eec\",\"type\":\"ColumnDataSource\"},{\"attributes\":{},\"id\":\"9ee8f23c-ddb3-4ddc-be4e-28923fef8b83\",\"type\":\"LinearScale\"},{\"attributes\":{\"overlay\":{\"id\":\"144d19ec-fb25-4291-b727-c45fb6536caf\",\"type\":\"BoxAnnotation\"}},\"id\":\"53774ecb-a5ea-4703-984d-93300a5edcd9\",\"type\":\"BoxZoomTool\"},{\"attributes\":{\"source\":{\"id\":\"788b9546-6a00-4814-8d7b-dd31ab3e3299\",\"type\":\"ColumnDataSource\"}},\"id\":\"d1bd26c7-7f68-4995-b079-3e8c332259be\",\"type\":\"CDSView\"},{\"attributes\":{\"callback\":null,\"column_names\":[\"x\",\"y\"],\"data\":{\"x\":{\"__ndarray__\":\"AAAAAAAAAACOuy/s19FcP467L+zX0Vw/HV4+G3df2D8MajmRq2bYP46ZtqUg3+E/qOVErprh5j/Vv2xtugTrPwAAAAAAAPA/\",\"dtype\":\"float64\",\"shape\":[9]},\"y\":{\"__ndarray__\":\"AAAAAAAAAABiQjS8v93cP5eBzdJ/PuM/gD6TY06a7z+APpNjTprvP0fbx6LnsO8/qyliQjS87z9yxpaBzdLvPwAAAAAAAPA/\",\"dtype\":\"float64\",\"shape\":[9]}}},\"id\":\"767e3529-3ad5-4d79-9fbb-04964b51b54a\",\"type\":\"ColumnDataSource\"},{\"attributes\":{\"callback\":null},\"id\":\"f9fe20a0-6814-4993-8633-faec79c16cc5\",\"type\":\"Range1d\"},{\"attributes\":{\"source\":{\"id\":\"767e3529-3ad5-4d79-9fbb-04964b51b54a\",\"type\":\"ColumnDataSource\"}},\"id\":\"fdf6d867-555b-4369-ac2b-60ddc5a6021c\",\"type\":\"CDSView\"},{\"attributes\":{\"active_drag\":\"auto\",\"active_inspect\":\"auto\",\"active_scroll\":\"auto\",\"active_tap\":\"auto\",\"tools\":[{\"id\":\"f4e3ed20-ee62-468f-8277-3a20d9dac8d9\",\"type\":\"PanTool\"},{\"id\":\"9aded866-72ad-4874-9716-1c2564c8e4e6\",\"type\":\"WheelZoomTool\"},{\"id\":\"53774ecb-a5ea-4703-984d-93300a5edcd9\",\"type\":\"BoxZoomTool\"},{\"id\":\"55d1cceb-6f99-464a-a1c9-192ef4a94442\",\"type\":\"SaveTool\"},{\"id\":\"6d9b40d4-3c7e-4b65-8b67-216188ea76b1\",\"type\":\"ResetTool\"},{\"id\":\"649b2868-7b75-4033-af4e-e3d061e2860a\",\"type\":\"HelpTool\"}]},\"id\":\"f11df554-1d14-436e-8b72-9e8b2bd6097c\",\"type\":\"Toolbar\"},{\"attributes\":{},\"id\":\"c9547014-26a0-4817-a8cd-7cb7534475a3\",\"type\":\"BasicTickFormatter\"},{\"attributes\":{\"callback\":null,\"column_names\":[\"x\",\"y\"],\"data\":{\"x\":{\"__ndarray__\":\"AAAAAAAAAAAAAAAAAAAAAAAAAAAAAAAArLcvuzKZtT/cl12ZzIrLP/Gpkep/JNY/waWyveuA3j/7siuTWXHjP/0hHWLmoOc//pAOMXPQ6z8AAAAAAADwPw==\",\"dtype\":\"float64\",\"shape\":[11]},\"y\":{\"__ndarray__\":\"AAAAAAAAAAAAAAAAAAAAAAAAAAAAAAAArLcvuzKZtT/cl12ZzIrLP/Gpkep/JNY/waWyveuA3j/7siuTWXHjP/0hHWLmoOc//pAOMXPQ6z8AAAAAAADwPw==\",\"dtype\":\"float64\",\"shape\":[11]}}},\"id\":\"788b9546-6a00-4814-8d7b-dd31ab3e3299\",\"type\":\"ColumnDataSource\"},{\"attributes\":{\"background_fill_color\":{\"value\":\"white\"},\"border_line_alpha\":{\"value\":0.0},\"plot\":{\"id\":\"c8456f52-751e-4ecb-9600-a08281348636\",\"subtype\":\"Figure\",\"type\":\"Plot\"},\"render_mode\":\"css\",\"text\":\"test KS: 73.29%\",\"x\":70,\"x_units\":\"screen\",\"y\":-40,\"y_units\":\"screen\"},\"id\":\"beb0668b-a5aa-47b6-b775-fd17dc0ad3d7\",\"type\":\"Label\"},{\"attributes\":{\"line_alpha\":0.1,\"line_color\":\"#1f77b4\",\"line_width\":2,\"x\":{\"field\":\"x\"},\"y\":{\"field\":\"y\"}},\"id\":\"2089e13c-f1bf-42fc-a91a-423590759244\",\"type\":\"Line\"},{\"attributes\":{\"background_fill_color\":{\"value\":\"white\"},\"border_line_alpha\":{\"value\":0.0},\"plot\":{\"id\":\"c8456f52-751e-4ecb-9600-a08281348636\",\"subtype\":\"Figure\",\"type\":\"Plot\"},\"render_mode\":\"css\",\"text\":\"test Gini: 87.31%\",\"x\":250,\"x_units\":\"screen\",\"y\":-40,\"y_units\":\"screen\"},\"id\":\"20fe7ecd-409b-4a9a-8e1a-480bc2a22a92\",\"type\":\"Label\"},{\"attributes\":{\"label\":{\"value\":\"Event distribution - test\"},\"renderers\":[{\"id\":\"77ccb0fe-995f-4834-8f37-a6be646e9a7a\",\"type\":\"GlyphRenderer\"}]},\"id\":\"9a68738e-28f8-4250-b691-6c7dbc261cc0\",\"type\":\"LegendItem\"},{\"attributes\":{},\"id\":\"5ab0eaed-2daa-49a7-aecb-55cb8ce6d8c3\",\"type\":\"LinearScale\"}],\"root_ids\":[\"c8456f52-751e-4ecb-9600-a08281348636\"]},\"title\":\"Bokeh Application\",\"version\":\"0.12.13\"}};\n",
       "  var render_items = [{\"docid\":\"3752df35-0975-4db3-a2bc-3696711525c1\",\"elementid\":\"9a27fca1-8b62-4924-bea9-cc903e2ca469\",\"modelid\":\"c8456f52-751e-4ecb-9600-a08281348636\"}];\n",
       "  root.Bokeh.embed.embed_items_notebook(docs_json, render_items);\n",
       "\n",
       "  }\n",
       "  if (root.Bokeh !== undefined) {\n",
       "    embed_document(root);\n",
       "  } else {\n",
       "    var attempts = 0;\n",
       "    var timer = setInterval(function(root) {\n",
       "      if (root.Bokeh !== undefined) {\n",
       "        embed_document(root);\n",
       "        clearInterval(timer);\n",
       "      }\n",
       "      attempts++;\n",
       "      if (attempts > 100) {\n",
       "        console.log(\"Bokeh: ERROR: Unable to run BokehJS code because BokehJS library is missing\")\n",
       "        clearInterval(timer);\n",
       "      }\n",
       "    }, 10, root)\n",
       "  }\n",
       "})(window);"
      ],
      "application/vnd.bokehjs_exec.v0+json": ""
     },
     "metadata": {
      "application/vnd.bokehjs_exec.v0+json": {
       "id": "c8456f52-751e-4ecb-9600-a08281348636"
      }
     },
     "output_type": "display_data"
    },
    {
     "name": "stdout",
     "output_type": "stream",
     "text": [
      "Re-fitting on the full data...\n",
      "Re-fitting on the full data...\n"
     ]
    }
   ],
   "source": [
    "ms.test_on_holdout_data(X=holdout_data.loc[:, holdout_data.columns!=ms.target], y = holdout_data.loc[:, ms.target])"
   ]
  },
  {
   "cell_type": "code",
   "execution_count": 29,
   "metadata": {},
   "outputs": [],
   "source": [
    "ms.save_model_objects()"
   ]
  },
  {
   "cell_type": "code",
   "execution_count": 38,
   "metadata": {},
   "outputs": [],
   "source": [
    "predictions = Model_selection.model_apply(new_data, model=\"gbm.pkl\", predict_proba=True)"
   ]
  },
  {
   "cell_type": "code",
   "execution_count": 39,
   "metadata": {},
   "outputs": [
    {
     "data": {
      "text/plain": [
       "array([[  9.92061644e-01,   7.93835561e-03],\n",
       "       [  9.97089142e-01,   2.91085757e-03],\n",
       "       [  9.97543972e-01,   2.45602829e-03],\n",
       "       ..., \n",
       "       [  5.14494029e-03,   9.94855060e-01],\n",
       "       [  9.99004638e-01,   9.95361564e-04],\n",
       "       [  8.92988605e-04,   9.99107011e-01]])"
      ]
     },
     "execution_count": 39,
     "metadata": {},
     "output_type": "execute_result"
    }
   ],
   "source": [
    "predictions"
   ]
  },
  {
   "cell_type": "code",
   "execution_count": null,
   "metadata": {},
   "outputs": [],
   "source": []
  },
  {
   "cell_type": "code",
   "execution_count": null,
   "metadata": {},
   "outputs": [],
   "source": []
  }
 ],
 "metadata": {
  "kernelspec": {
   "display_name": "Python 3",
   "language": "python",
   "name": "python3"
  },
  "language_info": {
   "codemirror_mode": {
    "name": "ipython",
    "version": 3
   },
   "file_extension": ".py",
   "mimetype": "text/x-python",
   "name": "python",
   "nbconvert_exporter": "python",
   "pygments_lexer": "ipython3",
   "version": "3.6.3"
  }
 },
 "nbformat": 4,
 "nbformat_minor": 2
}
